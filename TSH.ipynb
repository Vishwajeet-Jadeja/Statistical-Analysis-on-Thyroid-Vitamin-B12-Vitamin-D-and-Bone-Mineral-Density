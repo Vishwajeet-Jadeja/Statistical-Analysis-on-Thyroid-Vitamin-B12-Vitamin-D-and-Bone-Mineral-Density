{
 "cells": [
  {
   "cell_type": "markdown",
   "metadata": {},
   "source": [
    "# Thyroid TSH Analysis"
   ]
  },
  {
   "cell_type": "code",
   "execution_count": 528,
   "metadata": {},
   "outputs": [],
   "source": [
    "import MySQLdb\n",
    "import pandas as pd\n",
    "import numpy as np\n",
    "import matplotlib.pyplot as plt\n",
    "from scipy import stats\n",
    "import seaborn as sns"
   ]
  },
  {
   "cell_type": "code",
   "execution_count": 529,
   "metadata": {},
   "outputs": [],
   "source": [
    "conn = MySQLdb.connect(host = 'localhost', user = 'root', passwd = 'mysql')"
   ]
  },
  {
   "cell_type": "code",
   "execution_count": 530,
   "metadata": {},
   "outputs": [],
   "source": [
    "cursor = conn.cursor()"
   ]
  },
  {
   "cell_type": "code",
   "execution_count": 531,
   "metadata": {},
   "outputs": [
    {
     "data": {
      "text/plain": [
       "0"
      ]
     },
     "execution_count": 531,
     "metadata": {},
     "output_type": "execute_result"
    }
   ],
   "source": [
    "cursor.execute('use health_camp')"
   ]
  },
  {
   "cell_type": "code",
   "execution_count": 532,
   "metadata": {},
   "outputs": [
    {
     "data": {
      "text/html": [
       "<div>\n",
       "<style scoped>\n",
       "    .dataframe tbody tr th:only-of-type {\n",
       "        vertical-align: middle;\n",
       "    }\n",
       "\n",
       "    .dataframe tbody tr th {\n",
       "        vertical-align: top;\n",
       "    }\n",
       "\n",
       "    .dataframe thead th {\n",
       "        text-align: right;\n",
       "    }\n",
       "</style>\n",
       "<table border=\"1\" class=\"dataframe\">\n",
       "  <thead>\n",
       "    <tr style=\"text-align: right;\">\n",
       "      <th></th>\n",
       "      <th>Age</th>\n",
       "      <th>Eating Habits</th>\n",
       "      <th>Gender</th>\n",
       "      <th>Q1</th>\n",
       "      <th>Q2</th>\n",
       "      <th>Q3</th>\n",
       "      <th>Q4</th>\n",
       "      <th>Q5</th>\n",
       "      <th>Q6</th>\n",
       "      <th>Q7</th>\n",
       "      <th>...</th>\n",
       "      <th>Q31</th>\n",
       "      <th>Q32</th>\n",
       "      <th>Q33</th>\n",
       "      <th>Q34</th>\n",
       "      <th>Q35</th>\n",
       "      <th>Q36</th>\n",
       "      <th>Q37</th>\n",
       "      <th>Q38</th>\n",
       "      <th>R_TSH</th>\n",
       "      <th>R_B12</th>\n",
       "    </tr>\n",
       "  </thead>\n",
       "  <tbody>\n",
       "    <tr>\n",
       "      <th>0</th>\n",
       "      <td>38</td>\n",
       "      <td>Vegetarian</td>\n",
       "      <td>Female</td>\n",
       "      <td>1</td>\n",
       "      <td>1</td>\n",
       "      <td>1</td>\n",
       "      <td>1</td>\n",
       "      <td>1</td>\n",
       "      <td>0</td>\n",
       "      <td>0</td>\n",
       "      <td>...</td>\n",
       "      <td>1</td>\n",
       "      <td>0</td>\n",
       "      <td>Household</td>\n",
       "      <td>0</td>\n",
       "      <td>1.0</td>\n",
       "      <td>0.0</td>\n",
       "      <td>0.0</td>\n",
       "      <td>0</td>\n",
       "      <td>0</td>\n",
       "      <td>0</td>\n",
       "    </tr>\n",
       "    <tr>\n",
       "      <th>1</th>\n",
       "      <td>38</td>\n",
       "      <td>Vegetarian</td>\n",
       "      <td>Male</td>\n",
       "      <td>0</td>\n",
       "      <td>0</td>\n",
       "      <td>0</td>\n",
       "      <td>1</td>\n",
       "      <td>1</td>\n",
       "      <td>1</td>\n",
       "      <td>0</td>\n",
       "      <td>...</td>\n",
       "      <td>0</td>\n",
       "      <td>0</td>\n",
       "      <td>Office</td>\n",
       "      <td>0</td>\n",
       "      <td>0.0</td>\n",
       "      <td>0.0</td>\n",
       "      <td>1.0</td>\n",
       "      <td>0</td>\n",
       "      <td>0</td>\n",
       "      <td>1</td>\n",
       "    </tr>\n",
       "    <tr>\n",
       "      <th>2</th>\n",
       "      <td>20</td>\n",
       "      <td>Vegetarian</td>\n",
       "      <td>Female</td>\n",
       "      <td>0</td>\n",
       "      <td>0</td>\n",
       "      <td>0</td>\n",
       "      <td>0</td>\n",
       "      <td>0</td>\n",
       "      <td>0</td>\n",
       "      <td>0</td>\n",
       "      <td>...</td>\n",
       "      <td>0</td>\n",
       "      <td>0</td>\n",
       "      <td>Household</td>\n",
       "      <td>1</td>\n",
       "      <td>0.0</td>\n",
       "      <td>0.0</td>\n",
       "      <td>NaN</td>\n",
       "      <td>0</td>\n",
       "      <td>0</td>\n",
       "      <td>None</td>\n",
       "    </tr>\n",
       "    <tr>\n",
       "      <th>3</th>\n",
       "      <td>25</td>\n",
       "      <td>Non - Vegetarian</td>\n",
       "      <td>Female</td>\n",
       "      <td>1</td>\n",
       "      <td>0</td>\n",
       "      <td>0</td>\n",
       "      <td>0</td>\n",
       "      <td>1</td>\n",
       "      <td>0</td>\n",
       "      <td>0</td>\n",
       "      <td>...</td>\n",
       "      <td>1</td>\n",
       "      <td>0</td>\n",
       "      <td>Outdoor</td>\n",
       "      <td>1</td>\n",
       "      <td>0.0</td>\n",
       "      <td>0.0</td>\n",
       "      <td>0.0</td>\n",
       "      <td>0</td>\n",
       "      <td>0</td>\n",
       "      <td>None</td>\n",
       "    </tr>\n",
       "    <tr>\n",
       "      <th>4</th>\n",
       "      <td>51</td>\n",
       "      <td>Non - Vegetarian</td>\n",
       "      <td>Female</td>\n",
       "      <td>0</td>\n",
       "      <td>0</td>\n",
       "      <td>0</td>\n",
       "      <td>0</td>\n",
       "      <td>1</td>\n",
       "      <td>0</td>\n",
       "      <td>0</td>\n",
       "      <td>...</td>\n",
       "      <td>1</td>\n",
       "      <td>0</td>\n",
       "      <td>Office</td>\n",
       "      <td>1</td>\n",
       "      <td>0.0</td>\n",
       "      <td>0.0</td>\n",
       "      <td>0.0</td>\n",
       "      <td>0</td>\n",
       "      <td>0</td>\n",
       "      <td>0</td>\n",
       "    </tr>\n",
       "  </tbody>\n",
       "</table>\n",
       "<p>5 rows × 31 columns</p>\n",
       "</div>"
      ],
      "text/plain": [
       "   Age     Eating Habits  Gender  Q1  Q2  Q3  Q4  Q5  Q6  Q7  ...    Q31  Q32  \\\n",
       "0   38        Vegetarian  Female   1   1   1   1   1   0   0  ...      1    0   \n",
       "1   38        Vegetarian    Male   0   0   0   1   1   1   0  ...      0    0   \n",
       "2   20        Vegetarian  Female   0   0   0   0   0   0   0  ...      0    0   \n",
       "3   25  Non - Vegetarian  Female   1   0   0   0   1   0   0  ...      1    0   \n",
       "4   51  Non - Vegetarian  Female   0   0   0   0   1   0   0  ...      1    0   \n",
       "\n",
       "         Q33  Q34  Q35  Q36  Q37  Q38  R_TSH  R_B12  \n",
       "0  Household    0  1.0  0.0  0.0    0      0      0  \n",
       "1     Office    0  0.0  0.0  1.0    0      0      1  \n",
       "2  Household    1  0.0  0.0  NaN    0      0   None  \n",
       "3    Outdoor    1  0.0  0.0  0.0    0      0   None  \n",
       "4     Office    1  0.0  0.0  0.0    0      0      0  \n",
       "\n",
       "[5 rows x 31 columns]"
      ]
     },
     "execution_count": 532,
     "metadata": {},
     "output_type": "execute_result"
    }
   ],
   "source": [
    "cursor.execute('select age, eating_habits, gender, Q1, Q2, Q3, Q4, Q5, Q6, Q7, Q8, Q9, Q10, Q11, Q12, Q13, Q14, Q15, Q16, Q29, Q30, Q31, Q32, Q33, Q34, Q35, Q36, Q37, Q38, R_TSH, R_B12 from profile, questions, reports where profile.P_Id = questions.P_Id and questions.R_Id = reports.R_Id and R_TSH != \"NULL\"')\n",
    "TSH = pd.DataFrame(list(cursor.fetchall()), columns = ['Age', 'Eating Habits', 'Gender', 'Q1', 'Q2', 'Q3', 'Q4', 'Q5', 'Q6', 'Q7', 'Q8', 'Q9', 'Q10', 'Q11', 'Q12', 'Q13', 'Q14', 'Q15', 'Q16', 'Q29', 'Q30', 'Q31', 'Q32', 'Q33', 'Q34', 'Q35', 'Q36', 'Q37', 'Q38', 'R_TSH', 'R_B12'])\n",
    "TSH.head()"
   ]
  },
  {
   "cell_type": "code",
   "execution_count": 533,
   "metadata": {},
   "outputs": [
    {
     "data": {
      "text/html": [
       "<div>\n",
       "<style scoped>\n",
       "    .dataframe tbody tr th:only-of-type {\n",
       "        vertical-align: middle;\n",
       "    }\n",
       "\n",
       "    .dataframe tbody tr th {\n",
       "        vertical-align: top;\n",
       "    }\n",
       "\n",
       "    .dataframe thead th {\n",
       "        text-align: right;\n",
       "    }\n",
       "</style>\n",
       "<table border=\"1\" class=\"dataframe\">\n",
       "  <thead>\n",
       "    <tr style=\"text-align: right;\">\n",
       "      <th></th>\n",
       "      <th>Age</th>\n",
       "      <th>Q1</th>\n",
       "      <th>Q2</th>\n",
       "      <th>Q3</th>\n",
       "      <th>Q4</th>\n",
       "      <th>Q5</th>\n",
       "      <th>Q6</th>\n",
       "      <th>Q7</th>\n",
       "      <th>Q8</th>\n",
       "      <th>Q9</th>\n",
       "      <th>...</th>\n",
       "      <th>Q16</th>\n",
       "      <th>Q29</th>\n",
       "      <th>Q30</th>\n",
       "      <th>Q31</th>\n",
       "      <th>Q32</th>\n",
       "      <th>Q34</th>\n",
       "      <th>Q35</th>\n",
       "      <th>Q36</th>\n",
       "      <th>Q37</th>\n",
       "      <th>Q38</th>\n",
       "    </tr>\n",
       "  </thead>\n",
       "  <tbody>\n",
       "    <tr>\n",
       "      <th>count</th>\n",
       "      <td>63.000000</td>\n",
       "      <td>63.000000</td>\n",
       "      <td>63.000000</td>\n",
       "      <td>63.000000</td>\n",
       "      <td>63.000000</td>\n",
       "      <td>63.000000</td>\n",
       "      <td>63.000000</td>\n",
       "      <td>63.000000</td>\n",
       "      <td>62.000000</td>\n",
       "      <td>63.000000</td>\n",
       "      <td>...</td>\n",
       "      <td>63.000000</td>\n",
       "      <td>63.000000</td>\n",
       "      <td>62.000000</td>\n",
       "      <td>63.000000</td>\n",
       "      <td>63.000000</td>\n",
       "      <td>63.000000</td>\n",
       "      <td>62.000000</td>\n",
       "      <td>55.000000</td>\n",
       "      <td>62.000000</td>\n",
       "      <td>63.000000</td>\n",
       "    </tr>\n",
       "    <tr>\n",
       "      <th>mean</th>\n",
       "      <td>47.444444</td>\n",
       "      <td>0.523810</td>\n",
       "      <td>0.222222</td>\n",
       "      <td>0.285714</td>\n",
       "      <td>0.412698</td>\n",
       "      <td>0.380952</td>\n",
       "      <td>0.301587</td>\n",
       "      <td>0.476190</td>\n",
       "      <td>0.370968</td>\n",
       "      <td>0.380952</td>\n",
       "      <td>...</td>\n",
       "      <td>0.301587</td>\n",
       "      <td>0.285714</td>\n",
       "      <td>0.387097</td>\n",
       "      <td>0.444444</td>\n",
       "      <td>0.047619</td>\n",
       "      <td>0.650794</td>\n",
       "      <td>0.451613</td>\n",
       "      <td>0.109091</td>\n",
       "      <td>0.322581</td>\n",
       "      <td>0.206349</td>\n",
       "    </tr>\n",
       "    <tr>\n",
       "      <th>std</th>\n",
       "      <td>14.731771</td>\n",
       "      <td>0.503444</td>\n",
       "      <td>0.419079</td>\n",
       "      <td>0.455383</td>\n",
       "      <td>0.496274</td>\n",
       "      <td>0.489522</td>\n",
       "      <td>0.462633</td>\n",
       "      <td>0.503444</td>\n",
       "      <td>0.487007</td>\n",
       "      <td>0.489522</td>\n",
       "      <td>...</td>\n",
       "      <td>0.462633</td>\n",
       "      <td>0.455383</td>\n",
       "      <td>0.491062</td>\n",
       "      <td>0.500895</td>\n",
       "      <td>0.214669</td>\n",
       "      <td>0.480548</td>\n",
       "      <td>0.501716</td>\n",
       "      <td>0.314627</td>\n",
       "      <td>0.471280</td>\n",
       "      <td>0.407935</td>\n",
       "    </tr>\n",
       "    <tr>\n",
       "      <th>min</th>\n",
       "      <td>11.000000</td>\n",
       "      <td>0.000000</td>\n",
       "      <td>0.000000</td>\n",
       "      <td>0.000000</td>\n",
       "      <td>0.000000</td>\n",
       "      <td>0.000000</td>\n",
       "      <td>0.000000</td>\n",
       "      <td>0.000000</td>\n",
       "      <td>0.000000</td>\n",
       "      <td>0.000000</td>\n",
       "      <td>...</td>\n",
       "      <td>0.000000</td>\n",
       "      <td>0.000000</td>\n",
       "      <td>0.000000</td>\n",
       "      <td>0.000000</td>\n",
       "      <td>0.000000</td>\n",
       "      <td>0.000000</td>\n",
       "      <td>0.000000</td>\n",
       "      <td>0.000000</td>\n",
       "      <td>0.000000</td>\n",
       "      <td>0.000000</td>\n",
       "    </tr>\n",
       "    <tr>\n",
       "      <th>25%</th>\n",
       "      <td>39.000000</td>\n",
       "      <td>0.000000</td>\n",
       "      <td>0.000000</td>\n",
       "      <td>0.000000</td>\n",
       "      <td>0.000000</td>\n",
       "      <td>0.000000</td>\n",
       "      <td>0.000000</td>\n",
       "      <td>0.000000</td>\n",
       "      <td>0.000000</td>\n",
       "      <td>0.000000</td>\n",
       "      <td>...</td>\n",
       "      <td>0.000000</td>\n",
       "      <td>0.000000</td>\n",
       "      <td>0.000000</td>\n",
       "      <td>0.000000</td>\n",
       "      <td>0.000000</td>\n",
       "      <td>0.000000</td>\n",
       "      <td>0.000000</td>\n",
       "      <td>0.000000</td>\n",
       "      <td>0.000000</td>\n",
       "      <td>0.000000</td>\n",
       "    </tr>\n",
       "    <tr>\n",
       "      <th>50%</th>\n",
       "      <td>49.000000</td>\n",
       "      <td>1.000000</td>\n",
       "      <td>0.000000</td>\n",
       "      <td>0.000000</td>\n",
       "      <td>0.000000</td>\n",
       "      <td>0.000000</td>\n",
       "      <td>0.000000</td>\n",
       "      <td>0.000000</td>\n",
       "      <td>0.000000</td>\n",
       "      <td>0.000000</td>\n",
       "      <td>...</td>\n",
       "      <td>0.000000</td>\n",
       "      <td>0.000000</td>\n",
       "      <td>0.000000</td>\n",
       "      <td>0.000000</td>\n",
       "      <td>0.000000</td>\n",
       "      <td>1.000000</td>\n",
       "      <td>0.000000</td>\n",
       "      <td>0.000000</td>\n",
       "      <td>0.000000</td>\n",
       "      <td>0.000000</td>\n",
       "    </tr>\n",
       "    <tr>\n",
       "      <th>75%</th>\n",
       "      <td>58.000000</td>\n",
       "      <td>1.000000</td>\n",
       "      <td>0.000000</td>\n",
       "      <td>1.000000</td>\n",
       "      <td>1.000000</td>\n",
       "      <td>1.000000</td>\n",
       "      <td>1.000000</td>\n",
       "      <td>1.000000</td>\n",
       "      <td>1.000000</td>\n",
       "      <td>1.000000</td>\n",
       "      <td>...</td>\n",
       "      <td>1.000000</td>\n",
       "      <td>1.000000</td>\n",
       "      <td>1.000000</td>\n",
       "      <td>1.000000</td>\n",
       "      <td>0.000000</td>\n",
       "      <td>1.000000</td>\n",
       "      <td>1.000000</td>\n",
       "      <td>0.000000</td>\n",
       "      <td>1.000000</td>\n",
       "      <td>0.000000</td>\n",
       "    </tr>\n",
       "    <tr>\n",
       "      <th>max</th>\n",
       "      <td>73.000000</td>\n",
       "      <td>1.000000</td>\n",
       "      <td>1.000000</td>\n",
       "      <td>1.000000</td>\n",
       "      <td>1.000000</td>\n",
       "      <td>1.000000</td>\n",
       "      <td>1.000000</td>\n",
       "      <td>1.000000</td>\n",
       "      <td>1.000000</td>\n",
       "      <td>1.000000</td>\n",
       "      <td>...</td>\n",
       "      <td>1.000000</td>\n",
       "      <td>1.000000</td>\n",
       "      <td>1.000000</td>\n",
       "      <td>1.000000</td>\n",
       "      <td>1.000000</td>\n",
       "      <td>1.000000</td>\n",
       "      <td>1.000000</td>\n",
       "      <td>1.000000</td>\n",
       "      <td>1.000000</td>\n",
       "      <td>1.000000</td>\n",
       "    </tr>\n",
       "  </tbody>\n",
       "</table>\n",
       "<p>8 rows × 26 columns</p>\n",
       "</div>"
      ],
      "text/plain": [
       "             Age         Q1         Q2         Q3         Q4         Q5  \\\n",
       "count  63.000000  63.000000  63.000000  63.000000  63.000000  63.000000   \n",
       "mean   47.444444   0.523810   0.222222   0.285714   0.412698   0.380952   \n",
       "std    14.731771   0.503444   0.419079   0.455383   0.496274   0.489522   \n",
       "min    11.000000   0.000000   0.000000   0.000000   0.000000   0.000000   \n",
       "25%    39.000000   0.000000   0.000000   0.000000   0.000000   0.000000   \n",
       "50%    49.000000   1.000000   0.000000   0.000000   0.000000   0.000000   \n",
       "75%    58.000000   1.000000   0.000000   1.000000   1.000000   1.000000   \n",
       "max    73.000000   1.000000   1.000000   1.000000   1.000000   1.000000   \n",
       "\n",
       "              Q6         Q7         Q8         Q9    ...            Q16  \\\n",
       "count  63.000000  63.000000  62.000000  63.000000    ...      63.000000   \n",
       "mean    0.301587   0.476190   0.370968   0.380952    ...       0.301587   \n",
       "std     0.462633   0.503444   0.487007   0.489522    ...       0.462633   \n",
       "min     0.000000   0.000000   0.000000   0.000000    ...       0.000000   \n",
       "25%     0.000000   0.000000   0.000000   0.000000    ...       0.000000   \n",
       "50%     0.000000   0.000000   0.000000   0.000000    ...       0.000000   \n",
       "75%     1.000000   1.000000   1.000000   1.000000    ...       1.000000   \n",
       "max     1.000000   1.000000   1.000000   1.000000    ...       1.000000   \n",
       "\n",
       "             Q29        Q30        Q31        Q32        Q34        Q35  \\\n",
       "count  63.000000  62.000000  63.000000  63.000000  63.000000  62.000000   \n",
       "mean    0.285714   0.387097   0.444444   0.047619   0.650794   0.451613   \n",
       "std     0.455383   0.491062   0.500895   0.214669   0.480548   0.501716   \n",
       "min     0.000000   0.000000   0.000000   0.000000   0.000000   0.000000   \n",
       "25%     0.000000   0.000000   0.000000   0.000000   0.000000   0.000000   \n",
       "50%     0.000000   0.000000   0.000000   0.000000   1.000000   0.000000   \n",
       "75%     1.000000   1.000000   1.000000   0.000000   1.000000   1.000000   \n",
       "max     1.000000   1.000000   1.000000   1.000000   1.000000   1.000000   \n",
       "\n",
       "             Q36        Q37        Q38  \n",
       "count  55.000000  62.000000  63.000000  \n",
       "mean    0.109091   0.322581   0.206349  \n",
       "std     0.314627   0.471280   0.407935  \n",
       "min     0.000000   0.000000   0.000000  \n",
       "25%     0.000000   0.000000   0.000000  \n",
       "50%     0.000000   0.000000   0.000000  \n",
       "75%     0.000000   1.000000   0.000000  \n",
       "max     1.000000   1.000000   1.000000  \n",
       "\n",
       "[8 rows x 26 columns]"
      ]
     },
     "execution_count": 533,
     "metadata": {},
     "output_type": "execute_result"
    }
   ],
   "source": [
    "TSH.describe()"
   ]
  },
  {
   "cell_type": "markdown",
   "metadata": {},
   "source": [
    "### TSH vs Eating Habits"
   ]
  },
  {
   "cell_type": "code",
   "execution_count": 534,
   "metadata": {},
   "outputs": [
    {
     "data": {
      "text/html": [
       "<div>\n",
       "<style scoped>\n",
       "    .dataframe tbody tr th:only-of-type {\n",
       "        vertical-align: middle;\n",
       "    }\n",
       "\n",
       "    .dataframe tbody tr th {\n",
       "        vertical-align: top;\n",
       "    }\n",
       "\n",
       "    .dataframe thead th {\n",
       "        text-align: right;\n",
       "    }\n",
       "</style>\n",
       "<table border=\"1\" class=\"dataframe\">\n",
       "  <thead>\n",
       "    <tr style=\"text-align: right;\">\n",
       "      <th>Eating Habits</th>\n",
       "      <th>Eggetarian</th>\n",
       "      <th>Non - Vegetarian</th>\n",
       "      <th>Vegetarian</th>\n",
       "    </tr>\n",
       "    <tr>\n",
       "      <th>R_TSH</th>\n",
       "      <th></th>\n",
       "      <th></th>\n",
       "      <th></th>\n",
       "    </tr>\n",
       "  </thead>\n",
       "  <tbody>\n",
       "    <tr>\n",
       "      <th>0</th>\n",
       "      <td>1</td>\n",
       "      <td>10</td>\n",
       "      <td>37</td>\n",
       "    </tr>\n",
       "    <tr>\n",
       "      <th>1</th>\n",
       "      <td>1</td>\n",
       "      <td>3</td>\n",
       "      <td>11</td>\n",
       "    </tr>\n",
       "  </tbody>\n",
       "</table>\n",
       "</div>"
      ],
      "text/plain": [
       "Eating Habits  Eggetarian  Non - Vegetarian  Vegetarian\n",
       "R_TSH                                                  \n",
       "0                       1                10          37\n",
       "1                       1                 3          11"
      ]
     },
     "execution_count": 534,
     "metadata": {},
     "output_type": "execute_result"
    }
   ],
   "source": [
    "TSH['Count'] = np.repeat(1, 63)\n",
    "pivot = pd.pivot_table(TSH, values='Count', index=['R_TSH'], columns=['Eating Habits'], aggfunc=np.sum)\n",
    "pivot"
   ]
  },
  {
   "cell_type": "code",
   "execution_count": 535,
   "metadata": {},
   "outputs": [
    {
     "data": {
      "text/plain": [
       "(0.7811899038461539,\n",
       " 0.6766541780130522,\n",
       " 2,\n",
       " array([[ 1.52380952,  9.9047619 , 36.57142857],\n",
       "        [ 0.47619048,  3.0952381 , 11.42857143]]))"
      ]
     },
     "execution_count": 535,
     "metadata": {},
     "output_type": "execute_result"
    }
   ],
   "source": [
    "stat = stats.chi2_contingency(pivot)\n",
    "stat"
   ]
  },
  {
   "cell_type": "code",
   "execution_count": 536,
   "metadata": {},
   "outputs": [
    {
     "data": {
      "text/plain": [
       "<matplotlib.axes._subplots.AxesSubplot at 0x1794aa7cb00>"
      ]
     },
     "execution_count": 536,
     "metadata": {},
     "output_type": "execute_result"
    },
    {
     "data": {
      "image/png": "[encoded data removed]",
      "text/plain": [
       "<Figure size 432x288 with 1 Axes>"
      ]
     },
     "metadata": {},
     "output_type": "display_data"
    }
   ],
   "source": [
    "pivot.plot(kind='bar')"
   ]
  },
  {
   "cell_type": "code",
   "execution_count": 537,
   "metadata": {},
   "outputs": [
    {
     "data": {
      "text/html": [
       "<div>\n",
       "<style scoped>\n",
       "    .dataframe tbody tr th:only-of-type {\n",
       "        vertical-align: middle;\n",
       "    }\n",
       "\n",
       "    .dataframe tbody tr th {\n",
       "        vertical-align: top;\n",
       "    }\n",
       "\n",
       "    .dataframe thead th {\n",
       "        text-align: right;\n",
       "    }\n",
       "</style>\n",
       "<table border=\"1\" class=\"dataframe\">\n",
       "  <thead>\n",
       "    <tr style=\"text-align: right;\">\n",
       "      <th>Eating Habits</th>\n",
       "      <th>Eggetarian</th>\n",
       "      <th>Non - Vegetarian</th>\n",
       "      <th>Vegetarian</th>\n",
       "      <th>Total Eating Habits</th>\n",
       "      <th>Percentage Eggetarian</th>\n",
       "      <th>Percentage Non - Vegetarian</th>\n",
       "      <th>Pecentage Vegetarian</th>\n",
       "    </tr>\n",
       "  </thead>\n",
       "  <tbody>\n",
       "    <tr>\n",
       "      <th>0</th>\n",
       "      <td>1.0</td>\n",
       "      <td>10.000000</td>\n",
       "      <td>37.000000</td>\n",
       "      <td>48.0</td>\n",
       "      <td>2.083333</td>\n",
       "      <td>20.833333</td>\n",
       "      <td>77.083333</td>\n",
       "    </tr>\n",
       "    <tr>\n",
       "      <th>1</th>\n",
       "      <td>1.0</td>\n",
       "      <td>3.000000</td>\n",
       "      <td>11.000000</td>\n",
       "      <td>15.0</td>\n",
       "      <td>6.666667</td>\n",
       "      <td>20.000000</td>\n",
       "      <td>73.333333</td>\n",
       "    </tr>\n",
       "    <tr>\n",
       "      <th>Total TSH</th>\n",
       "      <td>2.0</td>\n",
       "      <td>13.000000</td>\n",
       "      <td>48.000000</td>\n",
       "      <td>NaN</td>\n",
       "      <td>NaN</td>\n",
       "      <td>NaN</td>\n",
       "      <td>NaN</td>\n",
       "    </tr>\n",
       "    <tr>\n",
       "      <th>Percentage 0</th>\n",
       "      <td>50.0</td>\n",
       "      <td>76.923077</td>\n",
       "      <td>77.083333</td>\n",
       "      <td>NaN</td>\n",
       "      <td>NaN</td>\n",
       "      <td>NaN</td>\n",
       "      <td>NaN</td>\n",
       "    </tr>\n",
       "    <tr>\n",
       "      <th>Percentage 1</th>\n",
       "      <td>50.0</td>\n",
       "      <td>23.076923</td>\n",
       "      <td>22.916667</td>\n",
       "      <td>NaN</td>\n",
       "      <td>NaN</td>\n",
       "      <td>NaN</td>\n",
       "      <td>NaN</td>\n",
       "    </tr>\n",
       "  </tbody>\n",
       "</table>\n",
       "</div>"
      ],
      "text/plain": [
       "Eating Habits  Eggetarian  Non - Vegetarian  Vegetarian  Total Eating Habits  \\\n",
       "0                     1.0         10.000000   37.000000                 48.0   \n",
       "1                     1.0          3.000000   11.000000                 15.0   \n",
       "Total TSH             2.0         13.000000   48.000000                  NaN   \n",
       "Percentage 0         50.0         76.923077   77.083333                  NaN   \n",
       "Percentage 1         50.0         23.076923   22.916667                  NaN   \n",
       "\n",
       "Eating Habits  Percentage Eggetarian  Percentage Non - Vegetarian  \\\n",
       "0                           2.083333                    20.833333   \n",
       "1                           6.666667                    20.000000   \n",
       "Total TSH                        NaN                          NaN   \n",
       "Percentage 0                     NaN                          NaN   \n",
       "Percentage 1                     NaN                          NaN   \n",
       "\n",
       "Eating Habits  Pecentage Vegetarian  \n",
       "0                         77.083333  \n",
       "1                         73.333333  \n",
       "Total TSH                       NaN  \n",
       "Percentage 0                    NaN  \n",
       "Percentage 1                    NaN  "
      ]
     },
     "execution_count": 537,
     "metadata": {},
     "output_type": "execute_result"
    }
   ],
   "source": [
    "Total_TSH = [pivot.iloc[0, :] + pivot.iloc[1, :]]\n",
    "Total_TSH = pd.DataFrame(Total_TSH, index = ['Total TSH'])\n",
    "piv = pivot.append(Total_TSH)\n",
    "Total_EH = pivot['Eggetarian'] + pivot['Non - Vegetarian'] + pivot['Vegetarian']\n",
    "piv['Total Eating Habits'] = Total_EH\n",
    "Percentage_0 = [(piv.iloc[0, :]/piv.iloc[2, :])*100]\n",
    "Percentage_1 = [(piv.iloc[1, :]/piv.iloc[2, :])*100]\n",
    "Percentage_0 = pd.DataFrame(Percentage_0, index = ['Percentage 0'])\n",
    "Percentage_1 = pd.DataFrame(Percentage_1, index = ['Percentage 1'])\n",
    "Percentage_RE = (piv['Eggetarian']/piv['Total Eating Habits'])*100\n",
    "Percentage_RNV = (piv['Non - Vegetarian']/piv['Total Eating Habits'])*100\n",
    "Percentage_RV = (piv['Vegetarian']/piv['Total Eating Habits'])*100\n",
    "piv = piv.append(Percentage_0)\n",
    "piv = piv.append(Percentage_1)\n",
    "piv['Percentage Eggetarian'] = Percentage_RE\n",
    "piv['Percentage Non - Vegetarian'] = Percentage_RNV\n",
    "piv['Pecentage Vegetarian'] = Percentage_RV\n",
    "piv"
   ]
  },
  {
   "cell_type": "markdown",
   "metadata": {},
   "source": [
    "### TSH vs Gender"
   ]
  },
  {
   "cell_type": "code",
   "execution_count": 538,
   "metadata": {},
   "outputs": [
    {
     "data": {
      "text/html": [
       "<div>\n",
       "<style scoped>\n",
       "    .dataframe tbody tr th:only-of-type {\n",
       "        vertical-align: middle;\n",
       "    }\n",
       "\n",
       "    .dataframe tbody tr th {\n",
       "        vertical-align: top;\n",
       "    }\n",
       "\n",
       "    .dataframe thead th {\n",
       "        text-align: right;\n",
       "    }\n",
       "</style>\n",
       "<table border=\"1\" class=\"dataframe\">\n",
       "  <thead>\n",
       "    <tr style=\"text-align: right;\">\n",
       "      <th>Gender</th>\n",
       "      <th>Female</th>\n",
       "      <th>Male</th>\n",
       "    </tr>\n",
       "    <tr>\n",
       "      <th>R_TSH</th>\n",
       "      <th></th>\n",
       "      <th></th>\n",
       "    </tr>\n",
       "  </thead>\n",
       "  <tbody>\n",
       "    <tr>\n",
       "      <th>0</th>\n",
       "      <td>35</td>\n",
       "      <td>13</td>\n",
       "    </tr>\n",
       "    <tr>\n",
       "      <th>1</th>\n",
       "      <td>8</td>\n",
       "      <td>7</td>\n",
       "    </tr>\n",
       "  </tbody>\n",
       "</table>\n",
       "</div>"
      ],
      "text/plain": [
       "Gender  Female  Male\n",
       "R_TSH               \n",
       "0           35    13\n",
       "1            8     7"
      ]
     },
     "execution_count": 538,
     "metadata": {},
     "output_type": "execute_result"
    }
   ],
   "source": [
    "pivot1 = pd.pivot_table(TSH, values='Count', index=['R_TSH'], columns=['Gender'], aggfunc=np.sum)\n",
    "pivot1"
   ]
  },
  {
   "cell_type": "code",
   "execution_count": 539,
   "metadata": {},
   "outputs": [
    {
     "data": {
      "text/plain": [
       "(1.2199382267441858, 0.2693727753823439, 1, array([[32.76190476, 15.23809524],\n",
       "        [10.23809524,  4.76190476]]))"
      ]
     },
     "execution_count": 539,
     "metadata": {},
     "output_type": "execute_result"
    }
   ],
   "source": [
    "stat1 = stats.chi2_contingency(pivot1)\n",
    "stat1"
   ]
  },
  {
   "cell_type": "code",
   "execution_count": 540,
   "metadata": {},
   "outputs": [
    {
     "data": {
      "text/plain": [
       "<matplotlib.axes._subplots.AxesSubplot at 0x1794c06e978>"
      ]
     },
     "execution_count": 540,
     "metadata": {},
     "output_type": "execute_result"
    },
    {
     "data": {
      "image/png": "[encoded data removed]",
      "text/plain": [
       "<Figure size 432x288 with 1 Axes>"
      ]
     },
     "metadata": {},
     "output_type": "display_data"
    }
   ],
   "source": [
    "pivot1.plot(kind='bar')"
   ]
  },
  {
   "cell_type": "code",
   "execution_count": 541,
   "metadata": {},
   "outputs": [
    {
     "data": {
      "text/html": [
       "<div>\n",
       "<style scoped>\n",
       "    .dataframe tbody tr th:only-of-type {\n",
       "        vertical-align: middle;\n",
       "    }\n",
       "\n",
       "    .dataframe tbody tr th {\n",
       "        vertical-align: top;\n",
       "    }\n",
       "\n",
       "    .dataframe thead th {\n",
       "        text-align: right;\n",
       "    }\n",
       "</style>\n",
       "<table border=\"1\" class=\"dataframe\">\n",
       "  <thead>\n",
       "    <tr style=\"text-align: right;\">\n",
       "      <th>Gender</th>\n",
       "      <th>Female</th>\n",
       "      <th>Male</th>\n",
       "      <th>Total Gender</th>\n",
       "      <th>Percentage Female</th>\n",
       "      <th>Percentage Male</th>\n",
       "    </tr>\n",
       "  </thead>\n",
       "  <tbody>\n",
       "    <tr>\n",
       "      <th>0</th>\n",
       "      <td>35.000000</td>\n",
       "      <td>13.0</td>\n",
       "      <td>48.0</td>\n",
       "      <td>72.916667</td>\n",
       "      <td>27.083333</td>\n",
       "    </tr>\n",
       "    <tr>\n",
       "      <th>1</th>\n",
       "      <td>8.000000</td>\n",
       "      <td>7.0</td>\n",
       "      <td>15.0</td>\n",
       "      <td>53.333333</td>\n",
       "      <td>46.666667</td>\n",
       "    </tr>\n",
       "    <tr>\n",
       "      <th>Total TSH</th>\n",
       "      <td>43.000000</td>\n",
       "      <td>20.0</td>\n",
       "      <td>NaN</td>\n",
       "      <td>NaN</td>\n",
       "      <td>NaN</td>\n",
       "    </tr>\n",
       "    <tr>\n",
       "      <th>Percentage 0</th>\n",
       "      <td>81.395349</td>\n",
       "      <td>65.0</td>\n",
       "      <td>NaN</td>\n",
       "      <td>NaN</td>\n",
       "      <td>NaN</td>\n",
       "    </tr>\n",
       "    <tr>\n",
       "      <th>Percentage 1</th>\n",
       "      <td>18.604651</td>\n",
       "      <td>35.0</td>\n",
       "      <td>NaN</td>\n",
       "      <td>NaN</td>\n",
       "      <td>NaN</td>\n",
       "    </tr>\n",
       "  </tbody>\n",
       "</table>\n",
       "</div>"
      ],
      "text/plain": [
       "Gender           Female  Male  Total Gender  Percentage Female  \\\n",
       "0             35.000000  13.0          48.0          72.916667   \n",
       "1              8.000000   7.0          15.0          53.333333   \n",
       "Total TSH     43.000000  20.0           NaN                NaN   \n",
       "Percentage 0  81.395349  65.0           NaN                NaN   \n",
       "Percentage 1  18.604651  35.0           NaN                NaN   \n",
       "\n",
       "Gender        Percentage Male  \n",
       "0                   27.083333  \n",
       "1                   46.666667  \n",
       "Total TSH                 NaN  \n",
       "Percentage 0              NaN  \n",
       "Percentage 1              NaN  "
      ]
     },
     "execution_count": 541,
     "metadata": {},
     "output_type": "execute_result"
    }
   ],
   "source": [
    "Total_TSH = [pivot1.iloc[0, :] + pivot1.iloc[1, :]]\n",
    "Total_TSH = pd.DataFrame(Total_TSH, index = ['Total TSH'])\n",
    "piv = pivot1.append(Total_TSH)\n",
    "Total_Gender = pivot1['Female'] + pivot1['Male']\n",
    "piv['Total Gender'] = Total_Gender\n",
    "Percentage_0 = [(piv.iloc[0, :]/piv.iloc[2, :])*100]\n",
    "Percentage_1 = [(piv.iloc[1, :]/piv.iloc[2, :])*100]\n",
    "Percentage_0 = pd.DataFrame(Percentage_0, index = ['Percentage 0'])\n",
    "Percentage_1 = pd.DataFrame(Percentage_1, index = ['Percentage 1'])\n",
    "Percentage_R0 = (piv['Female']/piv['Total Gender'])*100\n",
    "Percentage_R1 = (piv['Male']/piv['Total Gender'])*100\n",
    "piv = piv.append(Percentage_0)\n",
    "piv = piv.append(Percentage_1)\n",
    "piv['Percentage Female'] = Percentage_R0\n",
    "piv['Percentage Male'] = Percentage_R1\n",
    "piv"
   ]
  },
  {
   "cell_type": "code",
   "execution_count": 542,
   "metadata": {},
   "outputs": [
    {
     "name": "stdout",
     "output_type": "stream",
     "text": [
      "Yule's Coefficient of Association:  -0.4040114613180516\n",
      "Odd's Ratio:  0.42448979591836733\n"
     ]
    }
   ],
   "source": [
    "Q = ((piv.iloc[1, 0] * piv.iloc[0, 1]) - (piv.iloc[1, 1] * piv.iloc[0, 0]))/((piv.iloc[1, 0] * piv.iloc[0, 1]) + (piv.iloc[1, 1] * piv.iloc[0, 0]))\n",
    "print(\"Yule's Coefficient of Association: \", Q)\n",
    "O = (piv.iloc[1, 0]*piv.iloc[0, 1])/(piv.iloc[0, 0]*piv.iloc[1, 1])\n",
    "print(\"Odd's Ratio: \", O)"
   ]
  },
  {
   "cell_type": "markdown",
   "metadata": {},
   "source": [
    "### TSH vs Junk Food Consumption"
   ]
  },
  {
   "cell_type": "code",
   "execution_count": 543,
   "metadata": {},
   "outputs": [
    {
     "data": {
      "text/html": [
       "<div>\n",
       "<style scoped>\n",
       "    .dataframe tbody tr th:only-of-type {\n",
       "        vertical-align: middle;\n",
       "    }\n",
       "\n",
       "    .dataframe tbody tr th {\n",
       "        vertical-align: top;\n",
       "    }\n",
       "\n",
       "    .dataframe thead th {\n",
       "        text-align: right;\n",
       "    }\n",
       "</style>\n",
       "<table border=\"1\" class=\"dataframe\">\n",
       "  <thead>\n",
       "    <tr style=\"text-align: right;\">\n",
       "      <th>Q29</th>\n",
       "      <th>0</th>\n",
       "      <th>1</th>\n",
       "    </tr>\n",
       "    <tr>\n",
       "      <th>R_TSH</th>\n",
       "      <th></th>\n",
       "      <th></th>\n",
       "    </tr>\n",
       "  </thead>\n",
       "  <tbody>\n",
       "    <tr>\n",
       "      <th>0</th>\n",
       "      <td>35</td>\n",
       "      <td>13</td>\n",
       "    </tr>\n",
       "    <tr>\n",
       "      <th>1</th>\n",
       "      <td>10</td>\n",
       "      <td>5</td>\n",
       "    </tr>\n",
       "  </tbody>\n",
       "</table>\n",
       "</div>"
      ],
      "text/plain": [
       "Q29     0   1\n",
       "R_TSH        \n",
       "0      35  13\n",
       "1      10   5"
      ]
     },
     "execution_count": 543,
     "metadata": {},
     "output_type": "execute_result"
    }
   ],
   "source": [
    "pivot2 = pd.pivot_table(TSH, values='Count', index=['R_TSH'], columns=['Q29'], aggfunc=np.sum)\n",
    "pivot2"
   ]
  },
  {
   "cell_type": "code",
   "execution_count": 544,
   "metadata": {},
   "outputs": [
    {
     "data": {
      "text/plain": [
       "(0.01968749999999997, 0.888413363396001, 1, array([[34.28571429, 13.71428571],\n",
       "        [10.71428571,  4.28571429]]))"
      ]
     },
     "execution_count": 544,
     "metadata": {},
     "output_type": "execute_result"
    }
   ],
   "source": [
    "stat2 = stats.chi2_contingency(pivot2)\n",
    "stat2"
   ]
  },
  {
   "cell_type": "code",
   "execution_count": 545,
   "metadata": {},
   "outputs": [
    {
     "data": {
      "text/plain": [
       "<matplotlib.axes._subplots.AxesSubplot at 0x1794c11dcf8>"
      ]
     },
     "execution_count": 545,
     "metadata": {},
     "output_type": "execute_result"
    },
    {
     "data": {
      "image/png": "[encoded data removed]",
      "text/plain": [
       "<Figure size 432x288 with 1 Axes>"
      ]
     },
     "metadata": {},
     "output_type": "display_data"
    }
   ],
   "source": [
    "pivot2.plot(kind='bar')"
   ]
  },
  {
   "cell_type": "code",
   "execution_count": 546,
   "metadata": {},
   "outputs": [
    {
     "data": {
      "text/html": [
       "<div>\n",
       "<style scoped>\n",
       "    .dataframe tbody tr th:only-of-type {\n",
       "        vertical-align: middle;\n",
       "    }\n",
       "\n",
       "    .dataframe tbody tr th {\n",
       "        vertical-align: top;\n",
       "    }\n",
       "\n",
       "    .dataframe thead th {\n",
       "        text-align: right;\n",
       "    }\n",
       "</style>\n",
       "<table border=\"1\" class=\"dataframe\">\n",
       "  <thead>\n",
       "    <tr style=\"text-align: right;\">\n",
       "      <th>Q29</th>\n",
       "      <th>0</th>\n",
       "      <th>1</th>\n",
       "      <th>Total JFC</th>\n",
       "      <th>Percentage 0</th>\n",
       "      <th>Percentage 1</th>\n",
       "    </tr>\n",
       "  </thead>\n",
       "  <tbody>\n",
       "    <tr>\n",
       "      <th>0</th>\n",
       "      <td>35.000000</td>\n",
       "      <td>13.000000</td>\n",
       "      <td>48.0</td>\n",
       "      <td>72.916667</td>\n",
       "      <td>27.083333</td>\n",
       "    </tr>\n",
       "    <tr>\n",
       "      <th>1</th>\n",
       "      <td>10.000000</td>\n",
       "      <td>5.000000</td>\n",
       "      <td>15.0</td>\n",
       "      <td>66.666667</td>\n",
       "      <td>33.333333</td>\n",
       "    </tr>\n",
       "    <tr>\n",
       "      <th>Total TSH</th>\n",
       "      <td>45.000000</td>\n",
       "      <td>18.000000</td>\n",
       "      <td>NaN</td>\n",
       "      <td>NaN</td>\n",
       "      <td>NaN</td>\n",
       "    </tr>\n",
       "    <tr>\n",
       "      <th>Percentage 0</th>\n",
       "      <td>77.777778</td>\n",
       "      <td>72.222222</td>\n",
       "      <td>NaN</td>\n",
       "      <td>NaN</td>\n",
       "      <td>NaN</td>\n",
       "    </tr>\n",
       "    <tr>\n",
       "      <th>Percentage 1</th>\n",
       "      <td>22.222222</td>\n",
       "      <td>27.777778</td>\n",
       "      <td>NaN</td>\n",
       "      <td>NaN</td>\n",
       "      <td>NaN</td>\n",
       "    </tr>\n",
       "  </tbody>\n",
       "</table>\n",
       "</div>"
      ],
      "text/plain": [
       "Q29                   0          1  Total JFC  Percentage 0  Percentage 1\n",
       "0             35.000000  13.000000       48.0     72.916667     27.083333\n",
       "1             10.000000   5.000000       15.0     66.666667     33.333333\n",
       "Total TSH     45.000000  18.000000        NaN           NaN           NaN\n",
       "Percentage 0  77.777778  72.222222        NaN           NaN           NaN\n",
       "Percentage 1  22.222222  27.777778        NaN           NaN           NaN"
      ]
     },
     "execution_count": 546,
     "metadata": {},
     "output_type": "execute_result"
    }
   ],
   "source": [
    "Total_TSH = [pivot2.iloc[0, :] + pivot2.iloc[1, :]]\n",
    "Total_TSH = pd.DataFrame(Total_TSH, index = ['Total TSH'])\n",
    "piv = pivot2.append(Total_TSH)\n",
    "Total_JFC = pivot2.iloc[:, 0] + pivot2.iloc[:, 1]\n",
    "piv['Total JFC'] = Total_JFC\n",
    "Percentage_0 = [(piv.iloc[0, :]/piv.iloc[2, :])*100]\n",
    "Percentage_1 = [(piv.iloc[1, :]/piv.iloc[2, :])*100]\n",
    "Percentage_0 = pd.DataFrame(Percentage_0, index = ['Percentage 0'])\n",
    "Percentage_1 = pd.DataFrame(Percentage_1, index = ['Percentage 1'])\n",
    "Percentage_R0 = (piv.iloc[:, 0]/piv['Total JFC'])*100\n",
    "Percentage_R1 = (piv.iloc[:, 1]/piv['Total JFC'])*100\n",
    "piv = piv.append(Percentage_0)\n",
    "piv = piv.append(Percentage_1)\n",
    "piv['Percentage 0'] = Percentage_R0\n",
    "piv['Percentage 1'] = Percentage_R1\n",
    "piv"
   ]
  },
  {
   "cell_type": "code",
   "execution_count": 547,
   "metadata": {},
   "outputs": [
    {
     "name": "stdout",
     "output_type": "stream",
     "text": [
      "Yule's Coefficient of Association:  0.14754098360655737\n",
      "Odd's Ratio:  0.7428571428571429\n"
     ]
    }
   ],
   "source": [
    "Q = ((piv.iloc[1, 1] * piv.iloc[0, 0]) - (piv.iloc[1, 0] * piv.iloc[0, 1]))/((piv.iloc[1, 1] * piv.iloc[0, 0]) + (piv.iloc[1, 0] * piv.iloc[0, 1]))\n",
    "print(\"Yule's Coefficient of Association: \", Q)\n",
    "O = (piv.iloc[1, 0]*piv.iloc[0, 1])/(piv.iloc[0, 0]*piv.iloc[1, 1])\n",
    "print(\"Odd's Ratio: \", O)"
   ]
  },
  {
   "cell_type": "markdown",
   "metadata": {},
   "source": [
    "### TSH vs Thyroid History in Family"
   ]
  },
  {
   "cell_type": "code",
   "execution_count": 548,
   "metadata": {},
   "outputs": [
    {
     "data": {
      "text/html": [
       "<div>\n",
       "<style scoped>\n",
       "    .dataframe tbody tr th:only-of-type {\n",
       "        vertical-align: middle;\n",
       "    }\n",
       "\n",
       "    .dataframe tbody tr th {\n",
       "        vertical-align: top;\n",
       "    }\n",
       "\n",
       "    .dataframe thead th {\n",
       "        text-align: right;\n",
       "    }\n",
       "</style>\n",
       "<table border=\"1\" class=\"dataframe\">\n",
       "  <thead>\n",
       "    <tr style=\"text-align: right;\">\n",
       "      <th>Q38</th>\n",
       "      <th>0</th>\n",
       "      <th>1</th>\n",
       "    </tr>\n",
       "    <tr>\n",
       "      <th>R_TSH</th>\n",
       "      <th></th>\n",
       "      <th></th>\n",
       "    </tr>\n",
       "  </thead>\n",
       "  <tbody>\n",
       "    <tr>\n",
       "      <th>0</th>\n",
       "      <td>38</td>\n",
       "      <td>10</td>\n",
       "    </tr>\n",
       "    <tr>\n",
       "      <th>1</th>\n",
       "      <td>12</td>\n",
       "      <td>3</td>\n",
       "    </tr>\n",
       "  </tbody>\n",
       "</table>\n",
       "</div>"
      ],
      "text/plain": [
       "Q38     0   1\n",
       "R_TSH        \n",
       "0      38  10\n",
       "1      12   3"
      ]
     },
     "execution_count": 548,
     "metadata": {},
     "output_type": "execute_result"
    }
   ],
   "source": [
    "pivot3 = pd.pivot_table(TSH, values='Count', index=['R_TSH'], columns=['Q38'], aggfunc=np.sum)\n",
    "pivot3"
   ]
  },
  {
   "cell_type": "code",
   "execution_count": 549,
   "metadata": {},
   "outputs": [
    {
     "data": {
      "text/plain": [
       "(0.08753365384615389, 0.7673363358448214, 1, array([[38.0952381,  9.9047619],\n",
       "        [11.9047619,  3.0952381]]))"
      ]
     },
     "execution_count": 549,
     "metadata": {},
     "output_type": "execute_result"
    }
   ],
   "source": [
    "stat3 = stats.chi2_contingency(pivot3)\n",
    "stat3"
   ]
  },
  {
   "cell_type": "code",
   "execution_count": 550,
   "metadata": {},
   "outputs": [
    {
     "data": {
      "text/plain": [
       "<matplotlib.axes._subplots.AxesSubplot at 0x1794c1777b8>"
      ]
     },
     "execution_count": 550,
     "metadata": {},
     "output_type": "execute_result"
    },
    {
     "data": {
      "image/png": "[encoded data removed]",
      "text/plain": [
       "<Figure size 432x288 with 1 Axes>"
      ]
     },
     "metadata": {},
     "output_type": "display_data"
    }
   ],
   "source": [
    "pivot3.plot(kind='bar')"
   ]
  },
  {
   "cell_type": "code",
   "execution_count": 551,
   "metadata": {},
   "outputs": [
    {
     "data": {
      "text/html": [
       "<div>\n",
       "<style scoped>\n",
       "    .dataframe tbody tr th:only-of-type {\n",
       "        vertical-align: middle;\n",
       "    }\n",
       "\n",
       "    .dataframe tbody tr th {\n",
       "        vertical-align: top;\n",
       "    }\n",
       "\n",
       "    .dataframe thead th {\n",
       "        text-align: right;\n",
       "    }\n",
       "</style>\n",
       "<table border=\"1\" class=\"dataframe\">\n",
       "  <thead>\n",
       "    <tr style=\"text-align: right;\">\n",
       "      <th>Q38</th>\n",
       "      <th>0</th>\n",
       "      <th>1</th>\n",
       "      <th>Total FH</th>\n",
       "      <th>Percentage 0</th>\n",
       "      <th>Percentage 1</th>\n",
       "    </tr>\n",
       "  </thead>\n",
       "  <tbody>\n",
       "    <tr>\n",
       "      <th>0</th>\n",
       "      <td>38.0</td>\n",
       "      <td>10.000000</td>\n",
       "      <td>48.0</td>\n",
       "      <td>79.166667</td>\n",
       "      <td>20.833333</td>\n",
       "    </tr>\n",
       "    <tr>\n",
       "      <th>1</th>\n",
       "      <td>12.0</td>\n",
       "      <td>3.000000</td>\n",
       "      <td>15.0</td>\n",
       "      <td>80.000000</td>\n",
       "      <td>20.000000</td>\n",
       "    </tr>\n",
       "    <tr>\n",
       "      <th>Total TSH</th>\n",
       "      <td>50.0</td>\n",
       "      <td>13.000000</td>\n",
       "      <td>NaN</td>\n",
       "      <td>NaN</td>\n",
       "      <td>NaN</td>\n",
       "    </tr>\n",
       "    <tr>\n",
       "      <th>Percentage 0</th>\n",
       "      <td>76.0</td>\n",
       "      <td>76.923077</td>\n",
       "      <td>NaN</td>\n",
       "      <td>NaN</td>\n",
       "      <td>NaN</td>\n",
       "    </tr>\n",
       "    <tr>\n",
       "      <th>Percentage 1</th>\n",
       "      <td>24.0</td>\n",
       "      <td>23.076923</td>\n",
       "      <td>NaN</td>\n",
       "      <td>NaN</td>\n",
       "      <td>NaN</td>\n",
       "    </tr>\n",
       "  </tbody>\n",
       "</table>\n",
       "</div>"
      ],
      "text/plain": [
       "Q38              0          1  Total FH  Percentage 0  Percentage 1\n",
       "0             38.0  10.000000      48.0     79.166667     20.833333\n",
       "1             12.0   3.000000      15.0     80.000000     20.000000\n",
       "Total TSH     50.0  13.000000       NaN           NaN           NaN\n",
       "Percentage 0  76.0  76.923077       NaN           NaN           NaN\n",
       "Percentage 1  24.0  23.076923       NaN           NaN           NaN"
      ]
     },
     "execution_count": 551,
     "metadata": {},
     "output_type": "execute_result"
    }
   ],
   "source": [
    "Total_TSH = [pivot3.iloc[0, :] + pivot3.iloc[1, :]]\n",
    "Total_TSH = pd.DataFrame(Total_TSH, index = ['Total TSH'])\n",
    "piv = pivot3.append(Total_TSH)\n",
    "Total_FH = pivot3.iloc[:, 0] + pivot3.iloc[:, 1]\n",
    "piv['Total FH'] = Total_FH\n",
    "Percentage_0 = [(piv.iloc[0, :]/piv.iloc[2, :])*100]\n",
    "Percentage_1 = [(piv.iloc[1, :]/piv.iloc[2, :])*100]\n",
    "Percentage_0 = pd.DataFrame(Percentage_0, index = ['Percentage 0'])\n",
    "Percentage_1 = pd.DataFrame(Percentage_1, index = ['Percentage 1'])\n",
    "Percentage_R0 = (piv.iloc[:, 0]/piv['Total FH'])*100\n",
    "Percentage_R1 = (piv.iloc[:, 1]/piv['Total FH'])*100\n",
    "piv = piv.append(Percentage_0)\n",
    "piv = piv.append(Percentage_1)\n",
    "piv['Percentage 0'] = Percentage_R0\n",
    "piv['Percentage 1'] = Percentage_R1\n",
    "piv"
   ]
  },
  {
   "cell_type": "code",
   "execution_count": 552,
   "metadata": {},
   "outputs": [
    {
     "name": "stdout",
     "output_type": "stream",
     "text": [
      "Yule's Coefficient of Association:  -0.02564102564102564\n",
      "Odd's Ratio:  1.0526315789473684\n"
     ]
    }
   ],
   "source": [
    "Q = ((piv.iloc[1, 1] * piv.iloc[0, 0]) - (piv.iloc[1, 0] * piv.iloc[0, 1]))/((piv.iloc[1, 1] * piv.iloc[0, 0]) + (piv.iloc[1, 0] * piv.iloc[0, 1]))\n",
    "print(\"Yule's Coefficient of Association: \", Q)\n",
    "O = (piv.iloc[1, 0]*piv.iloc[0, 1])/(piv.iloc[0, 0]*piv.iloc[1, 1])\n",
    "print(\"Odd's Ratio: \", O)"
   ]
  },
  {
   "cell_type": "markdown",
   "metadata": {},
   "source": [
    "### TSH vs Vitamin B12"
   ]
  },
  {
   "cell_type": "code",
   "execution_count": 553,
   "metadata": {},
   "outputs": [
    {
     "data": {
      "text/html": [
       "<div>\n",
       "<style scoped>\n",
       "    .dataframe tbody tr th:only-of-type {\n",
       "        vertical-align: middle;\n",
       "    }\n",
       "\n",
       "    .dataframe tbody tr th {\n",
       "        vertical-align: top;\n",
       "    }\n",
       "\n",
       "    .dataframe thead th {\n",
       "        text-align: right;\n",
       "    }\n",
       "</style>\n",
       "<table border=\"1\" class=\"dataframe\">\n",
       "  <thead>\n",
       "    <tr style=\"text-align: right;\">\n",
       "      <th>R_B12</th>\n",
       "      <th>0</th>\n",
       "      <th>1</th>\n",
       "    </tr>\n",
       "    <tr>\n",
       "      <th>R_TSH</th>\n",
       "      <th></th>\n",
       "      <th></th>\n",
       "    </tr>\n",
       "  </thead>\n",
       "  <tbody>\n",
       "    <tr>\n",
       "      <th>0</th>\n",
       "      <td>23</td>\n",
       "      <td>6</td>\n",
       "    </tr>\n",
       "    <tr>\n",
       "      <th>1</th>\n",
       "      <td>5</td>\n",
       "      <td>3</td>\n",
       "    </tr>\n",
       "  </tbody>\n",
       "</table>\n",
       "</div>"
      ],
      "text/plain": [
       "R_B12   0  1\n",
       "R_TSH       \n",
       "0      23  6\n",
       "1       5  3"
      ]
     },
     "execution_count": 553,
     "metadata": {},
     "output_type": "execute_result"
    }
   ],
   "source": [
    "pivot4 = pd.pivot_table(TSH, values = 'Count', index = ['R_TSH'], columns = ['R_B12'], aggfunc = np.sum)\n",
    "pivot4"
   ]
  },
  {
   "cell_type": "code",
   "execution_count": 554,
   "metadata": {},
   "outputs": [
    {
     "data": {
      "text/plain": [
       "(0.26596281472359057, 0.6060528985667053, 1, array([[21.94594595,  7.05405405],\n",
       "        [ 6.05405405,  1.94594595]]))"
      ]
     },
     "execution_count": 554,
     "metadata": {},
     "output_type": "execute_result"
    }
   ],
   "source": [
    "stat4 = stats.chi2_contingency(pivot4)\n",
    "stat4"
   ]
  },
  {
   "cell_type": "code",
   "execution_count": 555,
   "metadata": {},
   "outputs": [
    {
     "data": {
      "text/plain": [
       "<matplotlib.axes._subplots.AxesSubplot at 0x1794c1d0a58>"
      ]
     },
     "execution_count": 555,
     "metadata": {},
     "output_type": "execute_result"
    },
    {
     "data": {
      "image/png": "[encoded data removed]",
      "text/plain": [
       "<Figure size 432x288 with 1 Axes>"
      ]
     },
     "metadata": {},
     "output_type": "display_data"
    }
   ],
   "source": [
    "pivot4.plot(kind = 'bar')"
   ]
  },
  {
   "cell_type": "code",
   "execution_count": 556,
   "metadata": {},
   "outputs": [
    {
     "data": {
      "text/html": [
       "<div>\n",
       "<style scoped>\n",
       "    .dataframe tbody tr th:only-of-type {\n",
       "        vertical-align: middle;\n",
       "    }\n",
       "\n",
       "    .dataframe tbody tr th {\n",
       "        vertical-align: top;\n",
       "    }\n",
       "\n",
       "    .dataframe thead th {\n",
       "        text-align: right;\n",
       "    }\n",
       "</style>\n",
       "<table border=\"1\" class=\"dataframe\">\n",
       "  <thead>\n",
       "    <tr style=\"text-align: right;\">\n",
       "      <th>R_B12</th>\n",
       "      <th>0</th>\n",
       "      <th>1</th>\n",
       "      <th>Total B12</th>\n",
       "      <th>Percentage 0</th>\n",
       "      <th>Percentage 1</th>\n",
       "    </tr>\n",
       "  </thead>\n",
       "  <tbody>\n",
       "    <tr>\n",
       "      <th>0</th>\n",
       "      <td>23.000000</td>\n",
       "      <td>6.000000</td>\n",
       "      <td>29.0</td>\n",
       "      <td>79.310345</td>\n",
       "      <td>20.689655</td>\n",
       "    </tr>\n",
       "    <tr>\n",
       "      <th>1</th>\n",
       "      <td>5.000000</td>\n",
       "      <td>3.000000</td>\n",
       "      <td>8.0</td>\n",
       "      <td>62.500000</td>\n",
       "      <td>37.500000</td>\n",
       "    </tr>\n",
       "    <tr>\n",
       "      <th>Total TSH</th>\n",
       "      <td>28.000000</td>\n",
       "      <td>9.000000</td>\n",
       "      <td>NaN</td>\n",
       "      <td>NaN</td>\n",
       "      <td>NaN</td>\n",
       "    </tr>\n",
       "    <tr>\n",
       "      <th>Percentage 0</th>\n",
       "      <td>82.142857</td>\n",
       "      <td>66.666667</td>\n",
       "      <td>NaN</td>\n",
       "      <td>NaN</td>\n",
       "      <td>NaN</td>\n",
       "    </tr>\n",
       "    <tr>\n",
       "      <th>Percentage 1</th>\n",
       "      <td>17.857143</td>\n",
       "      <td>33.333333</td>\n",
       "      <td>NaN</td>\n",
       "      <td>NaN</td>\n",
       "      <td>NaN</td>\n",
       "    </tr>\n",
       "  </tbody>\n",
       "</table>\n",
       "</div>"
      ],
      "text/plain": [
       "R_B12                 0          1  Total B12  Percentage 0  Percentage 1\n",
       "0             23.000000   6.000000       29.0     79.310345     20.689655\n",
       "1              5.000000   3.000000        8.0     62.500000     37.500000\n",
       "Total TSH     28.000000   9.000000        NaN           NaN           NaN\n",
       "Percentage 0  82.142857  66.666667        NaN           NaN           NaN\n",
       "Percentage 1  17.857143  33.333333        NaN           NaN           NaN"
      ]
     },
     "execution_count": 556,
     "metadata": {},
     "output_type": "execute_result"
    }
   ],
   "source": [
    "Total_TSH = [pivot4.iloc[0, :] + pivot4.iloc[1, :]]\n",
    "Total_TSH = pd.DataFrame(Total_TSH, index = ['Total TSH'])\n",
    "piv = pivot4.append(Total_TSH)\n",
    "Total_B12 = pivot4.iloc[:, 0] + pivot4.iloc[:, 1]\n",
    "piv['Total B12'] = Total_B12\n",
    "Percentage_0 = [(piv.iloc[0, :]/piv.iloc[2, :])*100]\n",
    "Percentage_1 = [(piv.iloc[1, :]/piv.iloc[2, :])*100]\n",
    "Percentage_0 = pd.DataFrame(Percentage_0, index = ['Percentage 0'])\n",
    "Percentage_1 = pd.DataFrame(Percentage_1, index = ['Percentage 1'])\n",
    "Percentage_R0 = (piv.iloc[:, 0]/piv['Total B12'])*100\n",
    "Percentage_R1 = (piv.iloc[:, 1]/piv['Total B12'])*100\n",
    "piv = piv.append(Percentage_0)\n",
    "piv = piv.append(Percentage_1)\n",
    "piv['Percentage 0'] = Percentage_R0\n",
    "piv['Percentage 1'] = Percentage_R1\n",
    "piv"
   ]
  },
  {
   "cell_type": "code",
   "execution_count": 557,
   "metadata": {},
   "outputs": [
    {
     "name": "stdout",
     "output_type": "stream",
     "text": [
      "Yule's Coefficient of Association:  0.3939393939393939\n",
      "Odd's Ratio:  0.43478260869565216\n"
     ]
    }
   ],
   "source": [
    "Q = ((piv.iloc[1, 1] * piv.iloc[0, 0]) - (piv.iloc[1, 0] * piv.iloc[0, 1]))/((piv.iloc[1, 1] * piv.iloc[0, 0]) + (piv.iloc[1, 0] * piv.iloc[0, 1]))\n",
    "print(\"Yule's Coefficient of Association: \", Q)\n",
    "O = (piv.iloc[1, 0]*piv.iloc[0, 1])/(piv.iloc[0, 0]*piv.iloc[1, 1])\n",
    "print(\"Odd's Ratio: \", O)"
   ]
  },
  {
   "cell_type": "markdown",
   "metadata": {},
   "source": [
    "### TSH vs Supplement Consumptions"
   ]
  },
  {
   "cell_type": "code",
   "execution_count": 558,
   "metadata": {},
   "outputs": [
    {
     "data": {
      "text/html": [
       "<div>\n",
       "<style scoped>\n",
       "    .dataframe tbody tr th:only-of-type {\n",
       "        vertical-align: middle;\n",
       "    }\n",
       "\n",
       "    .dataframe tbody tr th {\n",
       "        vertical-align: top;\n",
       "    }\n",
       "\n",
       "    .dataframe thead th {\n",
       "        text-align: right;\n",
       "    }\n",
       "</style>\n",
       "<table border=\"1\" class=\"dataframe\">\n",
       "  <thead>\n",
       "    <tr style=\"text-align: right;\">\n",
       "      <th>Q30</th>\n",
       "      <th>0.0</th>\n",
       "      <th>1.0</th>\n",
       "    </tr>\n",
       "    <tr>\n",
       "      <th>R_TSH</th>\n",
       "      <th></th>\n",
       "      <th></th>\n",
       "    </tr>\n",
       "  </thead>\n",
       "  <tbody>\n",
       "    <tr>\n",
       "      <th>0</th>\n",
       "      <td>33</td>\n",
       "      <td>14</td>\n",
       "    </tr>\n",
       "    <tr>\n",
       "      <th>1</th>\n",
       "      <td>5</td>\n",
       "      <td>10</td>\n",
       "    </tr>\n",
       "  </tbody>\n",
       "</table>\n",
       "</div>"
      ],
      "text/plain": [
       "Q30    0.0  1.0\n",
       "R_TSH          \n",
       "0       33   14\n",
       "1        5   10"
      ]
     },
     "execution_count": 558,
     "metadata": {},
     "output_type": "execute_result"
    }
   ],
   "source": [
    "pivot5 = pd.pivot_table(TSH, values = 'Count', index = ['R_TSH'], columns = ['Q30'], aggfunc = np.sum)\n",
    "pivot5"
   ]
  },
  {
   "cell_type": "code",
   "execution_count": 559,
   "metadata": {},
   "outputs": [
    {
     "data": {
      "text/plain": [
       "(5.056834017668285, 0.024529008299616302, 1, array([[28.80645161, 18.19354839],\n",
       "        [ 9.19354839,  5.80645161]]))"
      ]
     },
     "execution_count": 559,
     "metadata": {},
     "output_type": "execute_result"
    }
   ],
   "source": [
    "stat5 = stats.chi2_contingency(pivot5)\n",
    "stat5"
   ]
  },
  {
   "cell_type": "code",
   "execution_count": 560,
   "metadata": {},
   "outputs": [
    {
     "data": {
      "text/plain": [
       "<matplotlib.axes._subplots.AxesSubplot at 0x1794c250e10>"
      ]
     },
     "execution_count": 560,
     "metadata": {},
     "output_type": "execute_result"
    },
    {
     "data": {
      "image/png": "[encoded data removed]",
      "text/plain": [
       "<Figure size 432x288 with 1 Axes>"
      ]
     },
     "metadata": {},
     "output_type": "display_data"
    }
   ],
   "source": [
    "pivot5.plot(kind = 'bar')"
   ]
  },
  {
   "cell_type": "code",
   "execution_count": 561,
   "metadata": {},
   "outputs": [
    {
     "data": {
      "text/html": [
       "<div>\n",
       "<style scoped>\n",
       "    .dataframe tbody tr th:only-of-type {\n",
       "        vertical-align: middle;\n",
       "    }\n",
       "\n",
       "    .dataframe tbody tr th {\n",
       "        vertical-align: top;\n",
       "    }\n",
       "\n",
       "    .dataframe thead th {\n",
       "        text-align: right;\n",
       "    }\n",
       "</style>\n",
       "<table border=\"1\" class=\"dataframe\">\n",
       "  <thead>\n",
       "    <tr style=\"text-align: right;\">\n",
       "      <th>Q30</th>\n",
       "      <th>0.0</th>\n",
       "      <th>1.0</th>\n",
       "      <th>Total SC</th>\n",
       "      <th>Percentage 0</th>\n",
       "      <th>Percentage 1</th>\n",
       "    </tr>\n",
       "  </thead>\n",
       "  <tbody>\n",
       "    <tr>\n",
       "      <th>0</th>\n",
       "      <td>33.000000</td>\n",
       "      <td>14.000000</td>\n",
       "      <td>47.0</td>\n",
       "      <td>70.212766</td>\n",
       "      <td>29.787234</td>\n",
       "    </tr>\n",
       "    <tr>\n",
       "      <th>1</th>\n",
       "      <td>5.000000</td>\n",
       "      <td>10.000000</td>\n",
       "      <td>15.0</td>\n",
       "      <td>33.333333</td>\n",
       "      <td>66.666667</td>\n",
       "    </tr>\n",
       "    <tr>\n",
       "      <th>Total TSH</th>\n",
       "      <td>38.000000</td>\n",
       "      <td>24.000000</td>\n",
       "      <td>NaN</td>\n",
       "      <td>NaN</td>\n",
       "      <td>NaN</td>\n",
       "    </tr>\n",
       "    <tr>\n",
       "      <th>Percentage 0</th>\n",
       "      <td>86.842105</td>\n",
       "      <td>58.333333</td>\n",
       "      <td>NaN</td>\n",
       "      <td>NaN</td>\n",
       "      <td>NaN</td>\n",
       "    </tr>\n",
       "    <tr>\n",
       "      <th>Percentage 1</th>\n",
       "      <td>13.157895</td>\n",
       "      <td>41.666667</td>\n",
       "      <td>NaN</td>\n",
       "      <td>NaN</td>\n",
       "      <td>NaN</td>\n",
       "    </tr>\n",
       "  </tbody>\n",
       "</table>\n",
       "</div>"
      ],
      "text/plain": [
       "Q30                 0.0        1.0  Total SC  Percentage 0  Percentage 1\n",
       "0             33.000000  14.000000      47.0     70.212766     29.787234\n",
       "1              5.000000  10.000000      15.0     33.333333     66.666667\n",
       "Total TSH     38.000000  24.000000       NaN           NaN           NaN\n",
       "Percentage 0  86.842105  58.333333       NaN           NaN           NaN\n",
       "Percentage 1  13.157895  41.666667       NaN           NaN           NaN"
      ]
     },
     "execution_count": 561,
     "metadata": {},
     "output_type": "execute_result"
    }
   ],
   "source": [
    "Total_TSH = [pivot5.iloc[0, :] + pivot5.iloc[1, :]]\n",
    "Total_TSH = pd.DataFrame(Total_TSH, index = ['Total TSH'])\n",
    "piv = pivot5.append(Total_TSH)\n",
    "Total_SC = pivot5.iloc[:, 0] + pivot5.iloc[:, 1]\n",
    "piv['Total SC'] = Total_SC\n",
    "Percentage_0 = [(piv.iloc[0, :]/piv.iloc[2, :])*100]\n",
    "Percentage_1 = [(piv.iloc[1, :]/piv.iloc[2, :])*100]\n",
    "Percentage_0 = pd.DataFrame(Percentage_0, index = ['Percentage 0'])\n",
    "Percentage_1 = pd.DataFrame(Percentage_1, index = ['Percentage 1'])\n",
    "Percentage_R0 = (piv.iloc[:, 0]/piv['Total SC'])*100\n",
    "Percentage_R1 = (piv.iloc[:, 1]/piv['Total SC'])*100\n",
    "piv = piv.append(Percentage_0)\n",
    "piv = piv.append(Percentage_1)\n",
    "piv['Percentage 0'] = Percentage_R0\n",
    "piv['Percentage 1'] = Percentage_R1\n",
    "piv"
   ]
  },
  {
   "cell_type": "code",
   "execution_count": 562,
   "metadata": {},
   "outputs": [
    {
     "name": "stdout",
     "output_type": "stream",
     "text": [
      "Yule's Coefficient of Association:  0.65\n",
      "Odd's Ratio:  0.21212121212121213\n"
     ]
    }
   ],
   "source": [
    "Q = ((piv.iloc[1, 1] * piv.iloc[0, 0]) - (piv.iloc[1, 0] * piv.iloc[0, 1]))/((piv.iloc[1, 1] * piv.iloc[0, 0]) + (piv.iloc[1, 0] * piv.iloc[0, 1]))\n",
    "print(\"Yule's Coefficient of Association: \", Q)\n",
    "O = (piv.iloc[1, 0]*piv.iloc[0, 1])/(piv.iloc[0, 0]*piv.iloc[1, 1])\n",
    "print(\"Odd's Ratio: \", O)"
   ]
  },
  {
   "cell_type": "markdown",
   "metadata": {},
   "source": [
    "### TSH vs Pain"
   ]
  },
  {
   "cell_type": "code",
   "execution_count": 563,
   "metadata": {},
   "outputs": [
    {
     "data": {
      "text/html": [
       "<div>\n",
       "<style scoped>\n",
       "    .dataframe tbody tr th:only-of-type {\n",
       "        vertical-align: middle;\n",
       "    }\n",
       "\n",
       "    .dataframe tbody tr th {\n",
       "        vertical-align: top;\n",
       "    }\n",
       "\n",
       "    .dataframe thead th {\n",
       "        text-align: right;\n",
       "    }\n",
       "</style>\n",
       "<table border=\"1\" class=\"dataframe\">\n",
       "  <thead>\n",
       "    <tr style=\"text-align: right;\">\n",
       "      <th>Q31</th>\n",
       "      <th>0</th>\n",
       "      <th>1</th>\n",
       "    </tr>\n",
       "    <tr>\n",
       "      <th>R_TSH</th>\n",
       "      <th></th>\n",
       "      <th></th>\n",
       "    </tr>\n",
       "  </thead>\n",
       "  <tbody>\n",
       "    <tr>\n",
       "      <th>0</th>\n",
       "      <td>26</td>\n",
       "      <td>22</td>\n",
       "    </tr>\n",
       "    <tr>\n",
       "      <th>1</th>\n",
       "      <td>9</td>\n",
       "      <td>6</td>\n",
       "    </tr>\n",
       "  </tbody>\n",
       "</table>\n",
       "</div>"
      ],
      "text/plain": [
       "Q31     0   1\n",
       "R_TSH        \n",
       "0      26  22\n",
       "1       9   6"
      ]
     },
     "execution_count": 563,
     "metadata": {},
     "output_type": "execute_result"
    }
   ],
   "source": [
    "pivot6 = pd.pivot_table(TSH, values = 'Count', index = ['R_TSH'], columns = ['Q31'], aggfunc = np.sum)\n",
    "pivot6"
   ]
  },
  {
   "cell_type": "code",
   "execution_count": 564,
   "metadata": {},
   "outputs": [
    {
     "data": {
      "text/plain": [
       "(0.009843750000000024,\n",
       " 0.9209670300785183,\n",
       " 1,\n",
       " array([[26.66666667, 21.33333333],\n",
       "        [ 8.33333333,  6.66666667]]))"
      ]
     },
     "execution_count": 564,
     "metadata": {},
     "output_type": "execute_result"
    }
   ],
   "source": [
    "stat6 = stats.chi2_contingency(pivot6)\n",
    "stat6"
   ]
  },
  {
   "cell_type": "code",
   "execution_count": 565,
   "metadata": {},
   "outputs": [
    {
     "data": {
      "text/plain": [
       "<matplotlib.axes._subplots.AxesSubplot at 0x1794c2c0d30>"
      ]
     },
     "execution_count": 565,
     "metadata": {},
     "output_type": "execute_result"
    },
    {
     "data": {
      "image/png": "[encoded data removed]",
      "text/plain": [
       "<Figure size 432x288 with 1 Axes>"
      ]
     },
     "metadata": {},
     "output_type": "display_data"
    }
   ],
   "source": [
    "pivot6.plot(kind = 'bar')"
   ]
  },
  {
   "cell_type": "code",
   "execution_count": 566,
   "metadata": {},
   "outputs": [
    {
     "data": {
      "text/html": [
       "<div>\n",
       "<style scoped>\n",
       "    .dataframe tbody tr th:only-of-type {\n",
       "        vertical-align: middle;\n",
       "    }\n",
       "\n",
       "    .dataframe tbody tr th {\n",
       "        vertical-align: top;\n",
       "    }\n",
       "\n",
       "    .dataframe thead th {\n",
       "        text-align: right;\n",
       "    }\n",
       "</style>\n",
       "<table border=\"1\" class=\"dataframe\">\n",
       "  <thead>\n",
       "    <tr style=\"text-align: right;\">\n",
       "      <th>Q31</th>\n",
       "      <th>0</th>\n",
       "      <th>1</th>\n",
       "      <th>Total Pain</th>\n",
       "      <th>Percentage 0</th>\n",
       "      <th>Percentage 1</th>\n",
       "    </tr>\n",
       "  </thead>\n",
       "  <tbody>\n",
       "    <tr>\n",
       "      <th>0</th>\n",
       "      <td>26.000000</td>\n",
       "      <td>22.000000</td>\n",
       "      <td>48.0</td>\n",
       "      <td>54.166667</td>\n",
       "      <td>45.833333</td>\n",
       "    </tr>\n",
       "    <tr>\n",
       "      <th>1</th>\n",
       "      <td>9.000000</td>\n",
       "      <td>6.000000</td>\n",
       "      <td>15.0</td>\n",
       "      <td>60.000000</td>\n",
       "      <td>40.000000</td>\n",
       "    </tr>\n",
       "    <tr>\n",
       "      <th>Total TSH</th>\n",
       "      <td>35.000000</td>\n",
       "      <td>28.000000</td>\n",
       "      <td>NaN</td>\n",
       "      <td>NaN</td>\n",
       "      <td>NaN</td>\n",
       "    </tr>\n",
       "    <tr>\n",
       "      <th>Percentage 0</th>\n",
       "      <td>74.285714</td>\n",
       "      <td>78.571429</td>\n",
       "      <td>NaN</td>\n",
       "      <td>NaN</td>\n",
       "      <td>NaN</td>\n",
       "    </tr>\n",
       "    <tr>\n",
       "      <th>Percentage 1</th>\n",
       "      <td>25.714286</td>\n",
       "      <td>21.428571</td>\n",
       "      <td>NaN</td>\n",
       "      <td>NaN</td>\n",
       "      <td>NaN</td>\n",
       "    </tr>\n",
       "  </tbody>\n",
       "</table>\n",
       "</div>"
      ],
      "text/plain": [
       "Q31                   0          1  Total Pain  Percentage 0  Percentage 1\n",
       "0             26.000000  22.000000        48.0     54.166667     45.833333\n",
       "1              9.000000   6.000000        15.0     60.000000     40.000000\n",
       "Total TSH     35.000000  28.000000         NaN           NaN           NaN\n",
       "Percentage 0  74.285714  78.571429         NaN           NaN           NaN\n",
       "Percentage 1  25.714286  21.428571         NaN           NaN           NaN"
      ]
     },
     "execution_count": 566,
     "metadata": {},
     "output_type": "execute_result"
    }
   ],
   "source": [
    "Total_TSH = [pivot6.iloc[0, :] + pivot6.iloc[1, :]]\n",
    "Total_TSH = pd.DataFrame(Total_TSH, index = ['Total TSH'])\n",
    "piv = pivot6.append(Total_TSH)\n",
    "Total_Pain = pivot6.iloc[:, 0] + pivot6.iloc[:, 1]\n",
    "piv['Total Pain'] = Total_Pain\n",
    "Percentage_0 = [(piv.iloc[0, :]/piv.iloc[2, :])*100]\n",
    "Percentage_1 = [(piv.iloc[1, :]/piv.iloc[2, :])*100]\n",
    "Percentage_0 = pd.DataFrame(Percentage_0, index = ['Percentage 0'])\n",
    "Percentage_1 = pd.DataFrame(Percentage_1, index = ['Percentage 1'])\n",
    "Percentage_R0 = (piv.iloc[:, 0]/piv['Total Pain'])*100\n",
    "Percentage_R1 = (piv.iloc[:, 1]/piv['Total Pain'])*100\n",
    "piv = piv.append(Percentage_0)\n",
    "piv = piv.append(Percentage_1)\n",
    "piv['Percentage 0'] = Percentage_R0\n",
    "piv['Percentage 1'] = Percentage_R1\n",
    "piv"
   ]
  },
  {
   "cell_type": "code",
   "execution_count": 567,
   "metadata": {},
   "outputs": [
    {
     "name": "stdout",
     "output_type": "stream",
     "text": [
      "Yule's Coefficient of Association:  -0.11864406779661017\n",
      "Odd's Ratio:  1.2692307692307692\n"
     ]
    }
   ],
   "source": [
    "Q = ((piv.iloc[1, 1] * piv.iloc[0, 0]) - (piv.iloc[1, 0] * piv.iloc[0, 1]))/((piv.iloc[1, 1] * piv.iloc[0, 0]) + (piv.iloc[1, 0] * piv.iloc[0, 1]))\n",
    "print(\"Yule's Coefficient of Association: \", Q)\n",
    "O = (piv.iloc[1, 0]*piv.iloc[0, 1])/(piv.iloc[0, 0]*piv.iloc[1, 1])\n",
    "print(\"Odd's Ratio: \", O)"
   ]
  },
  {
   "cell_type": "markdown",
   "metadata": {},
   "source": [
    "### TSH vs RO Water Consumption"
   ]
  },
  {
   "cell_type": "code",
   "execution_count": 568,
   "metadata": {},
   "outputs": [
    {
     "data": {
      "text/html": [
       "<div>\n",
       "<style scoped>\n",
       "    .dataframe tbody tr th:only-of-type {\n",
       "        vertical-align: middle;\n",
       "    }\n",
       "\n",
       "    .dataframe tbody tr th {\n",
       "        vertical-align: top;\n",
       "    }\n",
       "\n",
       "    .dataframe thead th {\n",
       "        text-align: right;\n",
       "    }\n",
       "</style>\n",
       "<table border=\"1\" class=\"dataframe\">\n",
       "  <thead>\n",
       "    <tr style=\"text-align: right;\">\n",
       "      <th>Q34</th>\n",
       "      <th>0</th>\n",
       "      <th>1</th>\n",
       "    </tr>\n",
       "    <tr>\n",
       "      <th>R_TSH</th>\n",
       "      <th></th>\n",
       "      <th></th>\n",
       "    </tr>\n",
       "  </thead>\n",
       "  <tbody>\n",
       "    <tr>\n",
       "      <th>0</th>\n",
       "      <td>18</td>\n",
       "      <td>30</td>\n",
       "    </tr>\n",
       "    <tr>\n",
       "      <th>1</th>\n",
       "      <td>4</td>\n",
       "      <td>11</td>\n",
       "    </tr>\n",
       "  </tbody>\n",
       "</table>\n",
       "</div>"
      ],
      "text/plain": [
       "Q34     0   1\n",
       "R_TSH        \n",
       "0      18  30\n",
       "1       4  11"
      ]
     },
     "execution_count": 568,
     "metadata": {},
     "output_type": "execute_result"
    }
   ],
   "source": [
    "pivot7 = pd.pivot_table(TSH, values = 'Count', index = ['R_TSH'], columns = ['Q34'], aggfunc = np.sum)\n",
    "pivot7"
   ]
  },
  {
   "cell_type": "code",
   "execution_count": 569,
   "metadata": {},
   "outputs": [
    {
     "data": {
      "text/plain": [
       "(0.20975263303769376, 0.6469613567831611, 1, array([[16.76190476, 31.23809524],\n",
       "        [ 5.23809524,  9.76190476]]))"
      ]
     },
     "execution_count": 569,
     "metadata": {},
     "output_type": "execute_result"
    }
   ],
   "source": [
    "stat7 = stats.chi2_contingency(pivot7)\n",
    "stat7"
   ]
  },
  {
   "cell_type": "code",
   "execution_count": 570,
   "metadata": {},
   "outputs": [
    {
     "data": {
      "text/plain": [
       "<matplotlib.axes._subplots.AxesSubplot at 0x1794c322128>"
      ]
     },
     "execution_count": 570,
     "metadata": {},
     "output_type": "execute_result"
    },
    {
     "data": {
      "image/png": "[encoded data removed]",
      "text/plain": [
       "<Figure size 432x288 with 1 Axes>"
      ]
     },
     "metadata": {},
     "output_type": "display_data"
    }
   ],
   "source": [
    "pivot7.plot(kind = 'bar')"
   ]
  },
  {
   "cell_type": "code",
   "execution_count": 571,
   "metadata": {},
   "outputs": [
    {
     "data": {
      "text/html": [
       "<div>\n",
       "<style scoped>\n",
       "    .dataframe tbody tr th:only-of-type {\n",
       "        vertical-align: middle;\n",
       "    }\n",
       "\n",
       "    .dataframe tbody tr th {\n",
       "        vertical-align: top;\n",
       "    }\n",
       "\n",
       "    .dataframe thead th {\n",
       "        text-align: right;\n",
       "    }\n",
       "</style>\n",
       "<table border=\"1\" class=\"dataframe\">\n",
       "  <thead>\n",
       "    <tr style=\"text-align: right;\">\n",
       "      <th>Q34</th>\n",
       "      <th>0</th>\n",
       "      <th>1</th>\n",
       "      <th>Total RO</th>\n",
       "      <th>Percentage 0</th>\n",
       "      <th>Percentage 1</th>\n",
       "    </tr>\n",
       "  </thead>\n",
       "  <tbody>\n",
       "    <tr>\n",
       "      <th>0</th>\n",
       "      <td>18.000000</td>\n",
       "      <td>30.000000</td>\n",
       "      <td>48.0</td>\n",
       "      <td>37.500000</td>\n",
       "      <td>62.500000</td>\n",
       "    </tr>\n",
       "    <tr>\n",
       "      <th>1</th>\n",
       "      <td>4.000000</td>\n",
       "      <td>11.000000</td>\n",
       "      <td>15.0</td>\n",
       "      <td>26.666667</td>\n",
       "      <td>73.333333</td>\n",
       "    </tr>\n",
       "    <tr>\n",
       "      <th>Total TSH</th>\n",
       "      <td>22.000000</td>\n",
       "      <td>41.000000</td>\n",
       "      <td>NaN</td>\n",
       "      <td>NaN</td>\n",
       "      <td>NaN</td>\n",
       "    </tr>\n",
       "    <tr>\n",
       "      <th>Percentage 0</th>\n",
       "      <td>81.818182</td>\n",
       "      <td>73.170732</td>\n",
       "      <td>NaN</td>\n",
       "      <td>NaN</td>\n",
       "      <td>NaN</td>\n",
       "    </tr>\n",
       "    <tr>\n",
       "      <th>Percentage 1</th>\n",
       "      <td>18.181818</td>\n",
       "      <td>26.829268</td>\n",
       "      <td>NaN</td>\n",
       "      <td>NaN</td>\n",
       "      <td>NaN</td>\n",
       "    </tr>\n",
       "  </tbody>\n",
       "</table>\n",
       "</div>"
      ],
      "text/plain": [
       "Q34                   0          1  Total RO  Percentage 0  Percentage 1\n",
       "0             18.000000  30.000000      48.0     37.500000     62.500000\n",
       "1              4.000000  11.000000      15.0     26.666667     73.333333\n",
       "Total TSH     22.000000  41.000000       NaN           NaN           NaN\n",
       "Percentage 0  81.818182  73.170732       NaN           NaN           NaN\n",
       "Percentage 1  18.181818  26.829268       NaN           NaN           NaN"
      ]
     },
     "execution_count": 571,
     "metadata": {},
     "output_type": "execute_result"
    }
   ],
   "source": [
    "Total_TSH = [pivot7.iloc[0, :] + pivot7.iloc[1, :]]\n",
    "Total_TSH = pd.DataFrame(Total_TSH, index = ['Total TSH'])\n",
    "piv = pivot7.append(Total_TSH)\n",
    "Total_RO = pivot7.iloc[:, 0] + pivot7.iloc[:, 1]\n",
    "piv['Total RO'] = Total_RO\n",
    "Percentage_0 = [(piv.iloc[0, :]/piv.iloc[2, :])*100]\n",
    "Percentage_1 = [(piv.iloc[1, :]/piv.iloc[2, :])*100]\n",
    "Percentage_0 = pd.DataFrame(Percentage_0, index = ['Percentage 0'])\n",
    "Percentage_1 = pd.DataFrame(Percentage_1, index = ['Percentage 1'])\n",
    "Percentage_R0 = (piv.iloc[:, 0]/piv['Total RO'])*100\n",
    "Percentage_R1 = (piv.iloc[:, 1]/piv['Total RO'])*100\n",
    "piv = piv.append(Percentage_0)\n",
    "piv = piv.append(Percentage_1)\n",
    "piv['Percentage 0'] = Percentage_R0\n",
    "piv['Percentage 1'] = Percentage_R1\n",
    "piv"
   ]
  },
  {
   "cell_type": "code",
   "execution_count": 572,
   "metadata": {},
   "outputs": [
    {
     "name": "stdout",
     "output_type": "stream",
     "text": [
      "Yule's Coefficient of Association:  0.24528301886792453\n",
      "Odd's Ratio:  0.6060606060606061\n"
     ]
    }
   ],
   "source": [
    "Q = ((piv.iloc[1, 1] * piv.iloc[0, 0]) - (piv.iloc[1, 0] * piv.iloc[0, 1]))/((piv.iloc[1, 1] * piv.iloc[0, 0]) + (piv.iloc[1, 0] * piv.iloc[0, 1]))\n",
    "print(\"Yule's Coefficient of Association: \", Q)\n",
    "O = (piv.iloc[1, 0]*piv.iloc[0, 1])/(piv.iloc[0, 0]*piv.iloc[1, 1])\n",
    "print(\"Odd's Ratio: \", O)"
   ]
  },
  {
   "cell_type": "markdown",
   "metadata": {},
   "source": [
    "### TSH vs Excessive Blood Loss during Menstruation"
   ]
  },
  {
   "cell_type": "code",
   "execution_count": 573,
   "metadata": {},
   "outputs": [
    {
     "data": {
      "text/html": [
       "<div>\n",
       "<style scoped>\n",
       "    .dataframe tbody tr th:only-of-type {\n",
       "        vertical-align: middle;\n",
       "    }\n",
       "\n",
       "    .dataframe tbody tr th {\n",
       "        vertical-align: top;\n",
       "    }\n",
       "\n",
       "    .dataframe thead th {\n",
       "        text-align: right;\n",
       "    }\n",
       "</style>\n",
       "<table border=\"1\" class=\"dataframe\">\n",
       "  <thead>\n",
       "    <tr style=\"text-align: right;\">\n",
       "      <th>Q36</th>\n",
       "      <th>0.0</th>\n",
       "      <th>1.0</th>\n",
       "    </tr>\n",
       "    <tr>\n",
       "      <th>R_TSH</th>\n",
       "      <th></th>\n",
       "      <th></th>\n",
       "    </tr>\n",
       "  </thead>\n",
       "  <tbody>\n",
       "    <tr>\n",
       "      <th>0</th>\n",
       "      <td>30</td>\n",
       "      <td>4</td>\n",
       "    </tr>\n",
       "    <tr>\n",
       "      <th>1</th>\n",
       "      <td>7</td>\n",
       "      <td>1</td>\n",
       "    </tr>\n",
       "  </tbody>\n",
       "</table>\n",
       "</div>"
      ],
      "text/plain": [
       "Q36    0.0  1.0\n",
       "R_TSH          \n",
       "0       30    4\n",
       "1        7    1"
      ]
     },
     "execution_count": 573,
     "metadata": {},
     "output_type": "execute_result"
    }
   ],
   "source": [
    "pivot8 = pd.pivot_table(TSH[TSH['Gender'] == 'Female'], values = 'Count', index = ['R_TSH'], columns = ['Q36'], aggfunc = np.sum)\n",
    "pivot8"
   ]
  },
  {
   "cell_type": "code",
   "execution_count": 574,
   "metadata": {},
   "outputs": [
    {
     "data": {
      "text/plain": [
       "(0.30131160572337046, 0.5830613278388281, 1, array([[29.95238095,  4.04761905],\n",
       "        [ 7.04761905,  0.95238095]]))"
      ]
     },
     "execution_count": 574,
     "metadata": {},
     "output_type": "execute_result"
    }
   ],
   "source": [
    "stat8 = stats.chi2_contingency(pivot8)\n",
    "stat8"
   ]
  },
  {
   "cell_type": "code",
   "execution_count": 575,
   "metadata": {},
   "outputs": [
    {
     "data": {
      "text/plain": [
       "<matplotlib.axes._subplots.AxesSubplot at 0x1794c3ac2e8>"
      ]
     },
     "execution_count": 575,
     "metadata": {},
     "output_type": "execute_result"
    },
    {
     "data": {
      "image/png": "[encoded data removed]",
      "text/plain": [
       "<Figure size 432x288 with 1 Axes>"
      ]
     },
     "metadata": {},
     "output_type": "display_data"
    }
   ],
   "source": [
    "pivot8.plot(kind = 'bar')"
   ]
  },
  {
   "cell_type": "code",
   "execution_count": 576,
   "metadata": {},
   "outputs": [
    {
     "data": {
      "text/html": [
       "<div>\n",
       "<style scoped>\n",
       "    .dataframe tbody tr th:only-of-type {\n",
       "        vertical-align: middle;\n",
       "    }\n",
       "\n",
       "    .dataframe tbody tr th {\n",
       "        vertical-align: top;\n",
       "    }\n",
       "\n",
       "    .dataframe thead th {\n",
       "        text-align: right;\n",
       "    }\n",
       "</style>\n",
       "<table border=\"1\" class=\"dataframe\">\n",
       "  <thead>\n",
       "    <tr style=\"text-align: right;\">\n",
       "      <th>Q36</th>\n",
       "      <th>0.0</th>\n",
       "      <th>1.0</th>\n",
       "      <th>Total BL</th>\n",
       "      <th>Percentage 0</th>\n",
       "      <th>Percentage 1</th>\n",
       "    </tr>\n",
       "  </thead>\n",
       "  <tbody>\n",
       "    <tr>\n",
       "      <th>0</th>\n",
       "      <td>30.000000</td>\n",
       "      <td>4.0</td>\n",
       "      <td>34.0</td>\n",
       "      <td>88.235294</td>\n",
       "      <td>11.764706</td>\n",
       "    </tr>\n",
       "    <tr>\n",
       "      <th>1</th>\n",
       "      <td>7.000000</td>\n",
       "      <td>1.0</td>\n",
       "      <td>8.0</td>\n",
       "      <td>87.500000</td>\n",
       "      <td>12.500000</td>\n",
       "    </tr>\n",
       "    <tr>\n",
       "      <th>Total TSH</th>\n",
       "      <td>37.000000</td>\n",
       "      <td>5.0</td>\n",
       "      <td>NaN</td>\n",
       "      <td>NaN</td>\n",
       "      <td>NaN</td>\n",
       "    </tr>\n",
       "    <tr>\n",
       "      <th>Percentage 0</th>\n",
       "      <td>81.081081</td>\n",
       "      <td>80.0</td>\n",
       "      <td>NaN</td>\n",
       "      <td>NaN</td>\n",
       "      <td>NaN</td>\n",
       "    </tr>\n",
       "    <tr>\n",
       "      <th>Percentage 1</th>\n",
       "      <td>18.918919</td>\n",
       "      <td>20.0</td>\n",
       "      <td>NaN</td>\n",
       "      <td>NaN</td>\n",
       "      <td>NaN</td>\n",
       "    </tr>\n",
       "  </tbody>\n",
       "</table>\n",
       "</div>"
      ],
      "text/plain": [
       "Q36                 0.0   1.0  Total BL  Percentage 0  Percentage 1\n",
       "0             30.000000   4.0      34.0     88.235294     11.764706\n",
       "1              7.000000   1.0       8.0     87.500000     12.500000\n",
       "Total TSH     37.000000   5.0       NaN           NaN           NaN\n",
       "Percentage 0  81.081081  80.0       NaN           NaN           NaN\n",
       "Percentage 1  18.918919  20.0       NaN           NaN           NaN"
      ]
     },
     "execution_count": 576,
     "metadata": {},
     "output_type": "execute_result"
    }
   ],
   "source": [
    "Total_TSH = [pivot8.iloc[0, :] + pivot8.iloc[1, :]]\n",
    "Total_TSH = pd.DataFrame(Total_TSH, index = ['Total TSH'])\n",
    "piv = pivot8.append(Total_TSH)\n",
    "Total_BL = pivot8.iloc[:, 0] + pivot8.iloc[:, 1]\n",
    "piv['Total BL'] = Total_BL\n",
    "Percentage_0 = [(piv.iloc[0, :]/piv.iloc[2, :])*100]\n",
    "Percentage_1 = [(piv.iloc[1, :]/piv.iloc[2, :])*100]\n",
    "Percentage_0 = pd.DataFrame(Percentage_0, index = ['Percentage 0'])\n",
    "Percentage_1 = pd.DataFrame(Percentage_1, index = ['Percentage 1'])\n",
    "Percentage_R0 = (piv.iloc[:, 0]/piv['Total BL'])*100\n",
    "Percentage_R1 = (piv.iloc[:, 1]/piv['Total BL'])*100\n",
    "piv = piv.append(Percentage_0)\n",
    "piv = piv.append(Percentage_1)\n",
    "piv['Percentage 0'] = Percentage_R0\n",
    "piv['Percentage 1'] = Percentage_R1\n",
    "piv"
   ]
  },
  {
   "cell_type": "code",
   "execution_count": 577,
   "metadata": {},
   "outputs": [
    {
     "name": "stdout",
     "output_type": "stream",
     "text": [
      "Yule's Coefficient of Association:  0.034482758620689655\n",
      "Odd's Ratio:  0.9333333333333333\n"
     ]
    }
   ],
   "source": [
    "Q = ((piv.iloc[1, 1] * piv.iloc[0, 0]) - (piv.iloc[1, 0] * piv.iloc[0, 1]))/((piv.iloc[1, 1] * piv.iloc[0, 0]) + (piv.iloc[1, 0] * piv.iloc[0, 1]))\n",
    "print(\"Yule's Coefficient of Association: \", Q)\n",
    "O = (piv.iloc[1, 0]*piv.iloc[0, 1])/(piv.iloc[0, 0]*piv.iloc[1, 1])\n",
    "print(\"Odd's Ratio: \", O)"
   ]
  },
  {
   "cell_type": "markdown",
   "metadata": {},
   "source": [
    "### TSH vs Age Group"
   ]
  },
  {
   "cell_type": "code",
   "execution_count": 578,
   "metadata": {},
   "outputs": [],
   "source": [
    "Age_Group = []\n",
    "for i in range(len(TSH['Age'])):\n",
    "    if TSH.iloc[i, 0] <= 30:\n",
    "        Age_Group.append('11 to 30')\n",
    "    elif TSH.iloc[i, 0] <= 50:\n",
    "        Age_Group.append('31 to 50')\n",
    "    elif TSH.iloc[i, 0] <= 70:\n",
    "        Age_Group.append('51 to 70')\n",
    "    else:\n",
    "        Age_Group.append('More than 70')"
   ]
  },
  {
   "cell_type": "code",
   "execution_count": 579,
   "metadata": {},
   "outputs": [
    {
     "data": {
      "text/html": [
       "<div>\n",
       "<style scoped>\n",
       "    .dataframe tbody tr th:only-of-type {\n",
       "        vertical-align: middle;\n",
       "    }\n",
       "\n",
       "    .dataframe tbody tr th {\n",
       "        vertical-align: top;\n",
       "    }\n",
       "\n",
       "    .dataframe thead th {\n",
       "        text-align: right;\n",
       "    }\n",
       "</style>\n",
       "<table border=\"1\" class=\"dataframe\">\n",
       "  <thead>\n",
       "    <tr style=\"text-align: right;\">\n",
       "      <th></th>\n",
       "      <th>0</th>\n",
       "    </tr>\n",
       "  </thead>\n",
       "  <tbody>\n",
       "    <tr>\n",
       "      <th>0</th>\n",
       "      <td>31 to 50</td>\n",
       "    </tr>\n",
       "    <tr>\n",
       "      <th>1</th>\n",
       "      <td>31 to 50</td>\n",
       "    </tr>\n",
       "    <tr>\n",
       "      <th>2</th>\n",
       "      <td>11 to 30</td>\n",
       "    </tr>\n",
       "    <tr>\n",
       "      <th>3</th>\n",
       "      <td>11 to 30</td>\n",
       "    </tr>\n",
       "    <tr>\n",
       "      <th>4</th>\n",
       "      <td>51 to 70</td>\n",
       "    </tr>\n",
       "    <tr>\n",
       "      <th>5</th>\n",
       "      <td>31 to 50</td>\n",
       "    </tr>\n",
       "    <tr>\n",
       "      <th>6</th>\n",
       "      <td>51 to 70</td>\n",
       "    </tr>\n",
       "    <tr>\n",
       "      <th>7</th>\n",
       "      <td>51 to 70</td>\n",
       "    </tr>\n",
       "    <tr>\n",
       "      <th>8</th>\n",
       "      <td>More than 70</td>\n",
       "    </tr>\n",
       "    <tr>\n",
       "      <th>9</th>\n",
       "      <td>31 to 50</td>\n",
       "    </tr>\n",
       "    <tr>\n",
       "      <th>10</th>\n",
       "      <td>11 to 30</td>\n",
       "    </tr>\n",
       "    <tr>\n",
       "      <th>11</th>\n",
       "      <td>31 to 50</td>\n",
       "    </tr>\n",
       "    <tr>\n",
       "      <th>12</th>\n",
       "      <td>51 to 70</td>\n",
       "    </tr>\n",
       "    <tr>\n",
       "      <th>13</th>\n",
       "      <td>51 to 70</td>\n",
       "    </tr>\n",
       "    <tr>\n",
       "      <th>14</th>\n",
       "      <td>More than 70</td>\n",
       "    </tr>\n",
       "    <tr>\n",
       "      <th>15</th>\n",
       "      <td>31 to 50</td>\n",
       "    </tr>\n",
       "    <tr>\n",
       "      <th>16</th>\n",
       "      <td>31 to 50</td>\n",
       "    </tr>\n",
       "    <tr>\n",
       "      <th>17</th>\n",
       "      <td>31 to 50</td>\n",
       "    </tr>\n",
       "    <tr>\n",
       "      <th>18</th>\n",
       "      <td>31 to 50</td>\n",
       "    </tr>\n",
       "    <tr>\n",
       "      <th>19</th>\n",
       "      <td>31 to 50</td>\n",
       "    </tr>\n",
       "    <tr>\n",
       "      <th>20</th>\n",
       "      <td>51 to 70</td>\n",
       "    </tr>\n",
       "    <tr>\n",
       "      <th>21</th>\n",
       "      <td>11 to 30</td>\n",
       "    </tr>\n",
       "    <tr>\n",
       "      <th>22</th>\n",
       "      <td>31 to 50</td>\n",
       "    </tr>\n",
       "    <tr>\n",
       "      <th>23</th>\n",
       "      <td>11 to 30</td>\n",
       "    </tr>\n",
       "    <tr>\n",
       "      <th>24</th>\n",
       "      <td>51 to 70</td>\n",
       "    </tr>\n",
       "    <tr>\n",
       "      <th>25</th>\n",
       "      <td>51 to 70</td>\n",
       "    </tr>\n",
       "    <tr>\n",
       "      <th>26</th>\n",
       "      <td>31 to 50</td>\n",
       "    </tr>\n",
       "    <tr>\n",
       "      <th>27</th>\n",
       "      <td>31 to 50</td>\n",
       "    </tr>\n",
       "    <tr>\n",
       "      <th>28</th>\n",
       "      <td>31 to 50</td>\n",
       "    </tr>\n",
       "    <tr>\n",
       "      <th>29</th>\n",
       "      <td>11 to 30</td>\n",
       "    </tr>\n",
       "    <tr>\n",
       "      <th>...</th>\n",
       "      <td>...</td>\n",
       "    </tr>\n",
       "    <tr>\n",
       "      <th>33</th>\n",
       "      <td>51 to 70</td>\n",
       "    </tr>\n",
       "    <tr>\n",
       "      <th>34</th>\n",
       "      <td>11 to 30</td>\n",
       "    </tr>\n",
       "    <tr>\n",
       "      <th>35</th>\n",
       "      <td>51 to 70</td>\n",
       "    </tr>\n",
       "    <tr>\n",
       "      <th>36</th>\n",
       "      <td>31 to 50</td>\n",
       "    </tr>\n",
       "    <tr>\n",
       "      <th>37</th>\n",
       "      <td>51 to 70</td>\n",
       "    </tr>\n",
       "    <tr>\n",
       "      <th>38</th>\n",
       "      <td>51 to 70</td>\n",
       "    </tr>\n",
       "    <tr>\n",
       "      <th>39</th>\n",
       "      <td>51 to 70</td>\n",
       "    </tr>\n",
       "    <tr>\n",
       "      <th>40</th>\n",
       "      <td>31 to 50</td>\n",
       "    </tr>\n",
       "    <tr>\n",
       "      <th>41</th>\n",
       "      <td>31 to 50</td>\n",
       "    </tr>\n",
       "    <tr>\n",
       "      <th>42</th>\n",
       "      <td>51 to 70</td>\n",
       "    </tr>\n",
       "    <tr>\n",
       "      <th>43</th>\n",
       "      <td>31 to 50</td>\n",
       "    </tr>\n",
       "    <tr>\n",
       "      <th>44</th>\n",
       "      <td>31 to 50</td>\n",
       "    </tr>\n",
       "    <tr>\n",
       "      <th>45</th>\n",
       "      <td>11 to 30</td>\n",
       "    </tr>\n",
       "    <tr>\n",
       "      <th>46</th>\n",
       "      <td>51 to 70</td>\n",
       "    </tr>\n",
       "    <tr>\n",
       "      <th>47</th>\n",
       "      <td>51 to 70</td>\n",
       "    </tr>\n",
       "    <tr>\n",
       "      <th>48</th>\n",
       "      <td>51 to 70</td>\n",
       "    </tr>\n",
       "    <tr>\n",
       "      <th>49</th>\n",
       "      <td>51 to 70</td>\n",
       "    </tr>\n",
       "    <tr>\n",
       "      <th>50</th>\n",
       "      <td>51 to 70</td>\n",
       "    </tr>\n",
       "    <tr>\n",
       "      <th>51</th>\n",
       "      <td>51 to 70</td>\n",
       "    </tr>\n",
       "    <tr>\n",
       "      <th>52</th>\n",
       "      <td>31 to 50</td>\n",
       "    </tr>\n",
       "    <tr>\n",
       "      <th>53</th>\n",
       "      <td>31 to 50</td>\n",
       "    </tr>\n",
       "    <tr>\n",
       "      <th>54</th>\n",
       "      <td>51 to 70</td>\n",
       "    </tr>\n",
       "    <tr>\n",
       "      <th>55</th>\n",
       "      <td>51 to 70</td>\n",
       "    </tr>\n",
       "    <tr>\n",
       "      <th>56</th>\n",
       "      <td>51 to 70</td>\n",
       "    </tr>\n",
       "    <tr>\n",
       "      <th>57</th>\n",
       "      <td>51 to 70</td>\n",
       "    </tr>\n",
       "    <tr>\n",
       "      <th>58</th>\n",
       "      <td>51 to 70</td>\n",
       "    </tr>\n",
       "    <tr>\n",
       "      <th>59</th>\n",
       "      <td>31 to 50</td>\n",
       "    </tr>\n",
       "    <tr>\n",
       "      <th>60</th>\n",
       "      <td>31 to 50</td>\n",
       "    </tr>\n",
       "    <tr>\n",
       "      <th>61</th>\n",
       "      <td>51 to 70</td>\n",
       "    </tr>\n",
       "    <tr>\n",
       "      <th>62</th>\n",
       "      <td>51 to 70</td>\n",
       "    </tr>\n",
       "  </tbody>\n",
       "</table>\n",
       "<p>63 rows × 1 columns</p>\n",
       "</div>"
      ],
      "text/plain": [
       "               0\n",
       "0       31 to 50\n",
       "1       31 to 50\n",
       "2       11 to 30\n",
       "3       11 to 30\n",
       "4       51 to 70\n",
       "5       31 to 50\n",
       "6       51 to 70\n",
       "7       51 to 70\n",
       "8   More than 70\n",
       "9       31 to 50\n",
       "10      11 to 30\n",
       "11      31 to 50\n",
       "12      51 to 70\n",
       "13      51 to 70\n",
       "14  More than 70\n",
       "15      31 to 50\n",
       "16      31 to 50\n",
       "17      31 to 50\n",
       "18      31 to 50\n",
       "19      31 to 50\n",
       "20      51 to 70\n",
       "21      11 to 30\n",
       "22      31 to 50\n",
       "23      11 to 30\n",
       "24      51 to 70\n",
       "25      51 to 70\n",
       "26      31 to 50\n",
       "27      31 to 50\n",
       "28      31 to 50\n",
       "29      11 to 30\n",
       "..           ...\n",
       "33      51 to 70\n",
       "34      11 to 30\n",
       "35      51 to 70\n",
       "36      31 to 50\n",
       "37      51 to 70\n",
       "38      51 to 70\n",
       "39      51 to 70\n",
       "40      31 to 50\n",
       "41      31 to 50\n",
       "42      51 to 70\n",
       "43      31 to 50\n",
       "44      31 to 50\n",
       "45      11 to 30\n",
       "46      51 to 70\n",
       "47      51 to 70\n",
       "48      51 to 70\n",
       "49      51 to 70\n",
       "50      51 to 70\n",
       "51      51 to 70\n",
       "52      31 to 50\n",
       "53      31 to 50\n",
       "54      51 to 70\n",
       "55      51 to 70\n",
       "56      51 to 70\n",
       "57      51 to 70\n",
       "58      51 to 70\n",
       "59      31 to 50\n",
       "60      31 to 50\n",
       "61      51 to 70\n",
       "62      51 to 70\n",
       "\n",
       "[63 rows x 1 columns]"
      ]
     },
     "execution_count": 579,
     "metadata": {},
     "output_type": "execute_result"
    }
   ],
   "source": [
    "Age_Group = pd.DataFrame([Age_Group]).T\n",
    "Age_Group"
   ]
  },
  {
   "cell_type": "code",
   "execution_count": 580,
   "metadata": {},
   "outputs": [],
   "source": [
    "TSH['Age_Group'] = Age_Group"
   ]
  },
  {
   "cell_type": "code",
   "execution_count": 581,
   "metadata": {},
   "outputs": [
    {
     "data": {
      "text/html": [
       "<div>\n",
       "<style scoped>\n",
       "    .dataframe tbody tr th:only-of-type {\n",
       "        vertical-align: middle;\n",
       "    }\n",
       "\n",
       "    .dataframe tbody tr th {\n",
       "        vertical-align: top;\n",
       "    }\n",
       "\n",
       "    .dataframe thead th {\n",
       "        text-align: right;\n",
       "    }\n",
       "</style>\n",
       "<table border=\"1\" class=\"dataframe\">\n",
       "  <thead>\n",
       "    <tr style=\"text-align: right;\">\n",
       "      <th></th>\n",
       "      <th>Age</th>\n",
       "      <th>Eating Habits</th>\n",
       "      <th>Gender</th>\n",
       "      <th>Q1</th>\n",
       "      <th>Q2</th>\n",
       "      <th>Q3</th>\n",
       "      <th>Q4</th>\n",
       "      <th>Q5</th>\n",
       "      <th>Q6</th>\n",
       "      <th>Q7</th>\n",
       "      <th>...</th>\n",
       "      <th>Q33</th>\n",
       "      <th>Q34</th>\n",
       "      <th>Q35</th>\n",
       "      <th>Q36</th>\n",
       "      <th>Q37</th>\n",
       "      <th>Q38</th>\n",
       "      <th>R_TSH</th>\n",
       "      <th>R_B12</th>\n",
       "      <th>Count</th>\n",
       "      <th>Age_Group</th>\n",
       "    </tr>\n",
       "  </thead>\n",
       "  <tbody>\n",
       "    <tr>\n",
       "      <th>0</th>\n",
       "      <td>38</td>\n",
       "      <td>Vegetarian</td>\n",
       "      <td>Female</td>\n",
       "      <td>1</td>\n",
       "      <td>1</td>\n",
       "      <td>1</td>\n",
       "      <td>1</td>\n",
       "      <td>1</td>\n",
       "      <td>0</td>\n",
       "      <td>0</td>\n",
       "      <td>...</td>\n",
       "      <td>Household</td>\n",
       "      <td>0</td>\n",
       "      <td>1.0</td>\n",
       "      <td>0.0</td>\n",
       "      <td>0.0</td>\n",
       "      <td>0</td>\n",
       "      <td>0</td>\n",
       "      <td>0</td>\n",
       "      <td>1</td>\n",
       "      <td>31 to 50</td>\n",
       "    </tr>\n",
       "    <tr>\n",
       "      <th>1</th>\n",
       "      <td>38</td>\n",
       "      <td>Vegetarian</td>\n",
       "      <td>Male</td>\n",
       "      <td>0</td>\n",
       "      <td>0</td>\n",
       "      <td>0</td>\n",
       "      <td>1</td>\n",
       "      <td>1</td>\n",
       "      <td>1</td>\n",
       "      <td>0</td>\n",
       "      <td>...</td>\n",
       "      <td>Office</td>\n",
       "      <td>0</td>\n",
       "      <td>0.0</td>\n",
       "      <td>0.0</td>\n",
       "      <td>1.0</td>\n",
       "      <td>0</td>\n",
       "      <td>0</td>\n",
       "      <td>1</td>\n",
       "      <td>1</td>\n",
       "      <td>31 to 50</td>\n",
       "    </tr>\n",
       "    <tr>\n",
       "      <th>2</th>\n",
       "      <td>20</td>\n",
       "      <td>Vegetarian</td>\n",
       "      <td>Female</td>\n",
       "      <td>0</td>\n",
       "      <td>0</td>\n",
       "      <td>0</td>\n",
       "      <td>0</td>\n",
       "      <td>0</td>\n",
       "      <td>0</td>\n",
       "      <td>0</td>\n",
       "      <td>...</td>\n",
       "      <td>Household</td>\n",
       "      <td>1</td>\n",
       "      <td>0.0</td>\n",
       "      <td>0.0</td>\n",
       "      <td>NaN</td>\n",
       "      <td>0</td>\n",
       "      <td>0</td>\n",
       "      <td>None</td>\n",
       "      <td>1</td>\n",
       "      <td>11 to 30</td>\n",
       "    </tr>\n",
       "    <tr>\n",
       "      <th>3</th>\n",
       "      <td>25</td>\n",
       "      <td>Non - Vegetarian</td>\n",
       "      <td>Female</td>\n",
       "      <td>1</td>\n",
       "      <td>0</td>\n",
       "      <td>0</td>\n",
       "      <td>0</td>\n",
       "      <td>1</td>\n",
       "      <td>0</td>\n",
       "      <td>0</td>\n",
       "      <td>...</td>\n",
       "      <td>Outdoor</td>\n",
       "      <td>1</td>\n",
       "      <td>0.0</td>\n",
       "      <td>0.0</td>\n",
       "      <td>0.0</td>\n",
       "      <td>0</td>\n",
       "      <td>0</td>\n",
       "      <td>None</td>\n",
       "      <td>1</td>\n",
       "      <td>11 to 30</td>\n",
       "    </tr>\n",
       "    <tr>\n",
       "      <th>4</th>\n",
       "      <td>51</td>\n",
       "      <td>Non - Vegetarian</td>\n",
       "      <td>Female</td>\n",
       "      <td>0</td>\n",
       "      <td>0</td>\n",
       "      <td>0</td>\n",
       "      <td>0</td>\n",
       "      <td>1</td>\n",
       "      <td>0</td>\n",
       "      <td>0</td>\n",
       "      <td>...</td>\n",
       "      <td>Office</td>\n",
       "      <td>1</td>\n",
       "      <td>0.0</td>\n",
       "      <td>0.0</td>\n",
       "      <td>0.0</td>\n",
       "      <td>0</td>\n",
       "      <td>0</td>\n",
       "      <td>0</td>\n",
       "      <td>1</td>\n",
       "      <td>51 to 70</td>\n",
       "    </tr>\n",
       "  </tbody>\n",
       "</table>\n",
       "<p>5 rows × 33 columns</p>\n",
       "</div>"
      ],
      "text/plain": [
       "   Age     Eating Habits  Gender  Q1  Q2  Q3  Q4  Q5  Q6  Q7    ...      \\\n",
       "0   38        Vegetarian  Female   1   1   1   1   1   0   0    ...       \n",
       "1   38        Vegetarian    Male   0   0   0   1   1   1   0    ...       \n",
       "2   20        Vegetarian  Female   0   0   0   0   0   0   0    ...       \n",
       "3   25  Non - Vegetarian  Female   1   0   0   0   1   0   0    ...       \n",
       "4   51  Non - Vegetarian  Female   0   0   0   0   1   0   0    ...       \n",
       "\n",
       "         Q33  Q34  Q35  Q36  Q37  Q38  R_TSH  R_B12  Count  Age_Group  \n",
       "0  Household    0  1.0  0.0  0.0    0      0      0      1   31 to 50  \n",
       "1     Office    0  0.0  0.0  1.0    0      0      1      1   31 to 50  \n",
       "2  Household    1  0.0  0.0  NaN    0      0   None      1   11 to 30  \n",
       "3    Outdoor    1  0.0  0.0  0.0    0      0   None      1   11 to 30  \n",
       "4     Office    1  0.0  0.0  0.0    0      0      0      1   51 to 70  \n",
       "\n",
       "[5 rows x 33 columns]"
      ]
     },
     "execution_count": 581,
     "metadata": {},
     "output_type": "execute_result"
    }
   ],
   "source": [
    "TSH.head()"
   ]
  },
  {
   "cell_type": "code",
   "execution_count": 582,
   "metadata": {},
   "outputs": [
    {
     "data": {
      "text/html": [
       "<div>\n",
       "<style scoped>\n",
       "    .dataframe tbody tr th:only-of-type {\n",
       "        vertical-align: middle;\n",
       "    }\n",
       "\n",
       "    .dataframe tbody tr th {\n",
       "        vertical-align: top;\n",
       "    }\n",
       "\n",
       "    .dataframe thead th {\n",
       "        text-align: right;\n",
       "    }\n",
       "</style>\n",
       "<table border=\"1\" class=\"dataframe\">\n",
       "  <thead>\n",
       "    <tr style=\"text-align: right;\">\n",
       "      <th>Age_Group</th>\n",
       "      <th>11 to 30</th>\n",
       "      <th>31 to 50</th>\n",
       "      <th>51 to 70</th>\n",
       "      <th>More than 70</th>\n",
       "    </tr>\n",
       "    <tr>\n",
       "      <th>R_TSH</th>\n",
       "      <th></th>\n",
       "      <th></th>\n",
       "      <th></th>\n",
       "      <th></th>\n",
       "    </tr>\n",
       "  </thead>\n",
       "  <tbody>\n",
       "    <tr>\n",
       "      <th>0</th>\n",
       "      <td>9.0</td>\n",
       "      <td>17.0</td>\n",
       "      <td>20.0</td>\n",
       "      <td>2.0</td>\n",
       "    </tr>\n",
       "    <tr>\n",
       "      <th>1</th>\n",
       "      <td>1.0</td>\n",
       "      <td>7.0</td>\n",
       "      <td>7.0</td>\n",
       "      <td>0.0</td>\n",
       "    </tr>\n",
       "  </tbody>\n",
       "</table>\n",
       "</div>"
      ],
      "text/plain": [
       "Age_Group  11 to 30  31 to 50  51 to 70  More than 70\n",
       "R_TSH                                                \n",
       "0               9.0      17.0      20.0           2.0\n",
       "1               1.0       7.0       7.0           0.0"
      ]
     },
     "execution_count": 582,
     "metadata": {},
     "output_type": "execute_result"
    }
   ],
   "source": [
    "pivot9 = pd.pivot_table(TSH, values='Count', index=['R_TSH'], columns=['Age_Group'], aggfunc=np.sum)\n",
    "pivot9.fillna(0, inplace = True)\n",
    "pivot9"
   ]
  },
  {
   "cell_type": "code",
   "execution_count": 583,
   "metadata": {},
   "outputs": [
    {
     "data": {
      "text/plain": [
       "(2.1226041666666666,\n",
       " 0.5473533398133779,\n",
       " 3,\n",
       " array([[ 7.61904762, 18.28571429, 20.57142857,  1.52380952],\n",
       "        [ 2.38095238,  5.71428571,  6.42857143,  0.47619048]]))"
      ]
     },
     "execution_count": 583,
     "metadata": {},
     "output_type": "execute_result"
    }
   ],
   "source": [
    "stat9 = stats.chi2_contingency(pivot9)\n",
    "stat9"
   ]
  },
  {
   "cell_type": "code",
   "execution_count": 584,
   "metadata": {},
   "outputs": [
    {
     "data": {
      "text/plain": [
       "<matplotlib.axes._subplots.AxesSubplot at 0x1794c4090f0>"
      ]
     },
     "execution_count": 584,
     "metadata": {},
     "output_type": "execute_result"
    },
    {
     "data": {
      "image/png": "[encoded data removed]",
      "text/plain": [
       "<Figure size 432x288 with 1 Axes>"
      ]
     },
     "metadata": {},
     "output_type": "display_data"
    }
   ],
   "source": [
    "pivot9.plot(kind='bar')"
   ]
  },
  {
   "cell_type": "code",
   "execution_count": 585,
   "metadata": {},
   "outputs": [
    {
     "data": {
      "text/html": [
       "<div>\n",
       "<style scoped>\n",
       "    .dataframe tbody tr th:only-of-type {\n",
       "        vertical-align: middle;\n",
       "    }\n",
       "\n",
       "    .dataframe tbody tr th {\n",
       "        vertical-align: top;\n",
       "    }\n",
       "\n",
       "    .dataframe thead th {\n",
       "        text-align: right;\n",
       "    }\n",
       "</style>\n",
       "<table border=\"1\" class=\"dataframe\">\n",
       "  <thead>\n",
       "    <tr style=\"text-align: right;\">\n",
       "      <th>Age_Group</th>\n",
       "      <th>11 to 30</th>\n",
       "      <th>31 to 50</th>\n",
       "      <th>51 to 70</th>\n",
       "      <th>More than 70</th>\n",
       "      <th>Total Age Groups</th>\n",
       "      <th>Percentage 11 to 30</th>\n",
       "      <th>Percentage 31 to 50</th>\n",
       "      <th>Percentage 51 to 70</th>\n",
       "      <th>Percentage More than 70</th>\n",
       "    </tr>\n",
       "  </thead>\n",
       "  <tbody>\n",
       "    <tr>\n",
       "      <th>0</th>\n",
       "      <td>9.0</td>\n",
       "      <td>17.000000</td>\n",
       "      <td>20.000000</td>\n",
       "      <td>2.0</td>\n",
       "      <td>48.0</td>\n",
       "      <td>18.750000</td>\n",
       "      <td>35.416667</td>\n",
       "      <td>41.666667</td>\n",
       "      <td>4.166667</td>\n",
       "    </tr>\n",
       "    <tr>\n",
       "      <th>1</th>\n",
       "      <td>1.0</td>\n",
       "      <td>7.000000</td>\n",
       "      <td>7.000000</td>\n",
       "      <td>0.0</td>\n",
       "      <td>15.0</td>\n",
       "      <td>6.666667</td>\n",
       "      <td>46.666667</td>\n",
       "      <td>46.666667</td>\n",
       "      <td>0.000000</td>\n",
       "    </tr>\n",
       "    <tr>\n",
       "      <th>Total TSH</th>\n",
       "      <td>10.0</td>\n",
       "      <td>24.000000</td>\n",
       "      <td>27.000000</td>\n",
       "      <td>2.0</td>\n",
       "      <td>NaN</td>\n",
       "      <td>NaN</td>\n",
       "      <td>NaN</td>\n",
       "      <td>NaN</td>\n",
       "      <td>NaN</td>\n",
       "    </tr>\n",
       "    <tr>\n",
       "      <th>Percentage 0</th>\n",
       "      <td>90.0</td>\n",
       "      <td>70.833333</td>\n",
       "      <td>74.074074</td>\n",
       "      <td>100.0</td>\n",
       "      <td>NaN</td>\n",
       "      <td>NaN</td>\n",
       "      <td>NaN</td>\n",
       "      <td>NaN</td>\n",
       "      <td>NaN</td>\n",
       "    </tr>\n",
       "    <tr>\n",
       "      <th>Percentage 1</th>\n",
       "      <td>10.0</td>\n",
       "      <td>29.166667</td>\n",
       "      <td>25.925926</td>\n",
       "      <td>0.0</td>\n",
       "      <td>NaN</td>\n",
       "      <td>NaN</td>\n",
       "      <td>NaN</td>\n",
       "      <td>NaN</td>\n",
       "      <td>NaN</td>\n",
       "    </tr>\n",
       "  </tbody>\n",
       "</table>\n",
       "</div>"
      ],
      "text/plain": [
       "Age_Group     11 to 30   31 to 50   51 to 70  More than 70  Total Age Groups  \\\n",
       "0                  9.0  17.000000  20.000000           2.0              48.0   \n",
       "1                  1.0   7.000000   7.000000           0.0              15.0   \n",
       "Total TSH         10.0  24.000000  27.000000           2.0               NaN   \n",
       "Percentage 0      90.0  70.833333  74.074074         100.0               NaN   \n",
       "Percentage 1      10.0  29.166667  25.925926           0.0               NaN   \n",
       "\n",
       "Age_Group     Percentage 11 to 30  Percentage 31 to 50  Percentage 51 to 70  \\\n",
       "0                       18.750000            35.416667            41.666667   \n",
       "1                        6.666667            46.666667            46.666667   \n",
       "Total TSH                     NaN                  NaN                  NaN   \n",
       "Percentage 0                  NaN                  NaN                  NaN   \n",
       "Percentage 1                  NaN                  NaN                  NaN   \n",
       "\n",
       "Age_Group     Percentage More than 70  \n",
       "0                            4.166667  \n",
       "1                            0.000000  \n",
       "Total TSH                         NaN  \n",
       "Percentage 0                      NaN  \n",
       "Percentage 1                      NaN  "
      ]
     },
     "execution_count": 585,
     "metadata": {},
     "output_type": "execute_result"
    }
   ],
   "source": [
    "Total_TSH = [pivot9.iloc[0, :] + pivot9.iloc[1, :]]\n",
    "Total_TSH = pd.DataFrame(Total_TSH, index = ['Total TSH'])\n",
    "piv = pivot9.append(Total_TSH)\n",
    "Total_AG = pivot9['11 to 30'] + pivot9['31 to 50'] + pivot9['51 to 70'] + pivot9['More than 70']\n",
    "piv['Total Age Groups'] = Total_AG\n",
    "Percentage_0 = [(piv.iloc[0, :]/piv.iloc[2, :])*100]\n",
    "Percentage_1 = [(piv.iloc[1, :]/piv.iloc[2, :])*100]\n",
    "Percentage_0 = pd.DataFrame(Percentage_0, index = ['Percentage 0'])\n",
    "Percentage_1 = pd.DataFrame(Percentage_1, index = ['Percentage 1'])\n",
    "Percentage_R1 = (piv['11 to 30']/piv['Total Age Groups'])*100\n",
    "Percentage_R2 = (piv['31 to 50']/piv['Total Age Groups'])*100\n",
    "Percentage_R3 = (piv['51 to 70']/piv['Total Age Groups'])*100\n",
    "Percentage_R4 = (piv['More than 70']/piv['Total Age Groups'])*100\n",
    "piv = piv.append(Percentage_0)\n",
    "piv = piv.append(Percentage_1)\n",
    "piv['Percentage 11 to 30'] = Percentage_R1\n",
    "piv['Percentage 31 to 50'] = Percentage_R2\n",
    "piv['Percentage 51 to 70'] = Percentage_R3\n",
    "piv['Percentage More than 70'] = Percentage_R4\n",
    "piv"
   ]
  },
  {
   "cell_type": "markdown",
   "metadata": {},
   "source": [
    "### Vitamin B12 vs Age Group"
   ]
  },
  {
   "cell_type": "code",
   "execution_count": 586,
   "metadata": {},
   "outputs": [
    {
     "data": {
      "text/html": [
       "<div>\n",
       "<style scoped>\n",
       "    .dataframe tbody tr th:only-of-type {\n",
       "        vertical-align: middle;\n",
       "    }\n",
       "\n",
       "    .dataframe tbody tr th {\n",
       "        vertical-align: top;\n",
       "    }\n",
       "\n",
       "    .dataframe thead th {\n",
       "        text-align: right;\n",
       "    }\n",
       "</style>\n",
       "<table border=\"1\" class=\"dataframe\">\n",
       "  <thead>\n",
       "    <tr style=\"text-align: right;\">\n",
       "      <th>Age_Group</th>\n",
       "      <th>11 to 30</th>\n",
       "      <th>31 to 50</th>\n",
       "      <th>51 to 70</th>\n",
       "      <th>More than 70</th>\n",
       "    </tr>\n",
       "    <tr>\n",
       "      <th>R_B12</th>\n",
       "      <th></th>\n",
       "      <th></th>\n",
       "      <th></th>\n",
       "      <th></th>\n",
       "    </tr>\n",
       "  </thead>\n",
       "  <tbody>\n",
       "    <tr>\n",
       "      <th>0</th>\n",
       "      <td>2.0</td>\n",
       "      <td>12.0</td>\n",
       "      <td>13.0</td>\n",
       "      <td>1.0</td>\n",
       "    </tr>\n",
       "    <tr>\n",
       "      <th>1</th>\n",
       "      <td>2.0</td>\n",
       "      <td>3.0</td>\n",
       "      <td>4.0</td>\n",
       "      <td>0.0</td>\n",
       "    </tr>\n",
       "  </tbody>\n",
       "</table>\n",
       "</div>"
      ],
      "text/plain": [
       "Age_Group  11 to 30  31 to 50  51 to 70  More than 70\n",
       "R_B12                                                \n",
       "0               2.0      12.0      13.0           1.0\n",
       "1               2.0       3.0       4.0           0.0"
      ]
     },
     "execution_count": 586,
     "metadata": {},
     "output_type": "execute_result"
    }
   ],
   "source": [
    "pivot10 = pd.pivot_table(TSH, values='Count', index=['R_B12'], columns=['Age_Group'], aggfunc=np.sum)\n",
    "pivot10.fillna(0, inplace = True)\n",
    "pivot10"
   ]
  },
  {
   "cell_type": "code",
   "execution_count": 587,
   "metadata": {},
   "outputs": [
    {
     "data": {
      "text/plain": [
       "(1.9121848739495797,\n",
       " 0.5908315604185992,\n",
       " 3,\n",
       " array([[ 3.02702703, 11.35135135, 12.86486486,  0.75675676],\n",
       "        [ 0.97297297,  3.64864865,  4.13513514,  0.24324324]]))"
      ]
     },
     "execution_count": 587,
     "metadata": {},
     "output_type": "execute_result"
    }
   ],
   "source": [
    "stat10 = stats.chi2_contingency(pivot10)\n",
    "stat10"
   ]
  },
  {
   "cell_type": "code",
   "execution_count": 588,
   "metadata": {},
   "outputs": [
    {
     "data": {
      "text/plain": [
       "<matplotlib.axes._subplots.AxesSubplot at 0x1794c49bc88>"
      ]
     },
     "execution_count": 588,
     "metadata": {},
     "output_type": "execute_result"
    },
    {
     "data": {
      "image/png": "[encoded data removed]",
      "text/plain": [
       "<Figure size 432x288 with 1 Axes>"
      ]
     },
     "metadata": {},
     "output_type": "display_data"
    }
   ],
   "source": [
    "pivot10.plot(kind='bar')"
   ]
  },
  {
   "cell_type": "code",
   "execution_count": 589,
   "metadata": {},
   "outputs": [
    {
     "data": {
      "text/html": [
       "<div>\n",
       "<style scoped>\n",
       "    .dataframe tbody tr th:only-of-type {\n",
       "        vertical-align: middle;\n",
       "    }\n",
       "\n",
       "    .dataframe tbody tr th {\n",
       "        vertical-align: top;\n",
       "    }\n",
       "\n",
       "    .dataframe thead th {\n",
       "        text-align: right;\n",
       "    }\n",
       "</style>\n",
       "<table border=\"1\" class=\"dataframe\">\n",
       "  <thead>\n",
       "    <tr style=\"text-align: right;\">\n",
       "      <th>Age_Group</th>\n",
       "      <th>11 to 30</th>\n",
       "      <th>31 to 50</th>\n",
       "      <th>51 to 70</th>\n",
       "      <th>More than 70</th>\n",
       "      <th>Total Age Groups</th>\n",
       "      <th>Percentage 11 to 30</th>\n",
       "      <th>Percentage 31 to 50</th>\n",
       "      <th>Percentage 51 to 70</th>\n",
       "      <th>Percentage More than 70</th>\n",
       "    </tr>\n",
       "  </thead>\n",
       "  <tbody>\n",
       "    <tr>\n",
       "      <th>0</th>\n",
       "      <td>2.0</td>\n",
       "      <td>12.0</td>\n",
       "      <td>13.000000</td>\n",
       "      <td>1.0</td>\n",
       "      <td>28.0</td>\n",
       "      <td>7.142857</td>\n",
       "      <td>42.857143</td>\n",
       "      <td>46.428571</td>\n",
       "      <td>3.571429</td>\n",
       "    </tr>\n",
       "    <tr>\n",
       "      <th>1</th>\n",
       "      <td>2.0</td>\n",
       "      <td>3.0</td>\n",
       "      <td>4.000000</td>\n",
       "      <td>0.0</td>\n",
       "      <td>9.0</td>\n",
       "      <td>22.222222</td>\n",
       "      <td>33.333333</td>\n",
       "      <td>44.444444</td>\n",
       "      <td>0.000000</td>\n",
       "    </tr>\n",
       "    <tr>\n",
       "      <th>Total B12</th>\n",
       "      <td>4.0</td>\n",
       "      <td>15.0</td>\n",
       "      <td>17.000000</td>\n",
       "      <td>1.0</td>\n",
       "      <td>NaN</td>\n",
       "      <td>NaN</td>\n",
       "      <td>NaN</td>\n",
       "      <td>NaN</td>\n",
       "      <td>NaN</td>\n",
       "    </tr>\n",
       "    <tr>\n",
       "      <th>Percentage 0</th>\n",
       "      <td>50.0</td>\n",
       "      <td>80.0</td>\n",
       "      <td>76.470588</td>\n",
       "      <td>100.0</td>\n",
       "      <td>NaN</td>\n",
       "      <td>NaN</td>\n",
       "      <td>NaN</td>\n",
       "      <td>NaN</td>\n",
       "      <td>NaN</td>\n",
       "    </tr>\n",
       "    <tr>\n",
       "      <th>Percentage 1</th>\n",
       "      <td>50.0</td>\n",
       "      <td>20.0</td>\n",
       "      <td>23.529412</td>\n",
       "      <td>0.0</td>\n",
       "      <td>NaN</td>\n",
       "      <td>NaN</td>\n",
       "      <td>NaN</td>\n",
       "      <td>NaN</td>\n",
       "      <td>NaN</td>\n",
       "    </tr>\n",
       "  </tbody>\n",
       "</table>\n",
       "</div>"
      ],
      "text/plain": [
       "Age_Group     11 to 30  31 to 50   51 to 70  More than 70  Total Age Groups  \\\n",
       "0                  2.0      12.0  13.000000           1.0              28.0   \n",
       "1                  2.0       3.0   4.000000           0.0               9.0   \n",
       "Total B12          4.0      15.0  17.000000           1.0               NaN   \n",
       "Percentage 0      50.0      80.0  76.470588         100.0               NaN   \n",
       "Percentage 1      50.0      20.0  23.529412           0.0               NaN   \n",
       "\n",
       "Age_Group     Percentage 11 to 30  Percentage 31 to 50  Percentage 51 to 70  \\\n",
       "0                        7.142857            42.857143            46.428571   \n",
       "1                       22.222222            33.333333            44.444444   \n",
       "Total B12                     NaN                  NaN                  NaN   \n",
       "Percentage 0                  NaN                  NaN                  NaN   \n",
       "Percentage 1                  NaN                  NaN                  NaN   \n",
       "\n",
       "Age_Group     Percentage More than 70  \n",
       "0                            3.571429  \n",
       "1                            0.000000  \n",
       "Total B12                         NaN  \n",
       "Percentage 0                      NaN  \n",
       "Percentage 1                      NaN  "
      ]
     },
     "execution_count": 589,
     "metadata": {},
     "output_type": "execute_result"
    }
   ],
   "source": [
    "Total_B12 = [pivot10.iloc[0, :] + pivot10.iloc[1, :]]\n",
    "Total_B12 = pd.DataFrame(Total_B12, index = ['Total B12'])\n",
    "piv = pivot10.append(Total_B12)\n",
    "Total_AG = pivot10['11 to 30'] + pivot10['31 to 50'] + pivot10['51 to 70'] + pivot10['More than 70']\n",
    "piv['Total Age Groups'] = Total_AG\n",
    "Percentage_0 = [(piv.iloc[0, :]/piv.iloc[2, :])*100]\n",
    "Percentage_1 = [(piv.iloc[1, :]/piv.iloc[2, :])*100]\n",
    "Percentage_0 = pd.DataFrame(Percentage_0, index = ['Percentage 0'])\n",
    "Percentage_1 = pd.DataFrame(Percentage_1, index = ['Percentage 1'])\n",
    "Percentage_R1 = (piv['11 to 30']/piv['Total Age Groups'])*100\n",
    "Percentage_R2 = (piv['31 to 50']/piv['Total Age Groups'])*100\n",
    "Percentage_R3 = (piv['51 to 70']/piv['Total Age Groups'])*100\n",
    "Percentage_R4 = (piv['More than 70']/piv['Total Age Groups'])*100\n",
    "piv = piv.append(Percentage_0)\n",
    "piv = piv.append(Percentage_1)\n",
    "piv['Percentage 11 to 30'] = Percentage_R1\n",
    "piv['Percentage 31 to 50'] = Percentage_R2\n",
    "piv['Percentage 51 to 70'] = Percentage_R3\n",
    "piv['Percentage More than 70'] = Percentage_R4\n",
    "piv"
   ]
  },
  {
   "cell_type": "markdown",
   "metadata": {},
   "source": [
    "### TSH vs Age Group Less than and Greater than 50"
   ]
  },
  {
   "cell_type": "code",
   "execution_count": 590,
   "metadata": {},
   "outputs": [],
   "source": [
    "A_G = []\n",
    "for i in range(len(TSH['Age'])):\n",
    "    if TSH.iloc[i, 0] <= 50:\n",
    "        A_G.append('Less than or equal to 50')\n",
    "    else:\n",
    "        A_G.append('More than 50')"
   ]
  },
  {
   "cell_type": "code",
   "execution_count": 591,
   "metadata": {},
   "outputs": [
    {
     "data": {
      "text/html": [
       "<div>\n",
       "<style scoped>\n",
       "    .dataframe tbody tr th:only-of-type {\n",
       "        vertical-align: middle;\n",
       "    }\n",
       "\n",
       "    .dataframe tbody tr th {\n",
       "        vertical-align: top;\n",
       "    }\n",
       "\n",
       "    .dataframe thead th {\n",
       "        text-align: right;\n",
       "    }\n",
       "</style>\n",
       "<table border=\"1\" class=\"dataframe\">\n",
       "  <thead>\n",
       "    <tr style=\"text-align: right;\">\n",
       "      <th></th>\n",
       "      <th>0</th>\n",
       "    </tr>\n",
       "  </thead>\n",
       "  <tbody>\n",
       "    <tr>\n",
       "      <th>0</th>\n",
       "      <td>Less than or equal to 50</td>\n",
       "    </tr>\n",
       "    <tr>\n",
       "      <th>1</th>\n",
       "      <td>Less than or equal to 50</td>\n",
       "    </tr>\n",
       "    <tr>\n",
       "      <th>2</th>\n",
       "      <td>Less than or equal to 50</td>\n",
       "    </tr>\n",
       "    <tr>\n",
       "      <th>3</th>\n",
       "      <td>Less than or equal to 50</td>\n",
       "    </tr>\n",
       "    <tr>\n",
       "      <th>4</th>\n",
       "      <td>More than 50</td>\n",
       "    </tr>\n",
       "  </tbody>\n",
       "</table>\n",
       "</div>"
      ],
      "text/plain": [
       "                          0\n",
       "0  Less than or equal to 50\n",
       "1  Less than or equal to 50\n",
       "2  Less than or equal to 50\n",
       "3  Less than or equal to 50\n",
       "4              More than 50"
      ]
     },
     "execution_count": 591,
     "metadata": {},
     "output_type": "execute_result"
    }
   ],
   "source": [
    "A_G = pd.DataFrame([A_G]).T\n",
    "A_G.head()"
   ]
  },
  {
   "cell_type": "code",
   "execution_count": 592,
   "metadata": {},
   "outputs": [],
   "source": [
    "TSH['A_G'] = A_G"
   ]
  },
  {
   "cell_type": "code",
   "execution_count": 593,
   "metadata": {},
   "outputs": [
    {
     "data": {
      "text/html": [
       "<div>\n",
       "<style scoped>\n",
       "    .dataframe tbody tr th:only-of-type {\n",
       "        vertical-align: middle;\n",
       "    }\n",
       "\n",
       "    .dataframe tbody tr th {\n",
       "        vertical-align: top;\n",
       "    }\n",
       "\n",
       "    .dataframe thead th {\n",
       "        text-align: right;\n",
       "    }\n",
       "</style>\n",
       "<table border=\"1\" class=\"dataframe\">\n",
       "  <thead>\n",
       "    <tr style=\"text-align: right;\">\n",
       "      <th>A_G</th>\n",
       "      <th>Less than or equal to 50</th>\n",
       "      <th>More than 50</th>\n",
       "    </tr>\n",
       "    <tr>\n",
       "      <th>R_TSH</th>\n",
       "      <th></th>\n",
       "      <th></th>\n",
       "    </tr>\n",
       "  </thead>\n",
       "  <tbody>\n",
       "    <tr>\n",
       "      <th>0</th>\n",
       "      <td>26</td>\n",
       "      <td>22</td>\n",
       "    </tr>\n",
       "    <tr>\n",
       "      <th>1</th>\n",
       "      <td>8</td>\n",
       "      <td>7</td>\n",
       "    </tr>\n",
       "  </tbody>\n",
       "</table>\n",
       "</div>"
      ],
      "text/plain": [
       "A_G    Less than or equal to 50  More than 50\n",
       "R_TSH                                        \n",
       "0                            26            22\n",
       "1                             8             7"
      ]
     },
     "execution_count": 593,
     "metadata": {},
     "output_type": "execute_result"
    }
   ],
   "source": [
    "pivot11 = pd.pivot_table(TSH, values='Count', index=['R_TSH'], columns=['A_G'], aggfunc=np.sum)\n",
    "pivot11.fillna(0, inplace = True)\n",
    "pivot11"
   ]
  },
  {
   "cell_type": "code",
   "execution_count": 594,
   "metadata": {},
   "outputs": [
    {
     "data": {
      "text/plain": [
       "(0.057704741379310434, 0.8101611732859878, 1, array([[25.9047619, 22.0952381],\n",
       "        [ 8.0952381,  6.9047619]]))"
      ]
     },
     "execution_count": 594,
     "metadata": {},
     "output_type": "execute_result"
    }
   ],
   "source": [
    "stat11 = stats.chi2_contingency(pivot11)\n",
    "stat11"
   ]
  },
  {
   "cell_type": "code",
   "execution_count": 595,
   "metadata": {},
   "outputs": [
    {
     "data": {
      "text/plain": [
       "<matplotlib.axes._subplots.AxesSubplot at 0x1794c523278>"
      ]
     },
     "execution_count": 595,
     "metadata": {},
     "output_type": "execute_result"
    },
    {
     "data": {
      "image/png": "[encoded data removed]",
      "text/plain": [
       "<Figure size 432x288 with 1 Axes>"
      ]
     },
     "metadata": {},
     "output_type": "display_data"
    }
   ],
   "source": [
    "pivot11.plot(kind='bar')"
   ]
  },
  {
   "cell_type": "code",
   "execution_count": 596,
   "metadata": {},
   "outputs": [
    {
     "data": {
      "text/html": [
       "<div>\n",
       "<style scoped>\n",
       "    .dataframe tbody tr th:only-of-type {\n",
       "        vertical-align: middle;\n",
       "    }\n",
       "\n",
       "    .dataframe tbody tr th {\n",
       "        vertical-align: top;\n",
       "    }\n",
       "\n",
       "    .dataframe thead th {\n",
       "        text-align: right;\n",
       "    }\n",
       "</style>\n",
       "<table border=\"1\" class=\"dataframe\">\n",
       "  <thead>\n",
       "    <tr style=\"text-align: right;\">\n",
       "      <th>A_G</th>\n",
       "      <th>Less than or equal to 50</th>\n",
       "      <th>More than 50</th>\n",
       "      <th>Total Age Groups</th>\n",
       "      <th>Percentage Less than or equal to 50</th>\n",
       "      <th>Percentage More than 50</th>\n",
       "    </tr>\n",
       "  </thead>\n",
       "  <tbody>\n",
       "    <tr>\n",
       "      <th>0</th>\n",
       "      <td>26.000000</td>\n",
       "      <td>22.000000</td>\n",
       "      <td>48.0</td>\n",
       "      <td>54.166667</td>\n",
       "      <td>45.833333</td>\n",
       "    </tr>\n",
       "    <tr>\n",
       "      <th>1</th>\n",
       "      <td>8.000000</td>\n",
       "      <td>7.000000</td>\n",
       "      <td>15.0</td>\n",
       "      <td>53.333333</td>\n",
       "      <td>46.666667</td>\n",
       "    </tr>\n",
       "    <tr>\n",
       "      <th>Total TSH</th>\n",
       "      <td>34.000000</td>\n",
       "      <td>29.000000</td>\n",
       "      <td>NaN</td>\n",
       "      <td>NaN</td>\n",
       "      <td>NaN</td>\n",
       "    </tr>\n",
       "    <tr>\n",
       "      <th>Percentage 0</th>\n",
       "      <td>76.470588</td>\n",
       "      <td>75.862069</td>\n",
       "      <td>NaN</td>\n",
       "      <td>NaN</td>\n",
       "      <td>NaN</td>\n",
       "    </tr>\n",
       "    <tr>\n",
       "      <th>Percentage 1</th>\n",
       "      <td>23.529412</td>\n",
       "      <td>24.137931</td>\n",
       "      <td>NaN</td>\n",
       "      <td>NaN</td>\n",
       "      <td>NaN</td>\n",
       "    </tr>\n",
       "  </tbody>\n",
       "</table>\n",
       "</div>"
      ],
      "text/plain": [
       "A_G           Less than or equal to 50  More than 50  Total Age Groups  \\\n",
       "0                            26.000000     22.000000              48.0   \n",
       "1                             8.000000      7.000000              15.0   \n",
       "Total TSH                    34.000000     29.000000               NaN   \n",
       "Percentage 0                 76.470588     75.862069               NaN   \n",
       "Percentage 1                 23.529412     24.137931               NaN   \n",
       "\n",
       "A_G           Percentage Less than or equal to 50  Percentage More than 50  \n",
       "0                                       54.166667                45.833333  \n",
       "1                                       53.333333                46.666667  \n",
       "Total TSH                                     NaN                      NaN  \n",
       "Percentage 0                                  NaN                      NaN  \n",
       "Percentage 1                                  NaN                      NaN  "
      ]
     },
     "execution_count": 596,
     "metadata": {},
     "output_type": "execute_result"
    }
   ],
   "source": [
    "Total_TSH = [pivot11.iloc[0, :] + pivot11.iloc[1, :]]\n",
    "Total_TSH = pd.DataFrame(Total_TSH, index = ['Total TSH'])\n",
    "piv = pivot11.append(Total_TSH)\n",
    "Total_AG = pivot11['Less than or equal to 50'] + pivot11['More than 50']\n",
    "piv['Total Age Groups'] = Total_AG\n",
    "Percentage_0 = [(piv.iloc[0, :]/piv.iloc[2, :])*100]\n",
    "Percentage_1 = [(piv.iloc[1, :]/piv.iloc[2, :])*100]\n",
    "Percentage_0 = pd.DataFrame(Percentage_0, index = ['Percentage 0'])\n",
    "Percentage_1 = pd.DataFrame(Percentage_1, index = ['Percentage 1'])\n",
    "Percentage_R1 = (piv['Less than or equal to 50']/piv['Total Age Groups'])*100\n",
    "Percentage_R2 = (piv['More than 50']/piv['Total Age Groups'])*100\n",
    "piv = piv.append(Percentage_0)\n",
    "piv = piv.append(Percentage_1)\n",
    "piv['Percentage Less than or equal to 50'] = Percentage_R1\n",
    "piv['Percentage More than 50'] = Percentage_R2\n",
    "piv"
   ]
  },
  {
   "cell_type": "code",
   "execution_count": 597,
   "metadata": {},
   "outputs": [
    {
     "name": "stdout",
     "output_type": "stream",
     "text": [
      "Yule's Coefficient of Association:  -0.01675977653631285\n",
      "Odd's Ratio:  0.967032967032967\n"
     ]
    }
   ],
   "source": [
    "Q = ((piv.iloc[1, 0] * piv.iloc[0, 1]) - (piv.iloc[1, 1] * piv.iloc[0, 0]))/((piv.iloc[1, 0] * piv.iloc[0, 1]) + (piv.iloc[1, 1] * piv.iloc[0, 0]))\n",
    "print(\"Yule's Coefficient of Association: \", Q)\n",
    "O = (piv.iloc[1, 0]*piv.iloc[0, 1])/(piv.iloc[0, 0]*piv.iloc[1, 1])\n",
    "print(\"Odd's Ratio: \", O)"
   ]
  },
  {
   "cell_type": "markdown",
   "metadata": {},
   "source": [
    "### B12 vs Age Group Less than and Greater than 50"
   ]
  },
  {
   "cell_type": "code",
   "execution_count": 598,
   "metadata": {},
   "outputs": [
    {
     "data": {
      "text/html": [
       "<div>\n",
       "<style scoped>\n",
       "    .dataframe tbody tr th:only-of-type {\n",
       "        vertical-align: middle;\n",
       "    }\n",
       "\n",
       "    .dataframe tbody tr th {\n",
       "        vertical-align: top;\n",
       "    }\n",
       "\n",
       "    .dataframe thead th {\n",
       "        text-align: right;\n",
       "    }\n",
       "</style>\n",
       "<table border=\"1\" class=\"dataframe\">\n",
       "  <thead>\n",
       "    <tr style=\"text-align: right;\">\n",
       "      <th>A_G</th>\n",
       "      <th>Less than or equal to 50</th>\n",
       "      <th>More than 50</th>\n",
       "    </tr>\n",
       "    <tr>\n",
       "      <th>R_B12</th>\n",
       "      <th></th>\n",
       "      <th></th>\n",
       "    </tr>\n",
       "  </thead>\n",
       "  <tbody>\n",
       "    <tr>\n",
       "      <th>0</th>\n",
       "      <td>14</td>\n",
       "      <td>14</td>\n",
       "    </tr>\n",
       "    <tr>\n",
       "      <th>1</th>\n",
       "      <td>5</td>\n",
       "      <td>4</td>\n",
       "    </tr>\n",
       "  </tbody>\n",
       "</table>\n",
       "</div>"
      ],
      "text/plain": [
       "A_G    Less than or equal to 50  More than 50\n",
       "R_B12                                        \n",
       "0                            14            14\n",
       "1                             5             4"
      ]
     },
     "execution_count": 598,
     "metadata": {},
     "output_type": "execute_result"
    }
   ],
   "source": [
    "pivot12 = pd.pivot_table(TSH, values='Count', index=['R_B12'], columns=['A_G'], aggfunc=np.sum)\n",
    "pivot12.fillna(0, inplace = True)\n",
    "pivot12"
   ]
  },
  {
   "cell_type": "code",
   "execution_count": 599,
   "metadata": {},
   "outputs": [
    {
     "data": {
      "text/plain": [
       "(0.008693609022556404,\n",
       " 0.9257132747290127,\n",
       " 1,\n",
       " array([[14.37837838, 13.62162162],\n",
       "        [ 4.62162162,  4.37837838]]))"
      ]
     },
     "execution_count": 599,
     "metadata": {},
     "output_type": "execute_result"
    }
   ],
   "source": [
    "stat12 = stats.chi2_contingency(pivot12)\n",
    "stat12"
   ]
  },
  {
   "cell_type": "code",
   "execution_count": 600,
   "metadata": {},
   "outputs": [
    {
     "data": {
      "text/plain": [
       "<matplotlib.axes._subplots.AxesSubplot at 0x1794c595f98>"
      ]
     },
     "execution_count": 600,
     "metadata": {},
     "output_type": "execute_result"
    },
    {
     "data": {
      "image/png": "[encoded data removed]",
      "text/plain": [
       "<Figure size 432x288 with 1 Axes>"
      ]
     },
     "metadata": {},
     "output_type": "display_data"
    }
   ],
   "source": [
    "pivot12.plot(kind='bar')"
   ]
  },
  {
   "cell_type": "code",
   "execution_count": 601,
   "metadata": {},
   "outputs": [
    {
     "data": {
      "text/html": [
       "<div>\n",
       "<style scoped>\n",
       "    .dataframe tbody tr th:only-of-type {\n",
       "        vertical-align: middle;\n",
       "    }\n",
       "\n",
       "    .dataframe tbody tr th {\n",
       "        vertical-align: top;\n",
       "    }\n",
       "\n",
       "    .dataframe thead th {\n",
       "        text-align: right;\n",
       "    }\n",
       "</style>\n",
       "<table border=\"1\" class=\"dataframe\">\n",
       "  <thead>\n",
       "    <tr style=\"text-align: right;\">\n",
       "      <th>A_G</th>\n",
       "      <th>Less than or equal to 50</th>\n",
       "      <th>More than 50</th>\n",
       "      <th>Total Age Groups</th>\n",
       "      <th>Percentage Less than or equal to 50</th>\n",
       "      <th>Percentage More than 50</th>\n",
       "    </tr>\n",
       "  </thead>\n",
       "  <tbody>\n",
       "    <tr>\n",
       "      <th>0</th>\n",
       "      <td>14.000000</td>\n",
       "      <td>14.000000</td>\n",
       "      <td>28.0</td>\n",
       "      <td>50.000000</td>\n",
       "      <td>50.000000</td>\n",
       "    </tr>\n",
       "    <tr>\n",
       "      <th>1</th>\n",
       "      <td>5.000000</td>\n",
       "      <td>4.000000</td>\n",
       "      <td>9.0</td>\n",
       "      <td>55.555556</td>\n",
       "      <td>44.444444</td>\n",
       "    </tr>\n",
       "    <tr>\n",
       "      <th>Total B12</th>\n",
       "      <td>19.000000</td>\n",
       "      <td>18.000000</td>\n",
       "      <td>NaN</td>\n",
       "      <td>NaN</td>\n",
       "      <td>NaN</td>\n",
       "    </tr>\n",
       "    <tr>\n",
       "      <th>Percentage 0</th>\n",
       "      <td>73.684211</td>\n",
       "      <td>77.777778</td>\n",
       "      <td>NaN</td>\n",
       "      <td>NaN</td>\n",
       "      <td>NaN</td>\n",
       "    </tr>\n",
       "    <tr>\n",
       "      <th>Percentage 1</th>\n",
       "      <td>26.315789</td>\n",
       "      <td>22.222222</td>\n",
       "      <td>NaN</td>\n",
       "      <td>NaN</td>\n",
       "      <td>NaN</td>\n",
       "    </tr>\n",
       "  </tbody>\n",
       "</table>\n",
       "</div>"
      ],
      "text/plain": [
       "A_G           Less than or equal to 50  More than 50  Total Age Groups  \\\n",
       "0                            14.000000     14.000000              28.0   \n",
       "1                             5.000000      4.000000               9.0   \n",
       "Total B12                    19.000000     18.000000               NaN   \n",
       "Percentage 0                 73.684211     77.777778               NaN   \n",
       "Percentage 1                 26.315789     22.222222               NaN   \n",
       "\n",
       "A_G           Percentage Less than or equal to 50  Percentage More than 50  \n",
       "0                                       50.000000                50.000000  \n",
       "1                                       55.555556                44.444444  \n",
       "Total B12                                     NaN                      NaN  \n",
       "Percentage 0                                  NaN                      NaN  \n",
       "Percentage 1                                  NaN                      NaN  "
      ]
     },
     "execution_count": 601,
     "metadata": {},
     "output_type": "execute_result"
    }
   ],
   "source": [
    "Total_B12 = [pivot12.iloc[0, :] + pivot12.iloc[1, :]]\n",
    "Total_B12 = pd.DataFrame(Total_B12, index = ['Total B12'])\n",
    "piv = pivot12.append(Total_B12)\n",
    "Total_AG = pivot12['Less than or equal to 50'] + pivot12['More than 50']\n",
    "piv['Total Age Groups'] = Total_AG\n",
    "Percentage_0 = [(piv.iloc[0, :]/piv.iloc[2, :])*100]\n",
    "Percentage_1 = [(piv.iloc[1, :]/piv.iloc[2, :])*100]\n",
    "Percentage_0 = pd.DataFrame(Percentage_0, index = ['Percentage 0'])\n",
    "Percentage_1 = pd.DataFrame(Percentage_1, index = ['Percentage 1'])\n",
    "Percentage_R1 = (piv['Less than or equal to 50']/piv['Total Age Groups'])*100\n",
    "Percentage_R2 = (piv['More than 50']/piv['Total Age Groups'])*100\n",
    "piv = piv.append(Percentage_0)\n",
    "piv = piv.append(Percentage_1)\n",
    "piv['Percentage Less than or equal to 50'] = Percentage_R1\n",
    "piv['Percentage More than 50'] = Percentage_R2\n",
    "piv"
   ]
  },
  {
   "cell_type": "code",
   "execution_count": 602,
   "metadata": {},
   "outputs": [
    {
     "name": "stdout",
     "output_type": "stream",
     "text": [
      "Yule's Coefficient of Association:  0.1111111111111111\n",
      "Odd's Ratio:  1.25\n"
     ]
    }
   ],
   "source": [
    "Q = ((piv.iloc[1, 0] * piv.iloc[0, 1]) - (piv.iloc[1, 1] * piv.iloc[0, 0]))/((piv.iloc[1, 0] * piv.iloc[0, 1]) + (piv.iloc[1, 1] * piv.iloc[0, 0]))\n",
    "print(\"Yule's Coefficient of Association: \", Q)\n",
    "O = (piv.iloc[1, 0]*piv.iloc[0, 1])/(piv.iloc[0, 0]*piv.iloc[1, 1])\n",
    "print(\"Odd's Ratio: \", O)"
   ]
  },
  {
   "cell_type": "markdown",
   "metadata": {},
   "source": [
    "### TSH Exploration"
   ]
  },
  {
   "cell_type": "code",
   "execution_count": 603,
   "metadata": {},
   "outputs": [
    {
     "data": {
      "text/plain": [
       "<matplotlib.axes._subplots.AxesSubplot at 0x1794c3d5da0>"
      ]
     },
     "execution_count": 603,
     "metadata": {},
     "output_type": "execute_result"
    },
    {
     "data": {
      "image/png": "[encoded data removed]",
      "text/plain": [
       "<Figure size 432x288 with 2 Axes>"
      ]
     },
     "metadata": {},
     "output_type": "display_data"
    }
   ],
   "source": [
    "sns.heatmap(TSH.isnull(), yticklabels = False, cmap = 'viridis')"
   ]
  },
  {
   "cell_type": "code",
   "execution_count": 604,
   "metadata": {},
   "outputs": [
    {
     "data": {
      "text/plain": [
       "<matplotlib.axes._subplots.AxesSubplot at 0x1794c5ee7b8>"
      ]
     },
     "execution_count": 604,
     "metadata": {},
     "output_type": "execute_result"
    },
    {
     "data": {
      "image/png": "[encoded data removed]",
      "text/plain": [
       "<Figure size 432x288 with 1 Axes>"
      ]
     },
     "metadata": {},
     "output_type": "display_data"
    }
   ],
   "source": [
    "TSH.fillna(0, inplace = True)\n",
    "sns.heatmap(TSH.isnull(), yticklabels = False, cbar  = False)"
   ]
  },
  {
   "cell_type": "code",
   "execution_count": 605,
   "metadata": {},
   "outputs": [
    {
     "data": {
      "text/plain": [
       "Age              0\n",
       "Eating Habits    0\n",
       "Gender           0\n",
       "Q1               0\n",
       "Q2               0\n",
       "Q3               0\n",
       "Q4               0\n",
       "Q5               0\n",
       "Q6               0\n",
       "Q7               0\n",
       "Q8               0\n",
       "Q9               0\n",
       "Q10              0\n",
       "Q11              0\n",
       "Q12              0\n",
       "Q13              0\n",
       "Q14              0\n",
       "Q15              0\n",
       "Q16              0\n",
       "Q29              0\n",
       "Q30              0\n",
       "Q31              0\n",
       "Q32              0\n",
       "Q33              0\n",
       "Q34              0\n",
       "Q35              0\n",
       "Q36              0\n",
       "Q37              0\n",
       "Q38              0\n",
       "R_TSH            0\n",
       "R_B12            0\n",
       "Count            0\n",
       "Age_Group        0\n",
       "A_G              0\n",
       "dtype: int64"
      ]
     },
     "execution_count": 605,
     "metadata": {},
     "output_type": "execute_result"
    }
   ],
   "source": [
    "TSH.isnull().sum()"
   ]
  },
  {
   "cell_type": "markdown",
   "metadata": {},
   "source": [
    "### TSH Logistic Regression"
   ]
  },
  {
   "cell_type": "code",
   "execution_count": 606,
   "metadata": {},
   "outputs": [],
   "source": [
    "t = TSH\n",
    "t.drop(['Age'], axis = 1, inplace = True)\n",
    "t.drop(['A_G'], axis = 1, inplace = True)"
   ]
  },
  {
   "cell_type": "code",
   "execution_count": 607,
   "metadata": {},
   "outputs": [
    {
     "data": {
      "text/html": [
       "<div>\n",
       "<style scoped>\n",
       "    .dataframe tbody tr th:only-of-type {\n",
       "        vertical-align: middle;\n",
       "    }\n",
       "\n",
       "    .dataframe tbody tr th {\n",
       "        vertical-align: top;\n",
       "    }\n",
       "\n",
       "    .dataframe thead th {\n",
       "        text-align: right;\n",
       "    }\n",
       "</style>\n",
       "<table border=\"1\" class=\"dataframe\">\n",
       "  <thead>\n",
       "    <tr style=\"text-align: right;\">\n",
       "      <th></th>\n",
       "      <th>Male</th>\n",
       "    </tr>\n",
       "  </thead>\n",
       "  <tbody>\n",
       "    <tr>\n",
       "      <th>0</th>\n",
       "      <td>0</td>\n",
       "    </tr>\n",
       "    <tr>\n",
       "      <th>1</th>\n",
       "      <td>1</td>\n",
       "    </tr>\n",
       "    <tr>\n",
       "      <th>2</th>\n",
       "      <td>0</td>\n",
       "    </tr>\n",
       "    <tr>\n",
       "      <th>3</th>\n",
       "      <td>0</td>\n",
       "    </tr>\n",
       "    <tr>\n",
       "      <th>4</th>\n",
       "      <td>0</td>\n",
       "    </tr>\n",
       "  </tbody>\n",
       "</table>\n",
       "</div>"
      ],
      "text/plain": [
       "   Male\n",
       "0     0\n",
       "1     1\n",
       "2     0\n",
       "3     0\n",
       "4     0"
      ]
     },
     "execution_count": 607,
     "metadata": {},
     "output_type": "execute_result"
    }
   ],
   "source": [
    "Gender = pd.get_dummies(t['Gender'], drop_first = True)\n",
    "Gender.head()"
   ]
  },
  {
   "cell_type": "code",
   "execution_count": 608,
   "metadata": {},
   "outputs": [
    {
     "data": {
      "text/html": [
       "<div>\n",
       "<style scoped>\n",
       "    .dataframe tbody tr th:only-of-type {\n",
       "        vertical-align: middle;\n",
       "    }\n",
       "\n",
       "    .dataframe tbody tr th {\n",
       "        vertical-align: top;\n",
       "    }\n",
       "\n",
       "    .dataframe thead th {\n",
       "        text-align: right;\n",
       "    }\n",
       "</style>\n",
       "<table border=\"1\" class=\"dataframe\">\n",
       "  <thead>\n",
       "    <tr style=\"text-align: right;\">\n",
       "      <th></th>\n",
       "      <th>Non - Vegetarian</th>\n",
       "      <th>Vegetarian</th>\n",
       "    </tr>\n",
       "  </thead>\n",
       "  <tbody>\n",
       "    <tr>\n",
       "      <th>0</th>\n",
       "      <td>0</td>\n",
       "      <td>1</td>\n",
       "    </tr>\n",
       "    <tr>\n",
       "      <th>1</th>\n",
       "      <td>0</td>\n",
       "      <td>1</td>\n",
       "    </tr>\n",
       "    <tr>\n",
       "      <th>2</th>\n",
       "      <td>0</td>\n",
       "      <td>1</td>\n",
       "    </tr>\n",
       "    <tr>\n",
       "      <th>3</th>\n",
       "      <td>1</td>\n",
       "      <td>0</td>\n",
       "    </tr>\n",
       "    <tr>\n",
       "      <th>4</th>\n",
       "      <td>1</td>\n",
       "      <td>0</td>\n",
       "    </tr>\n",
       "  </tbody>\n",
       "</table>\n",
       "</div>"
      ],
      "text/plain": [
       "   Non - Vegetarian  Vegetarian\n",
       "0                 0           1\n",
       "1                 0           1\n",
       "2                 0           1\n",
       "3                 1           0\n",
       "4                 1           0"
      ]
     },
     "execution_count": 608,
     "metadata": {},
     "output_type": "execute_result"
    }
   ],
   "source": [
    "EH = pd.get_dummies(t['Eating Habits'], drop_first = True)\n",
    "EH.head()"
   ]
  },
  {
   "cell_type": "code",
   "execution_count": 609,
   "metadata": {},
   "outputs": [
    {
     "data": {
      "text/html": [
       "<div>\n",
       "<style scoped>\n",
       "    .dataframe tbody tr th:only-of-type {\n",
       "        vertical-align: middle;\n",
       "    }\n",
       "\n",
       "    .dataframe tbody tr th {\n",
       "        vertical-align: top;\n",
       "    }\n",
       "\n",
       "    .dataframe thead th {\n",
       "        text-align: right;\n",
       "    }\n",
       "</style>\n",
       "<table border=\"1\" class=\"dataframe\">\n",
       "  <thead>\n",
       "    <tr style=\"text-align: right;\">\n",
       "      <th></th>\n",
       "      <th>31 to 50</th>\n",
       "      <th>51 to 70</th>\n",
       "      <th>More than 70</th>\n",
       "    </tr>\n",
       "  </thead>\n",
       "  <tbody>\n",
       "    <tr>\n",
       "      <th>0</th>\n",
       "      <td>1</td>\n",
       "      <td>0</td>\n",
       "      <td>0</td>\n",
       "    </tr>\n",
       "    <tr>\n",
       "      <th>1</th>\n",
       "      <td>1</td>\n",
       "      <td>0</td>\n",
       "      <td>0</td>\n",
       "    </tr>\n",
       "    <tr>\n",
       "      <th>2</th>\n",
       "      <td>0</td>\n",
       "      <td>0</td>\n",
       "      <td>0</td>\n",
       "    </tr>\n",
       "    <tr>\n",
       "      <th>3</th>\n",
       "      <td>0</td>\n",
       "      <td>0</td>\n",
       "      <td>0</td>\n",
       "    </tr>\n",
       "    <tr>\n",
       "      <th>4</th>\n",
       "      <td>0</td>\n",
       "      <td>1</td>\n",
       "      <td>0</td>\n",
       "    </tr>\n",
       "  </tbody>\n",
       "</table>\n",
       "</div>"
      ],
      "text/plain": [
       "   31 to 50  51 to 70  More than 70\n",
       "0         1         0             0\n",
       "1         1         0             0\n",
       "2         0         0             0\n",
       "3         0         0             0\n",
       "4         0         1             0"
      ]
     },
     "execution_count": 609,
     "metadata": {},
     "output_type": "execute_result"
    }
   ],
   "source": [
    "AG = pd.get_dummies(t['Age_Group'], drop_first = True)\n",
    "AG.head()"
   ]
  },
  {
   "cell_type": "code",
   "execution_count": 610,
   "metadata": {},
   "outputs": [
    {
     "data": {
      "text/html": [
       "<div>\n",
       "<style scoped>\n",
       "    .dataframe tbody tr th:only-of-type {\n",
       "        vertical-align: middle;\n",
       "    }\n",
       "\n",
       "    .dataframe tbody tr th {\n",
       "        vertical-align: top;\n",
       "    }\n",
       "\n",
       "    .dataframe thead th {\n",
       "        text-align: right;\n",
       "    }\n",
       "</style>\n",
       "<table border=\"1\" class=\"dataframe\">\n",
       "  <thead>\n",
       "    <tr style=\"text-align: right;\">\n",
       "      <th></th>\n",
       "      <th>Eating Habits</th>\n",
       "      <th>Gender</th>\n",
       "      <th>Q1</th>\n",
       "      <th>Q2</th>\n",
       "      <th>Q3</th>\n",
       "      <th>Q4</th>\n",
       "      <th>Q5</th>\n",
       "      <th>Q6</th>\n",
       "      <th>Q7</th>\n",
       "      <th>Q8</th>\n",
       "      <th>...</th>\n",
       "      <th>Q33</th>\n",
       "      <th>Q34</th>\n",
       "      <th>Q35</th>\n",
       "      <th>Q36</th>\n",
       "      <th>Q37</th>\n",
       "      <th>Q38</th>\n",
       "      <th>R_TSH</th>\n",
       "      <th>R_B12</th>\n",
       "      <th>Count</th>\n",
       "      <th>Age_Group</th>\n",
       "    </tr>\n",
       "  </thead>\n",
       "  <tbody>\n",
       "    <tr>\n",
       "      <th>0</th>\n",
       "      <td>Vegetarian</td>\n",
       "      <td>Female</td>\n",
       "      <td>1</td>\n",
       "      <td>1</td>\n",
       "      <td>1</td>\n",
       "      <td>1</td>\n",
       "      <td>1</td>\n",
       "      <td>0</td>\n",
       "      <td>0</td>\n",
       "      <td>0.0</td>\n",
       "      <td>...</td>\n",
       "      <td>Household</td>\n",
       "      <td>0</td>\n",
       "      <td>1.0</td>\n",
       "      <td>0.0</td>\n",
       "      <td>0.0</td>\n",
       "      <td>0</td>\n",
       "      <td>0</td>\n",
       "      <td>0</td>\n",
       "      <td>1</td>\n",
       "      <td>31 to 50</td>\n",
       "    </tr>\n",
       "    <tr>\n",
       "      <th>1</th>\n",
       "      <td>Vegetarian</td>\n",
       "      <td>Male</td>\n",
       "      <td>0</td>\n",
       "      <td>0</td>\n",
       "      <td>0</td>\n",
       "      <td>1</td>\n",
       "      <td>1</td>\n",
       "      <td>1</td>\n",
       "      <td>0</td>\n",
       "      <td>0.0</td>\n",
       "      <td>...</td>\n",
       "      <td>Office</td>\n",
       "      <td>0</td>\n",
       "      <td>0.0</td>\n",
       "      <td>0.0</td>\n",
       "      <td>1.0</td>\n",
       "      <td>0</td>\n",
       "      <td>0</td>\n",
       "      <td>1</td>\n",
       "      <td>1</td>\n",
       "      <td>31 to 50</td>\n",
       "    </tr>\n",
       "    <tr>\n",
       "      <th>2</th>\n",
       "      <td>Vegetarian</td>\n",
       "      <td>Female</td>\n",
       "      <td>0</td>\n",
       "      <td>0</td>\n",
       "      <td>0</td>\n",
       "      <td>0</td>\n",
       "      <td>0</td>\n",
       "      <td>0</td>\n",
       "      <td>0</td>\n",
       "      <td>0.0</td>\n",
       "      <td>...</td>\n",
       "      <td>Household</td>\n",
       "      <td>1</td>\n",
       "      <td>0.0</td>\n",
       "      <td>0.0</td>\n",
       "      <td>0.0</td>\n",
       "      <td>0</td>\n",
       "      <td>0</td>\n",
       "      <td>0</td>\n",
       "      <td>1</td>\n",
       "      <td>11 to 30</td>\n",
       "    </tr>\n",
       "    <tr>\n",
       "      <th>3</th>\n",
       "      <td>Non - Vegetarian</td>\n",
       "      <td>Female</td>\n",
       "      <td>1</td>\n",
       "      <td>0</td>\n",
       "      <td>0</td>\n",
       "      <td>0</td>\n",
       "      <td>1</td>\n",
       "      <td>0</td>\n",
       "      <td>0</td>\n",
       "      <td>1.0</td>\n",
       "      <td>...</td>\n",
       "      <td>Outdoor</td>\n",
       "      <td>1</td>\n",
       "      <td>0.0</td>\n",
       "      <td>0.0</td>\n",
       "      <td>0.0</td>\n",
       "      <td>0</td>\n",
       "      <td>0</td>\n",
       "      <td>0</td>\n",
       "      <td>1</td>\n",
       "      <td>11 to 30</td>\n",
       "    </tr>\n",
       "    <tr>\n",
       "      <th>4</th>\n",
       "      <td>Non - Vegetarian</td>\n",
       "      <td>Female</td>\n",
       "      <td>0</td>\n",
       "      <td>0</td>\n",
       "      <td>0</td>\n",
       "      <td>0</td>\n",
       "      <td>1</td>\n",
       "      <td>0</td>\n",
       "      <td>0</td>\n",
       "      <td>0.0</td>\n",
       "      <td>...</td>\n",
       "      <td>Office</td>\n",
       "      <td>1</td>\n",
       "      <td>0.0</td>\n",
       "      <td>0.0</td>\n",
       "      <td>0.0</td>\n",
       "      <td>0</td>\n",
       "      <td>0</td>\n",
       "      <td>0</td>\n",
       "      <td>1</td>\n",
       "      <td>51 to 70</td>\n",
       "    </tr>\n",
       "  </tbody>\n",
       "</table>\n",
       "<p>5 rows × 32 columns</p>\n",
       "</div>"
      ],
      "text/plain": [
       "      Eating Habits  Gender  Q1  Q2  Q3  Q4  Q5  Q6  Q7   Q8    ...      \\\n",
       "0        Vegetarian  Female   1   1   1   1   1   0   0  0.0    ...       \n",
       "1        Vegetarian    Male   0   0   0   1   1   1   0  0.0    ...       \n",
       "2        Vegetarian  Female   0   0   0   0   0   0   0  0.0    ...       \n",
       "3  Non - Vegetarian  Female   1   0   0   0   1   0   0  1.0    ...       \n",
       "4  Non - Vegetarian  Female   0   0   0   0   1   0   0  0.0    ...       \n",
       "\n",
       "         Q33  Q34  Q35  Q36  Q37  Q38  R_TSH  R_B12  Count  Age_Group  \n",
       "0  Household    0  1.0  0.0  0.0    0      0      0      1   31 to 50  \n",
       "1     Office    0  0.0  0.0  1.0    0      0      1      1   31 to 50  \n",
       "2  Household    1  0.0  0.0  0.0    0      0      0      1   11 to 30  \n",
       "3    Outdoor    1  0.0  0.0  0.0    0      0      0      1   11 to 30  \n",
       "4     Office    1  0.0  0.0  0.0    0      0      0      1   51 to 70  \n",
       "\n",
       "[5 rows x 32 columns]"
      ]
     },
     "execution_count": 610,
     "metadata": {},
     "output_type": "execute_result"
    }
   ],
   "source": [
    "t.head()"
   ]
  },
  {
   "cell_type": "code",
   "execution_count": 611,
   "metadata": {},
   "outputs": [
    {
     "data": {
      "text/html": [
       "<div>\n",
       "<style scoped>\n",
       "    .dataframe tbody tr th:only-of-type {\n",
       "        vertical-align: middle;\n",
       "    }\n",
       "\n",
       "    .dataframe tbody tr th {\n",
       "        vertical-align: top;\n",
       "    }\n",
       "\n",
       "    .dataframe thead th {\n",
       "        text-align: right;\n",
       "    }\n",
       "</style>\n",
       "<table border=\"1\" class=\"dataframe\">\n",
       "  <thead>\n",
       "    <tr style=\"text-align: right;\">\n",
       "      <th></th>\n",
       "      <th>Q1</th>\n",
       "      <th>Q2</th>\n",
       "      <th>Q3</th>\n",
       "      <th>Q4</th>\n",
       "      <th>Q5</th>\n",
       "      <th>Q6</th>\n",
       "      <th>Q7</th>\n",
       "      <th>Q8</th>\n",
       "      <th>Q9</th>\n",
       "      <th>Q10</th>\n",
       "      <th>...</th>\n",
       "      <th>Q16</th>\n",
       "      <th>Q29</th>\n",
       "      <th>Q30</th>\n",
       "      <th>Q31</th>\n",
       "      <th>Q32</th>\n",
       "      <th>Q34</th>\n",
       "      <th>Q36</th>\n",
       "      <th>Q38</th>\n",
       "      <th>R_TSH</th>\n",
       "      <th>R_B12</th>\n",
       "    </tr>\n",
       "  </thead>\n",
       "  <tbody>\n",
       "    <tr>\n",
       "      <th>0</th>\n",
       "      <td>1</td>\n",
       "      <td>1</td>\n",
       "      <td>1</td>\n",
       "      <td>1</td>\n",
       "      <td>1</td>\n",
       "      <td>0</td>\n",
       "      <td>0</td>\n",
       "      <td>0.0</td>\n",
       "      <td>1</td>\n",
       "      <td>1.0</td>\n",
       "      <td>...</td>\n",
       "      <td>1</td>\n",
       "      <td>1</td>\n",
       "      <td>0.0</td>\n",
       "      <td>1</td>\n",
       "      <td>0</td>\n",
       "      <td>0</td>\n",
       "      <td>0.0</td>\n",
       "      <td>0</td>\n",
       "      <td>0</td>\n",
       "      <td>0</td>\n",
       "    </tr>\n",
       "    <tr>\n",
       "      <th>1</th>\n",
       "      <td>0</td>\n",
       "      <td>0</td>\n",
       "      <td>0</td>\n",
       "      <td>1</td>\n",
       "      <td>1</td>\n",
       "      <td>1</td>\n",
       "      <td>0</td>\n",
       "      <td>0.0</td>\n",
       "      <td>0</td>\n",
       "      <td>0.0</td>\n",
       "      <td>...</td>\n",
       "      <td>0</td>\n",
       "      <td>1</td>\n",
       "      <td>0.0</td>\n",
       "      <td>0</td>\n",
       "      <td>0</td>\n",
       "      <td>0</td>\n",
       "      <td>0.0</td>\n",
       "      <td>0</td>\n",
       "      <td>0</td>\n",
       "      <td>1</td>\n",
       "    </tr>\n",
       "    <tr>\n",
       "      <th>2</th>\n",
       "      <td>0</td>\n",
       "      <td>0</td>\n",
       "      <td>0</td>\n",
       "      <td>0</td>\n",
       "      <td>0</td>\n",
       "      <td>0</td>\n",
       "      <td>0</td>\n",
       "      <td>0.0</td>\n",
       "      <td>0</td>\n",
       "      <td>0.0</td>\n",
       "      <td>...</td>\n",
       "      <td>0</td>\n",
       "      <td>1</td>\n",
       "      <td>0.0</td>\n",
       "      <td>0</td>\n",
       "      <td>0</td>\n",
       "      <td>1</td>\n",
       "      <td>0.0</td>\n",
       "      <td>0</td>\n",
       "      <td>0</td>\n",
       "      <td>0</td>\n",
       "    </tr>\n",
       "    <tr>\n",
       "      <th>3</th>\n",
       "      <td>1</td>\n",
       "      <td>0</td>\n",
       "      <td>0</td>\n",
       "      <td>0</td>\n",
       "      <td>1</td>\n",
       "      <td>0</td>\n",
       "      <td>0</td>\n",
       "      <td>1.0</td>\n",
       "      <td>0</td>\n",
       "      <td>0.0</td>\n",
       "      <td>...</td>\n",
       "      <td>0</td>\n",
       "      <td>1</td>\n",
       "      <td>0.0</td>\n",
       "      <td>1</td>\n",
       "      <td>0</td>\n",
       "      <td>1</td>\n",
       "      <td>0.0</td>\n",
       "      <td>0</td>\n",
       "      <td>0</td>\n",
       "      <td>0</td>\n",
       "    </tr>\n",
       "    <tr>\n",
       "      <th>4</th>\n",
       "      <td>0</td>\n",
       "      <td>0</td>\n",
       "      <td>0</td>\n",
       "      <td>0</td>\n",
       "      <td>1</td>\n",
       "      <td>0</td>\n",
       "      <td>0</td>\n",
       "      <td>0.0</td>\n",
       "      <td>0</td>\n",
       "      <td>0.0</td>\n",
       "      <td>...</td>\n",
       "      <td>0</td>\n",
       "      <td>0</td>\n",
       "      <td>0.0</td>\n",
       "      <td>1</td>\n",
       "      <td>0</td>\n",
       "      <td>1</td>\n",
       "      <td>0.0</td>\n",
       "      <td>0</td>\n",
       "      <td>0</td>\n",
       "      <td>0</td>\n",
       "    </tr>\n",
       "  </tbody>\n",
       "</table>\n",
       "<p>5 rows × 25 columns</p>\n",
       "</div>"
      ],
      "text/plain": [
       "   Q1  Q2  Q3  Q4  Q5  Q6  Q7   Q8  Q9  Q10  ...    Q16  Q29  Q30  Q31  Q32  \\\n",
       "0   1   1   1   1   1   0   0  0.0   1  1.0  ...      1    1  0.0    1    0   \n",
       "1   0   0   0   1   1   1   0  0.0   0  0.0  ...      0    1  0.0    0    0   \n",
       "2   0   0   0   0   0   0   0  0.0   0  0.0  ...      0    1  0.0    0    0   \n",
       "3   1   0   0   0   1   0   0  1.0   0  0.0  ...      0    1  0.0    1    0   \n",
       "4   0   0   0   0   1   0   0  0.0   0  0.0  ...      0    0  0.0    1    0   \n",
       "\n",
       "   Q34  Q36  Q38  R_TSH  R_B12  \n",
       "0    0  0.0    0      0      0  \n",
       "1    0  0.0    0      0      1  \n",
       "2    1  0.0    0      0      0  \n",
       "3    1  0.0    0      0      0  \n",
       "4    1  0.0    0      0      0  \n",
       "\n",
       "[5 rows x 25 columns]"
      ]
     },
     "execution_count": 611,
     "metadata": {},
     "output_type": "execute_result"
    }
   ],
   "source": [
    "t.drop(['Count'], axis = 1, inplace = True)\n",
    "t.drop(['Eating Habits'], axis = 1, inplace = True)\n",
    "t.drop(['Gender'], axis = 1, inplace = True)\n",
    "t.drop(['Q33'], axis = 1, inplace = True)\n",
    "t.drop(['Q35'], axis = 1, inplace = True)\n",
    "t.drop(['Q37'], axis = 1, inplace = True)\n",
    "t.drop(['Age_Group'], axis = 1, inplace = True)\n",
    "t.head()"
   ]
  },
  {
   "cell_type": "code",
   "execution_count": 612,
   "metadata": {},
   "outputs": [
    {
     "data": {
      "text/html": [
       "<div>\n",
       "<style scoped>\n",
       "    .dataframe tbody tr th:only-of-type {\n",
       "        vertical-align: middle;\n",
       "    }\n",
       "\n",
       "    .dataframe tbody tr th {\n",
       "        vertical-align: top;\n",
       "    }\n",
       "\n",
       "    .dataframe thead th {\n",
       "        text-align: right;\n",
       "    }\n",
       "</style>\n",
       "<table border=\"1\" class=\"dataframe\">\n",
       "  <thead>\n",
       "    <tr style=\"text-align: right;\">\n",
       "      <th></th>\n",
       "      <th>Q1</th>\n",
       "      <th>Q2</th>\n",
       "      <th>Q3</th>\n",
       "      <th>Q4</th>\n",
       "      <th>Q5</th>\n",
       "      <th>Q6</th>\n",
       "      <th>Q7</th>\n",
       "      <th>Q8</th>\n",
       "      <th>Q9</th>\n",
       "      <th>Q10</th>\n",
       "      <th>...</th>\n",
       "      <th>Q36</th>\n",
       "      <th>Q38</th>\n",
       "      <th>R_TSH</th>\n",
       "      <th>R_B12</th>\n",
       "      <th>Male</th>\n",
       "      <th>Non - Vegetarian</th>\n",
       "      <th>Vegetarian</th>\n",
       "      <th>31 to 50</th>\n",
       "      <th>51 to 70</th>\n",
       "      <th>More than 70</th>\n",
       "    </tr>\n",
       "  </thead>\n",
       "  <tbody>\n",
       "    <tr>\n",
       "      <th>0</th>\n",
       "      <td>1</td>\n",
       "      <td>1</td>\n",
       "      <td>1</td>\n",
       "      <td>1</td>\n",
       "      <td>1</td>\n",
       "      <td>0</td>\n",
       "      <td>0</td>\n",
       "      <td>0.0</td>\n",
       "      <td>1</td>\n",
       "      <td>1.0</td>\n",
       "      <td>...</td>\n",
       "      <td>0.0</td>\n",
       "      <td>0</td>\n",
       "      <td>0</td>\n",
       "      <td>0</td>\n",
       "      <td>0</td>\n",
       "      <td>0</td>\n",
       "      <td>1</td>\n",
       "      <td>1</td>\n",
       "      <td>0</td>\n",
       "      <td>0</td>\n",
       "    </tr>\n",
       "    <tr>\n",
       "      <th>1</th>\n",
       "      <td>0</td>\n",
       "      <td>0</td>\n",
       "      <td>0</td>\n",
       "      <td>1</td>\n",
       "      <td>1</td>\n",
       "      <td>1</td>\n",
       "      <td>0</td>\n",
       "      <td>0.0</td>\n",
       "      <td>0</td>\n",
       "      <td>0.0</td>\n",
       "      <td>...</td>\n",
       "      <td>0.0</td>\n",
       "      <td>0</td>\n",
       "      <td>0</td>\n",
       "      <td>1</td>\n",
       "      <td>1</td>\n",
       "      <td>0</td>\n",
       "      <td>1</td>\n",
       "      <td>1</td>\n",
       "      <td>0</td>\n",
       "      <td>0</td>\n",
       "    </tr>\n",
       "    <tr>\n",
       "      <th>2</th>\n",
       "      <td>0</td>\n",
       "      <td>0</td>\n",
       "      <td>0</td>\n",
       "      <td>0</td>\n",
       "      <td>0</td>\n",
       "      <td>0</td>\n",
       "      <td>0</td>\n",
       "      <td>0.0</td>\n",
       "      <td>0</td>\n",
       "      <td>0.0</td>\n",
       "      <td>...</td>\n",
       "      <td>0.0</td>\n",
       "      <td>0</td>\n",
       "      <td>0</td>\n",
       "      <td>0</td>\n",
       "      <td>0</td>\n",
       "      <td>0</td>\n",
       "      <td>1</td>\n",
       "      <td>0</td>\n",
       "      <td>0</td>\n",
       "      <td>0</td>\n",
       "    </tr>\n",
       "    <tr>\n",
       "      <th>3</th>\n",
       "      <td>1</td>\n",
       "      <td>0</td>\n",
       "      <td>0</td>\n",
       "      <td>0</td>\n",
       "      <td>1</td>\n",
       "      <td>0</td>\n",
       "      <td>0</td>\n",
       "      <td>1.0</td>\n",
       "      <td>0</td>\n",
       "      <td>0.0</td>\n",
       "      <td>...</td>\n",
       "      <td>0.0</td>\n",
       "      <td>0</td>\n",
       "      <td>0</td>\n",
       "      <td>0</td>\n",
       "      <td>0</td>\n",
       "      <td>1</td>\n",
       "      <td>0</td>\n",
       "      <td>0</td>\n",
       "      <td>0</td>\n",
       "      <td>0</td>\n",
       "    </tr>\n",
       "    <tr>\n",
       "      <th>4</th>\n",
       "      <td>0</td>\n",
       "      <td>0</td>\n",
       "      <td>0</td>\n",
       "      <td>0</td>\n",
       "      <td>1</td>\n",
       "      <td>0</td>\n",
       "      <td>0</td>\n",
       "      <td>0.0</td>\n",
       "      <td>0</td>\n",
       "      <td>0.0</td>\n",
       "      <td>...</td>\n",
       "      <td>0.0</td>\n",
       "      <td>0</td>\n",
       "      <td>0</td>\n",
       "      <td>0</td>\n",
       "      <td>0</td>\n",
       "      <td>1</td>\n",
       "      <td>0</td>\n",
       "      <td>0</td>\n",
       "      <td>1</td>\n",
       "      <td>0</td>\n",
       "    </tr>\n",
       "  </tbody>\n",
       "</table>\n",
       "<p>5 rows × 31 columns</p>\n",
       "</div>"
      ],
      "text/plain": [
       "   Q1  Q2  Q3  Q4  Q5  Q6  Q7   Q8  Q9  Q10      ...       Q36  Q38  R_TSH  \\\n",
       "0   1   1   1   1   1   0   0  0.0   1  1.0      ...       0.0    0      0   \n",
       "1   0   0   0   1   1   1   0  0.0   0  0.0      ...       0.0    0      0   \n",
       "2   0   0   0   0   0   0   0  0.0   0  0.0      ...       0.0    0      0   \n",
       "3   1   0   0   0   1   0   0  1.0   0  0.0      ...       0.0    0      0   \n",
       "4   0   0   0   0   1   0   0  0.0   0  0.0      ...       0.0    0      0   \n",
       "\n",
       "   R_B12  Male  Non - Vegetarian  Vegetarian  31 to 50  51 to 70  More than 70  \n",
       "0      0     0                 0           1         1         0             0  \n",
       "1      1     1                 0           1         1         0             0  \n",
       "2      0     0                 0           1         0         0             0  \n",
       "3      0     0                 1           0         0         0             0  \n",
       "4      0     0                 1           0         0         1             0  \n",
       "\n",
       "[5 rows x 31 columns]"
      ]
     },
     "execution_count": 612,
     "metadata": {},
     "output_type": "execute_result"
    }
   ],
   "source": [
    "Thy = pd.concat([t, Gender, EH, AG], axis = 1)\n",
    "Thy.head()"
   ]
  },
  {
   "cell_type": "code",
   "execution_count": 613,
   "metadata": {},
   "outputs": [],
   "source": [
    "X = Thy.drop('R_TSH', axis = 1)\n",
    "y = Thy['R_TSH']"
   ]
  },
  {
   "cell_type": "code",
   "execution_count": 614,
   "metadata": {},
   "outputs": [],
   "source": [
    "from sklearn.model_selection import train_test_split"
   ]
  },
  {
   "cell_type": "code",
   "execution_count": 615,
   "metadata": {},
   "outputs": [],
   "source": [
    "X_train, X_test, y_train, y_test = train_test_split(X, y, test_size = 0.3, random_state = 1)"
   ]
  },
  {
   "cell_type": "code",
   "execution_count": 616,
   "metadata": {},
   "outputs": [],
   "source": [
    "from sklearn.linear_model import LogisticRegression"
   ]
  },
  {
   "cell_type": "code",
   "execution_count": 617,
   "metadata": {},
   "outputs": [],
   "source": [
    "logmodel = LogisticRegression()"
   ]
  },
  {
   "cell_type": "code",
   "execution_count": 618,
   "metadata": {},
   "outputs": [
    {
     "name": "stderr",
     "output_type": "stream",
     "text": [
      "C:\\Users\\ASUS\\Anaconda3\\lib\\site-packages\\sklearn\\linear_model\\logistic.py:432: FutureWarning: Default solver will be changed to 'lbfgs' in 0.22. Specify a solver to silence this warning.\n",
      "  FutureWarning)\n"
     ]
    },
    {
     "data": {
      "text/plain": [
       "LogisticRegression(C=1.0, class_weight=None, dual=False, fit_intercept=True,\n",
       "                   intercept_scaling=1, l1_ratio=None, max_iter=100,\n",
       "                   multi_class='warn', n_jobs=None, penalty='l2',\n",
       "                   random_state=None, solver='warn', tol=0.0001, verbose=0,\n",
       "                   warm_start=False)"
      ]
     },
     "execution_count": 618,
     "metadata": {},
     "output_type": "execute_result"
    }
   ],
   "source": [
    "logmodel.fit(X_train, y_train)"
   ]
  },
  {
   "cell_type": "code",
   "execution_count": 619,
   "metadata": {},
   "outputs": [],
   "source": [
    "predictions = logmodel.predict(X_test)"
   ]
  },
  {
   "cell_type": "code",
   "execution_count": 620,
   "metadata": {},
   "outputs": [],
   "source": [
    "from sklearn.metrics import classification_report"
   ]
  },
  {
   "cell_type": "code",
   "execution_count": 621,
   "metadata": {},
   "outputs": [
    {
     "name": "stderr",
     "output_type": "stream",
     "text": [
      "C:\\Users\\ASUS\\Anaconda3\\lib\\site-packages\\sklearn\\metrics\\classification.py:1437: UndefinedMetricWarning: Precision and F-score are ill-defined and being set to 0.0 in labels with no predicted samples.\n",
      "  'precision', 'predicted', average, warn_for)\n"
     ]
    },
    {
     "data": {
      "text/plain": [
       "'              precision    recall  f1-score   support\\n\\n           0       0.84      1.00      0.91        16\\n           1       0.00      0.00      0.00         3\\n\\n    accuracy                           0.84        19\\n   macro avg       0.42      0.50      0.46        19\\nweighted avg       0.71      0.84      0.77        19\\n'"
      ]
     },
     "execution_count": 621,
     "metadata": {},
     "output_type": "execute_result"
    }
   ],
   "source": [
    "classification_report(y_test, predictions)"
   ]
  },
  {
   "cell_type": "code",
   "execution_count": 622,
   "metadata": {},
   "outputs": [],
   "source": [
    "from sklearn.metrics import confusion_matrix"
   ]
  },
  {
   "cell_type": "code",
   "execution_count": 623,
   "metadata": {},
   "outputs": [
    {
     "data": {
      "text/plain": [
       "array([[16,  0],\n",
       "       [ 3,  0]], dtype=int64)"
      ]
     },
     "execution_count": 623,
     "metadata": {},
     "output_type": "execute_result"
    }
   ],
   "source": [
    "confusion_matrix(y_test, predictions)"
   ]
  },
  {
   "cell_type": "code",
   "execution_count": 624,
   "metadata": {},
   "outputs": [],
   "source": [
    "from sklearn.metrics import accuracy_score"
   ]
  },
  {
   "cell_type": "code",
   "execution_count": 625,
   "metadata": {},
   "outputs": [
    {
     "data": {
      "text/plain": [
       "0.8421052631578947"
      ]
     },
     "execution_count": 625,
     "metadata": {},
     "output_type": "execute_result"
    }
   ],
   "source": [
    "accuracy_score(y_test, predictions)"
   ]
  },
  {
   "cell_type": "code",
   "execution_count": null,
   "metadata": {},
   "outputs": [],
   "source": []
  }
 ],
 "metadata": {
  "kernelspec": {
   "display_name": "Python 3",
   "language": "python",
   "name": "python3"
  },
  "language_info": {
   "codemirror_mode": {
    "name": "ipython",
    "version": 3
   },
   "file_extension": ".py",
   "mimetype": "text/x-python",
   "name": "python",
   "nbconvert_exporter": "python",
   "pygments_lexer": "ipython3",
   "version": "3.6.5"
  }
 },
 "nbformat": 4,
 "nbformat_minor": 2
}
