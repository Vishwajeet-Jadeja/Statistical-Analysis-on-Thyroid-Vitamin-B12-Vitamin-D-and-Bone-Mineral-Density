{
 "cells": [
  {
   "cell_type": "markdown",
   "metadata": {},
   "source": [
    "# Vitamin D Analysis"
   ]
  },
  {
   "cell_type": "code",
   "execution_count": 1,
   "metadata": {},
   "outputs": [],
   "source": [
    "import MySQLdb\n",
    "import pandas as pd\n",
    "import numpy as np\n",
    "import matplotlib.pyplot as plt\n",
    "from scipy import stats"
   ]
  },
  {
   "cell_type": "code",
   "execution_count": 2,
   "metadata": {},
   "outputs": [],
   "source": [
    "conn = MySQLdb.connect(host = 'localhost', user = 'root', passwd = 'mysql')"
   ]
  },
  {
   "cell_type": "code",
   "execution_count": 3,
   "metadata": {},
   "outputs": [],
   "source": [
    "cursor = conn.cursor()"
   ]
  },
  {
   "cell_type": "code",
   "execution_count": 4,
   "metadata": {},
   "outputs": [
    {
     "data": {
      "text/plain": [
       "0"
      ]
     },
     "execution_count": 4,
     "metadata": {},
     "output_type": "execute_result"
    }
   ],
   "source": [
    "cursor.execute('use health_camp')"
   ]
  },
  {
   "cell_type": "code",
   "execution_count": 5,
   "metadata": {},
   "outputs": [
    {
     "data": {
      "text/html": [
       "<div>\n",
       "<style scoped>\n",
       "    .dataframe tbody tr th:only-of-type {\n",
       "        vertical-align: middle;\n",
       "    }\n",
       "\n",
       "    .dataframe tbody tr th {\n",
       "        vertical-align: top;\n",
       "    }\n",
       "\n",
       "    .dataframe thead th {\n",
       "        text-align: right;\n",
       "    }\n",
       "</style>\n",
       "<table border=\"1\" class=\"dataframe\">\n",
       "  <thead>\n",
       "    <tr style=\"text-align: right;\">\n",
       "      <th></th>\n",
       "      <th>Age</th>\n",
       "      <th>Eating Habits</th>\n",
       "      <th>Gender</th>\n",
       "      <th>Q29</th>\n",
       "      <th>Q30</th>\n",
       "      <th>Q31</th>\n",
       "      <th>Q32</th>\n",
       "      <th>Q33</th>\n",
       "      <th>Q34</th>\n",
       "      <th>Q35</th>\n",
       "      <th>Q36</th>\n",
       "      <th>Q37</th>\n",
       "      <th>Q38</th>\n",
       "      <th>R_D</th>\n",
       "      <th>R_BMD</th>\n",
       "    </tr>\n",
       "  </thead>\n",
       "  <tbody>\n",
       "    <tr>\n",
       "      <th>0</th>\n",
       "      <td>38</td>\n",
       "      <td>Vegetarian</td>\n",
       "      <td>Male</td>\n",
       "      <td>1</td>\n",
       "      <td>0</td>\n",
       "      <td>0</td>\n",
       "      <td>0</td>\n",
       "      <td>Office</td>\n",
       "      <td>0</td>\n",
       "      <td>0.0</td>\n",
       "      <td>0.0</td>\n",
       "      <td>1</td>\n",
       "      <td>0.0</td>\n",
       "      <td>Deficient</td>\n",
       "      <td>Osteopenia</td>\n",
       "    </tr>\n",
       "    <tr>\n",
       "      <th>1</th>\n",
       "      <td>51</td>\n",
       "      <td>Non - Vegetarian</td>\n",
       "      <td>Female</td>\n",
       "      <td>0</td>\n",
       "      <td>0</td>\n",
       "      <td>1</td>\n",
       "      <td>0</td>\n",
       "      <td>Office</td>\n",
       "      <td>1</td>\n",
       "      <td>0.0</td>\n",
       "      <td>0.0</td>\n",
       "      <td>0</td>\n",
       "      <td>0.0</td>\n",
       "      <td>Deficient</td>\n",
       "      <td>None</td>\n",
       "    </tr>\n",
       "    <tr>\n",
       "      <th>2</th>\n",
       "      <td>15</td>\n",
       "      <td>Vegetarian</td>\n",
       "      <td>Female</td>\n",
       "      <td>1</td>\n",
       "      <td>0</td>\n",
       "      <td>1</td>\n",
       "      <td>0</td>\n",
       "      <td>None</td>\n",
       "      <td>0</td>\n",
       "      <td>0.0</td>\n",
       "      <td>1.0</td>\n",
       "      <td>0</td>\n",
       "      <td>0.0</td>\n",
       "      <td>Insufficient</td>\n",
       "      <td>Normal</td>\n",
       "    </tr>\n",
       "    <tr>\n",
       "      <th>3</th>\n",
       "      <td>16</td>\n",
       "      <td>Eggetarian</td>\n",
       "      <td>Female</td>\n",
       "      <td>1</td>\n",
       "      <td>0</td>\n",
       "      <td>1</td>\n",
       "      <td>0</td>\n",
       "      <td>None</td>\n",
       "      <td>0</td>\n",
       "      <td>0.0</td>\n",
       "      <td>1.0</td>\n",
       "      <td>0</td>\n",
       "      <td>0.0</td>\n",
       "      <td>Sufficient</td>\n",
       "      <td>Normal</td>\n",
       "    </tr>\n",
       "    <tr>\n",
       "      <th>4</th>\n",
       "      <td>55</td>\n",
       "      <td>Vegetarian</td>\n",
       "      <td>Female</td>\n",
       "      <td>0</td>\n",
       "      <td>1</td>\n",
       "      <td>1</td>\n",
       "      <td>0</td>\n",
       "      <td>Household</td>\n",
       "      <td>1</td>\n",
       "      <td>0.0</td>\n",
       "      <td>1.0</td>\n",
       "      <td>0</td>\n",
       "      <td>0.0</td>\n",
       "      <td>Insufficient</td>\n",
       "      <td>None</td>\n",
       "    </tr>\n",
       "  </tbody>\n",
       "</table>\n",
       "</div>"
      ],
      "text/plain": [
       "   Age     Eating Habits  Gender  Q29  Q30  Q31  Q32        Q33  Q34  Q35  \\\n",
       "0   38        Vegetarian    Male    1    0    0    0     Office    0  0.0   \n",
       "1   51  Non - Vegetarian  Female    0    0    1    0     Office    1  0.0   \n",
       "2   15        Vegetarian  Female    1    0    1    0       None    0  0.0   \n",
       "3   16        Eggetarian  Female    1    0    1    0       None    0  0.0   \n",
       "4   55        Vegetarian  Female    0    1    1    0  Household    1  0.0   \n",
       "\n",
       "   Q36  Q37  Q38           R_D       R_BMD  \n",
       "0  0.0    1  0.0     Deficient  Osteopenia  \n",
       "1  0.0    0  0.0     Deficient        None  \n",
       "2  1.0    0  0.0  Insufficient      Normal  \n",
       "3  1.0    0  0.0    Sufficient      Normal  \n",
       "4  1.0    0  0.0  Insufficient        None  "
      ]
     },
     "execution_count": 5,
     "metadata": {},
     "output_type": "execute_result"
    }
   ],
   "source": [
    "cursor.execute('select age, eating_habits, gender, Q29, Q30, Q31, Q32, Q33, Q34, Q35, Q36, Q37, Q38, R_D, R_BMD from profile, questions, reports where profile.P_Id = questions.P_Id and questions.R_Id = reports.R_Id and R_D != \"NULL\"')\n",
    "D = pd.DataFrame(list(cursor.fetchall()), columns = ['Age', 'Eating Habits', 'Gender', 'Q29', 'Q30', 'Q31', 'Q32', 'Q33', 'Q34', 'Q35', 'Q36', 'Q37', 'Q38', 'R_D', 'R_BMD'])\n",
    "D.head()"
   ]
  },
  {
   "cell_type": "code",
   "execution_count": 6,
   "metadata": {},
   "outputs": [
    {
     "data": {
      "text/html": [
       "<div>\n",
       "<style scoped>\n",
       "    .dataframe tbody tr th:only-of-type {\n",
       "        vertical-align: middle;\n",
       "    }\n",
       "\n",
       "    .dataframe tbody tr th {\n",
       "        vertical-align: top;\n",
       "    }\n",
       "\n",
       "    .dataframe thead th {\n",
       "        text-align: right;\n",
       "    }\n",
       "</style>\n",
       "<table border=\"1\" class=\"dataframe\">\n",
       "  <thead>\n",
       "    <tr style=\"text-align: right;\">\n",
       "      <th></th>\n",
       "      <th>Age</th>\n",
       "      <th>Q29</th>\n",
       "      <th>Q30</th>\n",
       "      <th>Q31</th>\n",
       "      <th>Q32</th>\n",
       "      <th>Q34</th>\n",
       "      <th>Q35</th>\n",
       "      <th>Q36</th>\n",
       "      <th>Q37</th>\n",
       "      <th>Q38</th>\n",
       "    </tr>\n",
       "  </thead>\n",
       "  <tbody>\n",
       "    <tr>\n",
       "      <th>count</th>\n",
       "      <td>53.000000</td>\n",
       "      <td>53.000000</td>\n",
       "      <td>53.000000</td>\n",
       "      <td>53.000000</td>\n",
       "      <td>53.000000</td>\n",
       "      <td>53.000000</td>\n",
       "      <td>52.000000</td>\n",
       "      <td>45.000000</td>\n",
       "      <td>53.000000</td>\n",
       "      <td>52.000000</td>\n",
       "    </tr>\n",
       "    <tr>\n",
       "      <th>mean</th>\n",
       "      <td>50.962264</td>\n",
       "      <td>0.207547</td>\n",
       "      <td>0.509434</td>\n",
       "      <td>0.547170</td>\n",
       "      <td>0.037736</td>\n",
       "      <td>0.641509</td>\n",
       "      <td>0.442308</td>\n",
       "      <td>0.133333</td>\n",
       "      <td>0.226415</td>\n",
       "      <td>0.192308</td>\n",
       "    </tr>\n",
       "    <tr>\n",
       "      <th>std</th>\n",
       "      <td>17.275997</td>\n",
       "      <td>0.409432</td>\n",
       "      <td>0.504695</td>\n",
       "      <td>0.502533</td>\n",
       "      <td>0.192380</td>\n",
       "      <td>0.484146</td>\n",
       "      <td>0.501506</td>\n",
       "      <td>0.343776</td>\n",
       "      <td>0.422516</td>\n",
       "      <td>0.397959</td>\n",
       "    </tr>\n",
       "    <tr>\n",
       "      <th>min</th>\n",
       "      <td>11.000000</td>\n",
       "      <td>0.000000</td>\n",
       "      <td>0.000000</td>\n",
       "      <td>0.000000</td>\n",
       "      <td>0.000000</td>\n",
       "      <td>0.000000</td>\n",
       "      <td>0.000000</td>\n",
       "      <td>0.000000</td>\n",
       "      <td>0.000000</td>\n",
       "      <td>0.000000</td>\n",
       "    </tr>\n",
       "    <tr>\n",
       "      <th>25%</th>\n",
       "      <td>46.000000</td>\n",
       "      <td>0.000000</td>\n",
       "      <td>0.000000</td>\n",
       "      <td>0.000000</td>\n",
       "      <td>0.000000</td>\n",
       "      <td>0.000000</td>\n",
       "      <td>0.000000</td>\n",
       "      <td>0.000000</td>\n",
       "      <td>0.000000</td>\n",
       "      <td>0.000000</td>\n",
       "    </tr>\n",
       "    <tr>\n",
       "      <th>50%</th>\n",
       "      <td>53.000000</td>\n",
       "      <td>0.000000</td>\n",
       "      <td>1.000000</td>\n",
       "      <td>1.000000</td>\n",
       "      <td>0.000000</td>\n",
       "      <td>1.000000</td>\n",
       "      <td>0.000000</td>\n",
       "      <td>0.000000</td>\n",
       "      <td>0.000000</td>\n",
       "      <td>0.000000</td>\n",
       "    </tr>\n",
       "    <tr>\n",
       "      <th>75%</th>\n",
       "      <td>60.000000</td>\n",
       "      <td>0.000000</td>\n",
       "      <td>1.000000</td>\n",
       "      <td>1.000000</td>\n",
       "      <td>0.000000</td>\n",
       "      <td>1.000000</td>\n",
       "      <td>1.000000</td>\n",
       "      <td>0.000000</td>\n",
       "      <td>0.000000</td>\n",
       "      <td>0.000000</td>\n",
       "    </tr>\n",
       "    <tr>\n",
       "      <th>max</th>\n",
       "      <td>82.000000</td>\n",
       "      <td>1.000000</td>\n",
       "      <td>1.000000</td>\n",
       "      <td>1.000000</td>\n",
       "      <td>1.000000</td>\n",
       "      <td>1.000000</td>\n",
       "      <td>1.000000</td>\n",
       "      <td>1.000000</td>\n",
       "      <td>1.000000</td>\n",
       "      <td>1.000000</td>\n",
       "    </tr>\n",
       "  </tbody>\n",
       "</table>\n",
       "</div>"
      ],
      "text/plain": [
       "             Age        Q29        Q30        Q31        Q32        Q34  \\\n",
       "count  53.000000  53.000000  53.000000  53.000000  53.000000  53.000000   \n",
       "mean   50.962264   0.207547   0.509434   0.547170   0.037736   0.641509   \n",
       "std    17.275997   0.409432   0.504695   0.502533   0.192380   0.484146   \n",
       "min    11.000000   0.000000   0.000000   0.000000   0.000000   0.000000   \n",
       "25%    46.000000   0.000000   0.000000   0.000000   0.000000   0.000000   \n",
       "50%    53.000000   0.000000   1.000000   1.000000   0.000000   1.000000   \n",
       "75%    60.000000   0.000000   1.000000   1.000000   0.000000   1.000000   \n",
       "max    82.000000   1.000000   1.000000   1.000000   1.000000   1.000000   \n",
       "\n",
       "             Q35        Q36        Q37        Q38  \n",
       "count  52.000000  45.000000  53.000000  52.000000  \n",
       "mean    0.442308   0.133333   0.226415   0.192308  \n",
       "std     0.501506   0.343776   0.422516   0.397959  \n",
       "min     0.000000   0.000000   0.000000   0.000000  \n",
       "25%     0.000000   0.000000   0.000000   0.000000  \n",
       "50%     0.000000   0.000000   0.000000   0.000000  \n",
       "75%     1.000000   0.000000   0.000000   0.000000  \n",
       "max     1.000000   1.000000   1.000000   1.000000  "
      ]
     },
     "execution_count": 6,
     "metadata": {},
     "output_type": "execute_result"
    }
   ],
   "source": [
    "D.describe()"
   ]
  },
  {
   "cell_type": "markdown",
   "metadata": {},
   "source": [
    "### D vs Eating Habits"
   ]
  },
  {
   "cell_type": "code",
   "execution_count": 7,
   "metadata": {},
   "outputs": [
    {
     "data": {
      "text/html": [
       "<div>\n",
       "<style scoped>\n",
       "    .dataframe tbody tr th:only-of-type {\n",
       "        vertical-align: middle;\n",
       "    }\n",
       "\n",
       "    .dataframe tbody tr th {\n",
       "        vertical-align: top;\n",
       "    }\n",
       "\n",
       "    .dataframe thead th {\n",
       "        text-align: right;\n",
       "    }\n",
       "</style>\n",
       "<table border=\"1\" class=\"dataframe\">\n",
       "  <thead>\n",
       "    <tr style=\"text-align: right;\">\n",
       "      <th>Eating Habits</th>\n",
       "      <th>Eggetarian</th>\n",
       "      <th>Non - Vegetarian</th>\n",
       "      <th>Vegetarian</th>\n",
       "    </tr>\n",
       "    <tr>\n",
       "      <th>R_D</th>\n",
       "      <th></th>\n",
       "      <th></th>\n",
       "      <th></th>\n",
       "    </tr>\n",
       "  </thead>\n",
       "  <tbody>\n",
       "    <tr>\n",
       "      <th>Deficient</th>\n",
       "      <td>0.0</td>\n",
       "      <td>2.0</td>\n",
       "      <td>5.0</td>\n",
       "    </tr>\n",
       "    <tr>\n",
       "      <th>Insufficient</th>\n",
       "      <td>2.0</td>\n",
       "      <td>11.0</td>\n",
       "      <td>26.0</td>\n",
       "    </tr>\n",
       "    <tr>\n",
       "      <th>Sufficient</th>\n",
       "      <td>1.0</td>\n",
       "      <td>1.0</td>\n",
       "      <td>5.0</td>\n",
       "    </tr>\n",
       "  </tbody>\n",
       "</table>\n",
       "</div>"
      ],
      "text/plain": [
       "Eating Habits  Eggetarian  Non - Vegetarian  Vegetarian\n",
       "R_D                                                    \n",
       "Deficient             0.0               2.0         5.0\n",
       "Insufficient          2.0              11.0        26.0\n",
       "Sufficient            1.0               1.0         5.0"
      ]
     },
     "execution_count": 7,
     "metadata": {},
     "output_type": "execute_result"
    }
   ],
   "source": [
    "D['Count'] = np.repeat(1, 53)\n",
    "pivot = pd.pivot_table(D, values='Count', index=['R_D'], columns=['Eating Habits'], aggfunc=np.sum)\n",
    "pivot.fillna(0, inplace = True)\n",
    "pivot"
   ]
  },
  {
   "cell_type": "code",
   "execution_count": 8,
   "metadata": {},
   "outputs": [
    {
     "data": {
      "text/plain": [
       "(1.8196697482411768,\n",
       " 0.7688817525315153,\n",
       " 4,\n",
       " array([[ 0.39622642,  1.8490566 ,  4.75471698],\n",
       "        [ 2.20754717, 10.30188679, 26.49056604],\n",
       "        [ 0.39622642,  1.8490566 ,  4.75471698]]))"
      ]
     },
     "execution_count": 8,
     "metadata": {},
     "output_type": "execute_result"
    }
   ],
   "source": [
    "stat = stats.chi2_contingency(pivot)\n",
    "stat"
   ]
  },
  {
   "cell_type": "code",
   "execution_count": 9,
   "metadata": {},
   "outputs": [
    {
     "data": {
      "text/plain": [
       "<matplotlib.axes._subplots.AxesSubplot at 0x1cd5e854828>"
      ]
     },
     "execution_count": 9,
     "metadata": {},
     "output_type": "execute_result"
    },
    {
     "data": {
      "image/png": "[encoded data removed]",
      "text/plain": [
       "<Figure size 432x288 with 1 Axes>"
      ]
     },
     "metadata": {},
     "output_type": "display_data"
    }
   ],
   "source": [
    "pivot.plot(kind='bar')"
   ]
  },
  {
   "cell_type": "code",
   "execution_count": 10,
   "metadata": {},
   "outputs": [
    {
     "data": {
      "text/html": [
       "<div>\n",
       "<style scoped>\n",
       "    .dataframe tbody tr th:only-of-type {\n",
       "        vertical-align: middle;\n",
       "    }\n",
       "\n",
       "    .dataframe tbody tr th {\n",
       "        vertical-align: top;\n",
       "    }\n",
       "\n",
       "    .dataframe thead th {\n",
       "        text-align: right;\n",
       "    }\n",
       "</style>\n",
       "<table border=\"1\" class=\"dataframe\">\n",
       "  <thead>\n",
       "    <tr style=\"text-align: right;\">\n",
       "      <th>Eating Habits</th>\n",
       "      <th>Eggetarian</th>\n",
       "      <th>Non - Vegetarian</th>\n",
       "      <th>Vegetarian</th>\n",
       "      <th>Total Eating Habits</th>\n",
       "      <th>Percentage Eggetarian</th>\n",
       "      <th>Percentage Non - Vegetarian</th>\n",
       "      <th>Pecentage Vegetarian</th>\n",
       "    </tr>\n",
       "  </thead>\n",
       "  <tbody>\n",
       "    <tr>\n",
       "      <th>Deficient</th>\n",
       "      <td>0.000000</td>\n",
       "      <td>2.000000</td>\n",
       "      <td>5.000000</td>\n",
       "      <td>7.0</td>\n",
       "      <td>0.000000</td>\n",
       "      <td>28.571429</td>\n",
       "      <td>71.428571</td>\n",
       "    </tr>\n",
       "    <tr>\n",
       "      <th>Insufficient</th>\n",
       "      <td>2.000000</td>\n",
       "      <td>11.000000</td>\n",
       "      <td>26.000000</td>\n",
       "      <td>39.0</td>\n",
       "      <td>5.128205</td>\n",
       "      <td>28.205128</td>\n",
       "      <td>66.666667</td>\n",
       "    </tr>\n",
       "    <tr>\n",
       "      <th>Sufficient</th>\n",
       "      <td>1.000000</td>\n",
       "      <td>1.000000</td>\n",
       "      <td>5.000000</td>\n",
       "      <td>7.0</td>\n",
       "      <td>14.285714</td>\n",
       "      <td>14.285714</td>\n",
       "      <td>71.428571</td>\n",
       "    </tr>\n",
       "    <tr>\n",
       "      <th>Total D</th>\n",
       "      <td>3.000000</td>\n",
       "      <td>14.000000</td>\n",
       "      <td>36.000000</td>\n",
       "      <td>NaN</td>\n",
       "      <td>NaN</td>\n",
       "      <td>NaN</td>\n",
       "      <td>NaN</td>\n",
       "    </tr>\n",
       "    <tr>\n",
       "      <th>Percentage Def</th>\n",
       "      <td>0.000000</td>\n",
       "      <td>14.285714</td>\n",
       "      <td>13.888889</td>\n",
       "      <td>NaN</td>\n",
       "      <td>NaN</td>\n",
       "      <td>NaN</td>\n",
       "      <td>NaN</td>\n",
       "    </tr>\n",
       "    <tr>\n",
       "      <th>Percentage Insuff</th>\n",
       "      <td>66.666667</td>\n",
       "      <td>78.571429</td>\n",
       "      <td>72.222222</td>\n",
       "      <td>NaN</td>\n",
       "      <td>NaN</td>\n",
       "      <td>NaN</td>\n",
       "      <td>NaN</td>\n",
       "    </tr>\n",
       "    <tr>\n",
       "      <th>Percentage Suff</th>\n",
       "      <td>33.333333</td>\n",
       "      <td>7.142857</td>\n",
       "      <td>13.888889</td>\n",
       "      <td>NaN</td>\n",
       "      <td>NaN</td>\n",
       "      <td>NaN</td>\n",
       "      <td>NaN</td>\n",
       "    </tr>\n",
       "  </tbody>\n",
       "</table>\n",
       "</div>"
      ],
      "text/plain": [
       "Eating Habits      Eggetarian  Non - Vegetarian  Vegetarian  \\\n",
       "Deficient            0.000000          2.000000    5.000000   \n",
       "Insufficient         2.000000         11.000000   26.000000   \n",
       "Sufficient           1.000000          1.000000    5.000000   \n",
       "Total D              3.000000         14.000000   36.000000   \n",
       "Percentage Def       0.000000         14.285714   13.888889   \n",
       "Percentage Insuff   66.666667         78.571429   72.222222   \n",
       "Percentage Suff     33.333333          7.142857   13.888889   \n",
       "\n",
       "Eating Habits      Total Eating Habits  Percentage Eggetarian  \\\n",
       "Deficient                          7.0               0.000000   \n",
       "Insufficient                      39.0               5.128205   \n",
       "Sufficient                         7.0              14.285714   \n",
       "Total D                            NaN                    NaN   \n",
       "Percentage Def                     NaN                    NaN   \n",
       "Percentage Insuff                  NaN                    NaN   \n",
       "Percentage Suff                    NaN                    NaN   \n",
       "\n",
       "Eating Habits      Percentage Non - Vegetarian  Pecentage Vegetarian  \n",
       "Deficient                            28.571429             71.428571  \n",
       "Insufficient                         28.205128             66.666667  \n",
       "Sufficient                           14.285714             71.428571  \n",
       "Total D                                    NaN                   NaN  \n",
       "Percentage Def                             NaN                   NaN  \n",
       "Percentage Insuff                          NaN                   NaN  \n",
       "Percentage Suff                            NaN                   NaN  "
      ]
     },
     "execution_count": 10,
     "metadata": {},
     "output_type": "execute_result"
    }
   ],
   "source": [
    "Total_D = [pivot.iloc[0, :] + pivot.iloc[1, :] + pivot.iloc[2, :]]\n",
    "Total_D = pd.DataFrame(Total_D, index = ['Total D'])\n",
    "piv = pivot.append(Total_D)\n",
    "Total_EH = pivot['Eggetarian'] + pivot['Non - Vegetarian'] + pivot['Vegetarian']\n",
    "piv['Total Eating Habits'] = Total_EH\n",
    "Percentage_Def = [(piv.iloc[0, :]/piv.iloc[3, :])*100]\n",
    "Percentage_Insuff = [(piv.iloc[1, :]/piv.iloc[3, :])*100]\n",
    "Percentage_Suff = [(piv.iloc[2, :]/piv.iloc[3, :])*100]\n",
    "Percentage_Def = pd.DataFrame(Percentage_Def, index = ['Percentage Def'])\n",
    "Percentage_Insuff = pd.DataFrame(Percentage_Insuff, index = ['Percentage Insuff'])\n",
    "Percentage_Suff = pd.DataFrame(Percentage_Suff, index = ['Percentage Suff'])\n",
    "Percentage_RE = (piv['Eggetarian']/piv['Total Eating Habits'])*100\n",
    "Percentage_RNV = (piv['Non - Vegetarian']/piv['Total Eating Habits'])*100\n",
    "Percentage_RV = (piv['Vegetarian']/piv['Total Eating Habits'])*100\n",
    "piv = piv.append(Percentage_Def)\n",
    "piv = piv.append(Percentage_Insuff)\n",
    "piv = piv.append(Percentage_Suff)\n",
    "piv['Percentage Eggetarian'] = Percentage_RE\n",
    "piv['Percentage Non - Vegetarian'] = Percentage_RNV\n",
    "piv['Pecentage Vegetarian'] = Percentage_RV\n",
    "piv"
   ]
  },
  {
   "cell_type": "markdown",
   "metadata": {},
   "source": [
    "### D vs Gender"
   ]
  },
  {
   "cell_type": "code",
   "execution_count": 11,
   "metadata": {},
   "outputs": [
    {
     "data": {
      "text/html": [
       "<div>\n",
       "<style scoped>\n",
       "    .dataframe tbody tr th:only-of-type {\n",
       "        vertical-align: middle;\n",
       "    }\n",
       "\n",
       "    .dataframe tbody tr th {\n",
       "        vertical-align: top;\n",
       "    }\n",
       "\n",
       "    .dataframe thead th {\n",
       "        text-align: right;\n",
       "    }\n",
       "</style>\n",
       "<table border=\"1\" class=\"dataframe\">\n",
       "  <thead>\n",
       "    <tr style=\"text-align: right;\">\n",
       "      <th>Gender</th>\n",
       "      <th>Female</th>\n",
       "      <th>Male</th>\n",
       "    </tr>\n",
       "    <tr>\n",
       "      <th>R_D</th>\n",
       "      <th></th>\n",
       "      <th></th>\n",
       "    </tr>\n",
       "  </thead>\n",
       "  <tbody>\n",
       "    <tr>\n",
       "      <th>Deficient</th>\n",
       "      <td>4</td>\n",
       "      <td>3</td>\n",
       "    </tr>\n",
       "    <tr>\n",
       "      <th>Insufficient</th>\n",
       "      <td>23</td>\n",
       "      <td>16</td>\n",
       "    </tr>\n",
       "    <tr>\n",
       "      <th>Sufficient</th>\n",
       "      <td>4</td>\n",
       "      <td>3</td>\n",
       "    </tr>\n",
       "  </tbody>\n",
       "</table>\n",
       "</div>"
      ],
      "text/plain": [
       "Gender        Female  Male\n",
       "R_D                       \n",
       "Deficient          4     3\n",
       "Insufficient      23    16\n",
       "Sufficient         4     3"
      ]
     },
     "execution_count": 11,
     "metadata": {},
     "output_type": "execute_result"
    }
   ],
   "source": [
    "pivot1 = pd.pivot_table(D, values='Count', index=['R_D'], columns=['Gender'], aggfunc=np.sum)\n",
    "pivot1"
   ]
  },
  {
   "cell_type": "code",
   "execution_count": 12,
   "metadata": {},
   "outputs": [
    {
     "data": {
      "text/plain": [
       "(0.014233078749207843,\n",
       " 0.9929087232287712,\n",
       " 2,\n",
       " array([[ 4.09433962,  2.90566038],\n",
       "        [22.81132075, 16.18867925],\n",
       "        [ 4.09433962,  2.90566038]]))"
      ]
     },
     "execution_count": 12,
     "metadata": {},
     "output_type": "execute_result"
    }
   ],
   "source": [
    "stat1 = stats.chi2_contingency(pivot1)\n",
    "stat1"
   ]
  },
  {
   "cell_type": "code",
   "execution_count": 13,
   "metadata": {},
   "outputs": [
    {
     "data": {
      "text/plain": [
       "<matplotlib.axes._subplots.AxesSubplot at 0x1cd5eb9f668>"
      ]
     },
     "execution_count": 13,
     "metadata": {},
     "output_type": "execute_result"
    },
    {
     "data": {
      "image/png": "[encoded data removed]",
      "text/plain": [
       "<Figure size 432x288 with 1 Axes>"
      ]
     },
     "metadata": {},
     "output_type": "display_data"
    }
   ],
   "source": [
    "pivot1.plot(kind='bar')"
   ]
  },
  {
   "cell_type": "code",
   "execution_count": 14,
   "metadata": {},
   "outputs": [
    {
     "data": {
      "text/html": [
       "<div>\n",
       "<style scoped>\n",
       "    .dataframe tbody tr th:only-of-type {\n",
       "        vertical-align: middle;\n",
       "    }\n",
       "\n",
       "    .dataframe tbody tr th {\n",
       "        vertical-align: top;\n",
       "    }\n",
       "\n",
       "    .dataframe thead th {\n",
       "        text-align: right;\n",
       "    }\n",
       "</style>\n",
       "<table border=\"1\" class=\"dataframe\">\n",
       "  <thead>\n",
       "    <tr style=\"text-align: right;\">\n",
       "      <th>Gender</th>\n",
       "      <th>Female</th>\n",
       "      <th>Male</th>\n",
       "      <th>Total Gender</th>\n",
       "      <th>Percentage Female</th>\n",
       "      <th>Percentage Male</th>\n",
       "    </tr>\n",
       "  </thead>\n",
       "  <tbody>\n",
       "    <tr>\n",
       "      <th>Deficient</th>\n",
       "      <td>4.000000</td>\n",
       "      <td>3.000000</td>\n",
       "      <td>7.0</td>\n",
       "      <td>57.142857</td>\n",
       "      <td>42.857143</td>\n",
       "    </tr>\n",
       "    <tr>\n",
       "      <th>Insufficient</th>\n",
       "      <td>23.000000</td>\n",
       "      <td>16.000000</td>\n",
       "      <td>39.0</td>\n",
       "      <td>58.974359</td>\n",
       "      <td>41.025641</td>\n",
       "    </tr>\n",
       "    <tr>\n",
       "      <th>Sufficient</th>\n",
       "      <td>4.000000</td>\n",
       "      <td>3.000000</td>\n",
       "      <td>7.0</td>\n",
       "      <td>57.142857</td>\n",
       "      <td>42.857143</td>\n",
       "    </tr>\n",
       "    <tr>\n",
       "      <th>Total D</th>\n",
       "      <td>31.000000</td>\n",
       "      <td>22.000000</td>\n",
       "      <td>NaN</td>\n",
       "      <td>NaN</td>\n",
       "      <td>NaN</td>\n",
       "    </tr>\n",
       "    <tr>\n",
       "      <th>Percentage Def</th>\n",
       "      <td>12.903226</td>\n",
       "      <td>13.636364</td>\n",
       "      <td>NaN</td>\n",
       "      <td>NaN</td>\n",
       "      <td>NaN</td>\n",
       "    </tr>\n",
       "    <tr>\n",
       "      <th>Percentage Insuff</th>\n",
       "      <td>74.193548</td>\n",
       "      <td>72.727273</td>\n",
       "      <td>NaN</td>\n",
       "      <td>NaN</td>\n",
       "      <td>NaN</td>\n",
       "    </tr>\n",
       "    <tr>\n",
       "      <th>Percentage Suff</th>\n",
       "      <td>12.903226</td>\n",
       "      <td>13.636364</td>\n",
       "      <td>NaN</td>\n",
       "      <td>NaN</td>\n",
       "      <td>NaN</td>\n",
       "    </tr>\n",
       "  </tbody>\n",
       "</table>\n",
       "</div>"
      ],
      "text/plain": [
       "Gender                Female       Male  Total Gender  Percentage Female  \\\n",
       "Deficient           4.000000   3.000000           7.0          57.142857   \n",
       "Insufficient       23.000000  16.000000          39.0          58.974359   \n",
       "Sufficient          4.000000   3.000000           7.0          57.142857   \n",
       "Total D            31.000000  22.000000           NaN                NaN   \n",
       "Percentage Def     12.903226  13.636364           NaN                NaN   \n",
       "Percentage Insuff  74.193548  72.727273           NaN                NaN   \n",
       "Percentage Suff    12.903226  13.636364           NaN                NaN   \n",
       "\n",
       "Gender             Percentage Male  \n",
       "Deficient                42.857143  \n",
       "Insufficient             41.025641  \n",
       "Sufficient               42.857143  \n",
       "Total D                        NaN  \n",
       "Percentage Def                 NaN  \n",
       "Percentage Insuff              NaN  \n",
       "Percentage Suff                NaN  "
      ]
     },
     "execution_count": 14,
     "metadata": {},
     "output_type": "execute_result"
    }
   ],
   "source": [
    "Total_D = [pivot1.iloc[0, :] + pivot1.iloc[1, :] + pivot1.iloc[2, :]]\n",
    "Total_D = pd.DataFrame(Total_D, index = ['Total D'])\n",
    "piv = pivot1.append(Total_D)\n",
    "Total_Gender = pivot1['Female'] + pivot1['Male']\n",
    "piv['Total Gender'] = Total_Gender\n",
    "Percentage_Def = [(piv.iloc[0, :]/piv.iloc[3, :])*100]\n",
    "Percentage_Insuff = [(piv.iloc[1, :]/piv.iloc[3, :])*100]\n",
    "Percentage_Suff = [(piv.iloc[2, :]/piv.iloc[3, :])*100]\n",
    "Percentage_Def = pd.DataFrame(Percentage_Def, index = ['Percentage Def'])\n",
    "Percentage_Insuff = pd.DataFrame(Percentage_Insuff, index = ['Percentage Insuff'])\n",
    "Percentage_Suff = pd.DataFrame(Percentage_Suff, index = ['Percentage Suff'])\n",
    "Percentage_R0 = (piv['Female']/piv['Total Gender'])*100\n",
    "Percentage_R1 = (piv['Male']/piv['Total Gender'])*100\n",
    "piv = piv.append(Percentage_Def)\n",
    "piv = piv.append(Percentage_Insuff)\n",
    "piv = piv.append(Percentage_Suff)\n",
    "piv['Percentage Female'] = Percentage_R0\n",
    "piv['Percentage Male'] = Percentage_R1\n",
    "piv"
   ]
  },
  {
   "cell_type": "markdown",
   "metadata": {},
   "source": [
    "### D vs Junk Food Consumption"
   ]
  },
  {
   "cell_type": "code",
   "execution_count": 15,
   "metadata": {},
   "outputs": [
    {
     "data": {
      "text/html": [
       "<div>\n",
       "<style scoped>\n",
       "    .dataframe tbody tr th:only-of-type {\n",
       "        vertical-align: middle;\n",
       "    }\n",
       "\n",
       "    .dataframe tbody tr th {\n",
       "        vertical-align: top;\n",
       "    }\n",
       "\n",
       "    .dataframe thead th {\n",
       "        text-align: right;\n",
       "    }\n",
       "</style>\n",
       "<table border=\"1\" class=\"dataframe\">\n",
       "  <thead>\n",
       "    <tr style=\"text-align: right;\">\n",
       "      <th>Q29</th>\n",
       "      <th>0</th>\n",
       "      <th>1</th>\n",
       "    </tr>\n",
       "    <tr>\n",
       "      <th>R_D</th>\n",
       "      <th></th>\n",
       "      <th></th>\n",
       "    </tr>\n",
       "  </thead>\n",
       "  <tbody>\n",
       "    <tr>\n",
       "      <th>Deficient</th>\n",
       "      <td>6</td>\n",
       "      <td>1</td>\n",
       "    </tr>\n",
       "    <tr>\n",
       "      <th>Insufficient</th>\n",
       "      <td>33</td>\n",
       "      <td>6</td>\n",
       "    </tr>\n",
       "    <tr>\n",
       "      <th>Sufficient</th>\n",
       "      <td>3</td>\n",
       "      <td>4</td>\n",
       "    </tr>\n",
       "  </tbody>\n",
       "</table>\n",
       "</div>"
      ],
      "text/plain": [
       "Q29            0  1\n",
       "R_D                \n",
       "Deficient      6  1\n",
       "Insufficient  33  6\n",
       "Sufficient     3  4"
      ]
     },
     "execution_count": 15,
     "metadata": {},
     "output_type": "execute_result"
    }
   ],
   "source": [
    "pivot2 = pd.pivot_table(D, values='Count', index=['R_D'], columns=['Q29'], aggfunc=np.sum)\n",
    "pivot2"
   ]
  },
  {
   "cell_type": "code",
   "execution_count": 16,
   "metadata": {},
   "outputs": [
    {
     "data": {
      "text/plain": [
       "(6.49735978307407, 0.038825427792138684, 2, array([[ 5.54716981,  1.45283019],\n",
       "        [30.90566038,  8.09433962],\n",
       "        [ 5.54716981,  1.45283019]]))"
      ]
     },
     "execution_count": 16,
     "metadata": {},
     "output_type": "execute_result"
    }
   ],
   "source": [
    "stat2 = stats.chi2_contingency(pivot2)\n",
    "stat2"
   ]
  },
  {
   "cell_type": "code",
   "execution_count": 17,
   "metadata": {},
   "outputs": [
    {
     "data": {
      "text/plain": [
       "<matplotlib.axes._subplots.AxesSubplot at 0x1cd5ec75860>"
      ]
     },
     "execution_count": 17,
     "metadata": {},
     "output_type": "execute_result"
    },
    {
     "data": {
      "image/png": "[encoded data removed]",
      "text/plain": [
       "<Figure size 432x288 with 1 Axes>"
      ]
     },
     "metadata": {},
     "output_type": "display_data"
    }
   ],
   "source": [
    "pivot2.plot(kind='bar')"
   ]
  },
  {
   "cell_type": "code",
   "execution_count": 18,
   "metadata": {},
   "outputs": [
    {
     "data": {
      "text/html": [
       "<div>\n",
       "<style scoped>\n",
       "    .dataframe tbody tr th:only-of-type {\n",
       "        vertical-align: middle;\n",
       "    }\n",
       "\n",
       "    .dataframe tbody tr th {\n",
       "        vertical-align: top;\n",
       "    }\n",
       "\n",
       "    .dataframe thead th {\n",
       "        text-align: right;\n",
       "    }\n",
       "</style>\n",
       "<table border=\"1\" class=\"dataframe\">\n",
       "  <thead>\n",
       "    <tr style=\"text-align: right;\">\n",
       "      <th>Q29</th>\n",
       "      <th>0</th>\n",
       "      <th>1</th>\n",
       "      <th>Total JFC</th>\n",
       "      <th>Percentage 0</th>\n",
       "      <th>Percentage 1</th>\n",
       "    </tr>\n",
       "  </thead>\n",
       "  <tbody>\n",
       "    <tr>\n",
       "      <th>Deficient</th>\n",
       "      <td>6.000000</td>\n",
       "      <td>1.000000</td>\n",
       "      <td>7.0</td>\n",
       "      <td>85.714286</td>\n",
       "      <td>14.285714</td>\n",
       "    </tr>\n",
       "    <tr>\n",
       "      <th>Insufficient</th>\n",
       "      <td>33.000000</td>\n",
       "      <td>6.000000</td>\n",
       "      <td>39.0</td>\n",
       "      <td>84.615385</td>\n",
       "      <td>15.384615</td>\n",
       "    </tr>\n",
       "    <tr>\n",
       "      <th>Sufficient</th>\n",
       "      <td>3.000000</td>\n",
       "      <td>4.000000</td>\n",
       "      <td>7.0</td>\n",
       "      <td>42.857143</td>\n",
       "      <td>57.142857</td>\n",
       "    </tr>\n",
       "    <tr>\n",
       "      <th>Total D</th>\n",
       "      <td>42.000000</td>\n",
       "      <td>11.000000</td>\n",
       "      <td>NaN</td>\n",
       "      <td>NaN</td>\n",
       "      <td>NaN</td>\n",
       "    </tr>\n",
       "    <tr>\n",
       "      <th>Percentage Def</th>\n",
       "      <td>14.285714</td>\n",
       "      <td>9.090909</td>\n",
       "      <td>NaN</td>\n",
       "      <td>NaN</td>\n",
       "      <td>NaN</td>\n",
       "    </tr>\n",
       "    <tr>\n",
       "      <th>Percentage Insuff</th>\n",
       "      <td>78.571429</td>\n",
       "      <td>54.545455</td>\n",
       "      <td>NaN</td>\n",
       "      <td>NaN</td>\n",
       "      <td>NaN</td>\n",
       "    </tr>\n",
       "    <tr>\n",
       "      <th>Percentage Suff</th>\n",
       "      <td>7.142857</td>\n",
       "      <td>36.363636</td>\n",
       "      <td>NaN</td>\n",
       "      <td>NaN</td>\n",
       "      <td>NaN</td>\n",
       "    </tr>\n",
       "  </tbody>\n",
       "</table>\n",
       "</div>"
      ],
      "text/plain": [
       "Q29                        0          1  Total JFC  Percentage 0  Percentage 1\n",
       "Deficient           6.000000   1.000000        7.0     85.714286     14.285714\n",
       "Insufficient       33.000000   6.000000       39.0     84.615385     15.384615\n",
       "Sufficient          3.000000   4.000000        7.0     42.857143     57.142857\n",
       "Total D            42.000000  11.000000        NaN           NaN           NaN\n",
       "Percentage Def     14.285714   9.090909        NaN           NaN           NaN\n",
       "Percentage Insuff  78.571429  54.545455        NaN           NaN           NaN\n",
       "Percentage Suff     7.142857  36.363636        NaN           NaN           NaN"
      ]
     },
     "execution_count": 18,
     "metadata": {},
     "output_type": "execute_result"
    }
   ],
   "source": [
    "Total_D = [pivot2.iloc[0, :] + pivot2.iloc[1, :] + pivot2.iloc[2, :]]\n",
    "Total_D = pd.DataFrame(Total_D, index = ['Total D'])\n",
    "piv = pivot2.append(Total_D)\n",
    "Total_JFC = pivot2.iloc[:, 0] + pivot2.iloc[:, 1]\n",
    "piv['Total JFC'] = Total_JFC\n",
    "Percentage_Def = [(piv.iloc[0, :]/piv.iloc[3, :])*100]\n",
    "Percentage_Insuff = [(piv.iloc[1, :]/piv.iloc[3, :])*100]\n",
    "Percentage_Suff = [(piv.iloc[2, :]/piv.iloc[3, :])*100]\n",
    "Percentage_Def = pd.DataFrame(Percentage_Def, index = ['Percentage Def'])\n",
    "Percentage_Insuff = pd.DataFrame(Percentage_Insuff, index = ['Percentage Insuff'])\n",
    "Percentage_Suff = pd.DataFrame(Percentage_Suff, index = ['Percentage Suff'])\n",
    "Percentage_R0 = (piv.iloc[:, 0]/piv['Total JFC'])*100\n",
    "Percentage_R1 = (piv.iloc[:, 1]/piv['Total JFC'])*100\n",
    "piv = piv.append(Percentage_Def)\n",
    "piv = piv.append(Percentage_Insuff)\n",
    "piv = piv.append(Percentage_Suff)\n",
    "piv['Percentage 0'] = Percentage_R0\n",
    "piv['Percentage 1'] = Percentage_R1\n",
    "piv"
   ]
  },
  {
   "cell_type": "markdown",
   "metadata": {},
   "source": [
    "### D vs Supplement Consumptions"
   ]
  },
  {
   "cell_type": "code",
   "execution_count": 19,
   "metadata": {},
   "outputs": [
    {
     "data": {
      "text/html": [
       "<div>\n",
       "<style scoped>\n",
       "    .dataframe tbody tr th:only-of-type {\n",
       "        vertical-align: middle;\n",
       "    }\n",
       "\n",
       "    .dataframe tbody tr th {\n",
       "        vertical-align: top;\n",
       "    }\n",
       "\n",
       "    .dataframe thead th {\n",
       "        text-align: right;\n",
       "    }\n",
       "</style>\n",
       "<table border=\"1\" class=\"dataframe\">\n",
       "  <thead>\n",
       "    <tr style=\"text-align: right;\">\n",
       "      <th>Q30</th>\n",
       "      <th>0</th>\n",
       "      <th>1</th>\n",
       "    </tr>\n",
       "    <tr>\n",
       "      <th>R_D</th>\n",
       "      <th></th>\n",
       "      <th></th>\n",
       "    </tr>\n",
       "  </thead>\n",
       "  <tbody>\n",
       "    <tr>\n",
       "      <th>Deficient</th>\n",
       "      <td>6</td>\n",
       "      <td>1</td>\n",
       "    </tr>\n",
       "    <tr>\n",
       "      <th>Insufficient</th>\n",
       "      <td>19</td>\n",
       "      <td>20</td>\n",
       "    </tr>\n",
       "    <tr>\n",
       "      <th>Sufficient</th>\n",
       "      <td>1</td>\n",
       "      <td>6</td>\n",
       "    </tr>\n",
       "  </tbody>\n",
       "</table>\n",
       "</div>"
      ],
      "text/plain": [
       "Q30            0   1\n",
       "R_D                 \n",
       "Deficient      6   1\n",
       "Insufficient  19  20\n",
       "Sufficient     1   6"
      ]
     },
     "execution_count": 19,
     "metadata": {},
     "output_type": "execute_result"
    }
   ],
   "source": [
    "pivot3 = pd.pivot_table(D, values='Count', index=['R_D'], columns=['Q30'], aggfunc=np.sum)\n",
    "pivot3"
   ]
  },
  {
   "cell_type": "code",
   "execution_count": 20,
   "metadata": {},
   "outputs": [
    {
     "data": {
      "text/plain": [
       "(7.152176408586665, 0.02798495584937314, 2, array([[ 3.43396226,  3.56603774],\n",
       "        [19.13207547, 19.86792453],\n",
       "        [ 3.43396226,  3.56603774]]))"
      ]
     },
     "execution_count": 20,
     "metadata": {},
     "output_type": "execute_result"
    }
   ],
   "source": [
    "stat3 = stats.chi2_contingency(pivot3)\n",
    "stat3"
   ]
  },
  {
   "cell_type": "code",
   "execution_count": 21,
   "metadata": {},
   "outputs": [
    {
     "data": {
      "text/plain": [
       "<matplotlib.axes._subplots.AxesSubplot at 0x1cd5fca85c0>"
      ]
     },
     "execution_count": 21,
     "metadata": {},
     "output_type": "execute_result"
    },
    {
     "data": {
      "image/png": "[encoded data removed]",
      "text/plain": [
       "<Figure size 432x288 with 1 Axes>"
      ]
     },
     "metadata": {},
     "output_type": "display_data"
    }
   ],
   "source": [
    "pivot3.plot(kind='bar')"
   ]
  },
  {
   "cell_type": "code",
   "execution_count": 22,
   "metadata": {},
   "outputs": [
    {
     "data": {
      "text/html": [
       "<div>\n",
       "<style scoped>\n",
       "    .dataframe tbody tr th:only-of-type {\n",
       "        vertical-align: middle;\n",
       "    }\n",
       "\n",
       "    .dataframe tbody tr th {\n",
       "        vertical-align: top;\n",
       "    }\n",
       "\n",
       "    .dataframe thead th {\n",
       "        text-align: right;\n",
       "    }\n",
       "</style>\n",
       "<table border=\"1\" class=\"dataframe\">\n",
       "  <thead>\n",
       "    <tr style=\"text-align: right;\">\n",
       "      <th>Q30</th>\n",
       "      <th>0</th>\n",
       "      <th>1</th>\n",
       "      <th>Total SC</th>\n",
       "      <th>Percentage 0</th>\n",
       "      <th>Percentage 1</th>\n",
       "    </tr>\n",
       "  </thead>\n",
       "  <tbody>\n",
       "    <tr>\n",
       "      <th>Deficient</th>\n",
       "      <td>6.000000</td>\n",
       "      <td>1.000000</td>\n",
       "      <td>7.0</td>\n",
       "      <td>85.714286</td>\n",
       "      <td>14.285714</td>\n",
       "    </tr>\n",
       "    <tr>\n",
       "      <th>Insufficient</th>\n",
       "      <td>19.000000</td>\n",
       "      <td>20.000000</td>\n",
       "      <td>39.0</td>\n",
       "      <td>48.717949</td>\n",
       "      <td>51.282051</td>\n",
       "    </tr>\n",
       "    <tr>\n",
       "      <th>Sufficient</th>\n",
       "      <td>1.000000</td>\n",
       "      <td>6.000000</td>\n",
       "      <td>7.0</td>\n",
       "      <td>14.285714</td>\n",
       "      <td>85.714286</td>\n",
       "    </tr>\n",
       "    <tr>\n",
       "      <th>Total D</th>\n",
       "      <td>26.000000</td>\n",
       "      <td>27.000000</td>\n",
       "      <td>NaN</td>\n",
       "      <td>NaN</td>\n",
       "      <td>NaN</td>\n",
       "    </tr>\n",
       "    <tr>\n",
       "      <th>Percentage Def</th>\n",
       "      <td>23.076923</td>\n",
       "      <td>3.703704</td>\n",
       "      <td>NaN</td>\n",
       "      <td>NaN</td>\n",
       "      <td>NaN</td>\n",
       "    </tr>\n",
       "    <tr>\n",
       "      <th>Percentage Insuff</th>\n",
       "      <td>73.076923</td>\n",
       "      <td>74.074074</td>\n",
       "      <td>NaN</td>\n",
       "      <td>NaN</td>\n",
       "      <td>NaN</td>\n",
       "    </tr>\n",
       "    <tr>\n",
       "      <th>Percentage Suff</th>\n",
       "      <td>3.846154</td>\n",
       "      <td>22.222222</td>\n",
       "      <td>NaN</td>\n",
       "      <td>NaN</td>\n",
       "      <td>NaN</td>\n",
       "    </tr>\n",
       "  </tbody>\n",
       "</table>\n",
       "</div>"
      ],
      "text/plain": [
       "Q30                        0          1  Total SC  Percentage 0  Percentage 1\n",
       "Deficient           6.000000   1.000000       7.0     85.714286     14.285714\n",
       "Insufficient       19.000000  20.000000      39.0     48.717949     51.282051\n",
       "Sufficient          1.000000   6.000000       7.0     14.285714     85.714286\n",
       "Total D            26.000000  27.000000       NaN           NaN           NaN\n",
       "Percentage Def     23.076923   3.703704       NaN           NaN           NaN\n",
       "Percentage Insuff  73.076923  74.074074       NaN           NaN           NaN\n",
       "Percentage Suff     3.846154  22.222222       NaN           NaN           NaN"
      ]
     },
     "execution_count": 22,
     "metadata": {},
     "output_type": "execute_result"
    }
   ],
   "source": [
    "Total_D = [pivot3.iloc[0, :] + pivot3.iloc[1, :] + pivot3.iloc[2, :]]\n",
    "Total_D = pd.DataFrame(Total_D, index = ['Total D'])\n",
    "piv = pivot3.append(Total_D)\n",
    "Total_SC = pivot3.iloc[:, 0] + pivot3.iloc[:, 1]\n",
    "piv['Total SC'] = Total_SC\n",
    "Percentage_Def = [(piv.iloc[0, :]/piv.iloc[3, :])*100]\n",
    "Percentage_Insuff = [(piv.iloc[1, :]/piv.iloc[3, :])*100]\n",
    "Percentage_Suff = [(piv.iloc[2, :]/piv.iloc[3, :])*100]\n",
    "Percentage_Def = pd.DataFrame(Percentage_Def, index = ['Percentage Def'])\n",
    "Percentage_Insuff = pd.DataFrame(Percentage_Insuff, index = ['Percentage Insuff'])\n",
    "Percentage_Suff = pd.DataFrame(Percentage_Suff, index = ['Percentage Suff'])\n",
    "Percentage_R0 = (piv.iloc[:, 0]/piv['Total SC'])*100\n",
    "Percentage_R1 = (piv.iloc[:, 1]/piv['Total SC'])*100\n",
    "piv = piv.append(Percentage_Def)\n",
    "piv = piv.append(Percentage_Insuff)\n",
    "piv = piv.append(Percentage_Suff)\n",
    "piv['Percentage 0'] = Percentage_R0\n",
    "piv['Percentage 1'] = Percentage_R1\n",
    "piv"
   ]
  },
  {
   "cell_type": "markdown",
   "metadata": {},
   "source": [
    "### D vs Pain"
   ]
  },
  {
   "cell_type": "code",
   "execution_count": 23,
   "metadata": {},
   "outputs": [
    {
     "data": {
      "text/html": [
       "<div>\n",
       "<style scoped>\n",
       "    .dataframe tbody tr th:only-of-type {\n",
       "        vertical-align: middle;\n",
       "    }\n",
       "\n",
       "    .dataframe tbody tr th {\n",
       "        vertical-align: top;\n",
       "    }\n",
       "\n",
       "    .dataframe thead th {\n",
       "        text-align: right;\n",
       "    }\n",
       "</style>\n",
       "<table border=\"1\" class=\"dataframe\">\n",
       "  <thead>\n",
       "    <tr style=\"text-align: right;\">\n",
       "      <th>Q31</th>\n",
       "      <th>0</th>\n",
       "      <th>1</th>\n",
       "    </tr>\n",
       "    <tr>\n",
       "      <th>R_D</th>\n",
       "      <th></th>\n",
       "      <th></th>\n",
       "    </tr>\n",
       "  </thead>\n",
       "  <tbody>\n",
       "    <tr>\n",
       "      <th>Deficient</th>\n",
       "      <td>3</td>\n",
       "      <td>4</td>\n",
       "    </tr>\n",
       "    <tr>\n",
       "      <th>Insufficient</th>\n",
       "      <td>17</td>\n",
       "      <td>22</td>\n",
       "    </tr>\n",
       "    <tr>\n",
       "      <th>Sufficient</th>\n",
       "      <td>4</td>\n",
       "      <td>3</td>\n",
       "    </tr>\n",
       "  </tbody>\n",
       "</table>\n",
       "</div>"
      ],
      "text/plain": [
       "Q31            0   1\n",
       "R_D                 \n",
       "Deficient      3   4\n",
       "Insufficient  17  22\n",
       "Sufficient     4   3"
      ]
     },
     "execution_count": 23,
     "metadata": {},
     "output_type": "execute_result"
    }
   ],
   "source": [
    "pivot4 = pd.pivot_table(D, values='Count', index=['R_D'], columns=['Q31'], aggfunc=np.sum)\n",
    "pivot4"
   ]
  },
  {
   "cell_type": "code",
   "execution_count": 24,
   "metadata": {},
   "outputs": [
    {
     "data": {
      "text/plain": [
       "(0.4591280367142437, 0.7948800800921213, 2, array([[ 3.16981132,  3.83018868],\n",
       "        [17.66037736, 21.33962264],\n",
       "        [ 3.16981132,  3.83018868]]))"
      ]
     },
     "execution_count": 24,
     "metadata": {},
     "output_type": "execute_result"
    }
   ],
   "source": [
    "stat4 = stats.chi2_contingency(pivot4)\n",
    "stat4"
   ]
  },
  {
   "cell_type": "code",
   "execution_count": 25,
   "metadata": {},
   "outputs": [
    {
     "data": {
      "text/plain": [
       "<matplotlib.axes._subplots.AxesSubplot at 0x1cd5fd14208>"
      ]
     },
     "execution_count": 25,
     "metadata": {},
     "output_type": "execute_result"
    },
    {
     "data": {
      "image/png": "[encoded data removed]",
      "text/plain": [
       "<Figure size 432x288 with 1 Axes>"
      ]
     },
     "metadata": {},
     "output_type": "display_data"
    }
   ],
   "source": [
    "pivot4.plot(kind='bar')"
   ]
  },
  {
   "cell_type": "code",
   "execution_count": 26,
   "metadata": {},
   "outputs": [
    {
     "data": {
      "text/html": [
       "<div>\n",
       "<style scoped>\n",
       "    .dataframe tbody tr th:only-of-type {\n",
       "        vertical-align: middle;\n",
       "    }\n",
       "\n",
       "    .dataframe tbody tr th {\n",
       "        vertical-align: top;\n",
       "    }\n",
       "\n",
       "    .dataframe thead th {\n",
       "        text-align: right;\n",
       "    }\n",
       "</style>\n",
       "<table border=\"1\" class=\"dataframe\">\n",
       "  <thead>\n",
       "    <tr style=\"text-align: right;\">\n",
       "      <th>Q31</th>\n",
       "      <th>0</th>\n",
       "      <th>1</th>\n",
       "      <th>Total Pain</th>\n",
       "      <th>Percentage 0</th>\n",
       "      <th>Percentage 1</th>\n",
       "    </tr>\n",
       "  </thead>\n",
       "  <tbody>\n",
       "    <tr>\n",
       "      <th>Deficient</th>\n",
       "      <td>3.000000</td>\n",
       "      <td>4.000000</td>\n",
       "      <td>7.0</td>\n",
       "      <td>42.857143</td>\n",
       "      <td>57.142857</td>\n",
       "    </tr>\n",
       "    <tr>\n",
       "      <th>Insufficient</th>\n",
       "      <td>17.000000</td>\n",
       "      <td>22.000000</td>\n",
       "      <td>39.0</td>\n",
       "      <td>43.589744</td>\n",
       "      <td>56.410256</td>\n",
       "    </tr>\n",
       "    <tr>\n",
       "      <th>Sufficient</th>\n",
       "      <td>4.000000</td>\n",
       "      <td>3.000000</td>\n",
       "      <td>7.0</td>\n",
       "      <td>57.142857</td>\n",
       "      <td>42.857143</td>\n",
       "    </tr>\n",
       "    <tr>\n",
       "      <th>Total D</th>\n",
       "      <td>24.000000</td>\n",
       "      <td>29.000000</td>\n",
       "      <td>NaN</td>\n",
       "      <td>NaN</td>\n",
       "      <td>NaN</td>\n",
       "    </tr>\n",
       "    <tr>\n",
       "      <th>Percentage Def</th>\n",
       "      <td>12.500000</td>\n",
       "      <td>13.793103</td>\n",
       "      <td>NaN</td>\n",
       "      <td>NaN</td>\n",
       "      <td>NaN</td>\n",
       "    </tr>\n",
       "    <tr>\n",
       "      <th>Percentage Insuff</th>\n",
       "      <td>70.833333</td>\n",
       "      <td>75.862069</td>\n",
       "      <td>NaN</td>\n",
       "      <td>NaN</td>\n",
       "      <td>NaN</td>\n",
       "    </tr>\n",
       "    <tr>\n",
       "      <th>Percentage Suff</th>\n",
       "      <td>16.666667</td>\n",
       "      <td>10.344828</td>\n",
       "      <td>NaN</td>\n",
       "      <td>NaN</td>\n",
       "      <td>NaN</td>\n",
       "    </tr>\n",
       "  </tbody>\n",
       "</table>\n",
       "</div>"
      ],
      "text/plain": [
       "Q31                        0          1  Total Pain  Percentage 0  \\\n",
       "Deficient           3.000000   4.000000         7.0     42.857143   \n",
       "Insufficient       17.000000  22.000000        39.0     43.589744   \n",
       "Sufficient          4.000000   3.000000         7.0     57.142857   \n",
       "Total D            24.000000  29.000000         NaN           NaN   \n",
       "Percentage Def     12.500000  13.793103         NaN           NaN   \n",
       "Percentage Insuff  70.833333  75.862069         NaN           NaN   \n",
       "Percentage Suff    16.666667  10.344828         NaN           NaN   \n",
       "\n",
       "Q31                Percentage 1  \n",
       "Deficient             57.142857  \n",
       "Insufficient          56.410256  \n",
       "Sufficient            42.857143  \n",
       "Total D                     NaN  \n",
       "Percentage Def              NaN  \n",
       "Percentage Insuff           NaN  \n",
       "Percentage Suff             NaN  "
      ]
     },
     "execution_count": 26,
     "metadata": {},
     "output_type": "execute_result"
    }
   ],
   "source": [
    "Total_D = [pivot4.iloc[0, :] + pivot4.iloc[1, :] + pivot4.iloc[2, :]]\n",
    "Total_D = pd.DataFrame(Total_D, index = ['Total D'])\n",
    "piv = pivot4.append(Total_D)\n",
    "Total_Pain = pivot4.iloc[:, 0] + pivot4.iloc[:, 1]\n",
    "piv['Total Pain'] = Total_Pain\n",
    "Percentage_Def = [(piv.iloc[0, :]/piv.iloc[3, :])*100]\n",
    "Percentage_Insuff = [(piv.iloc[1, :]/piv.iloc[3, :])*100]\n",
    "Percentage_Suff = [(piv.iloc[2, :]/piv.iloc[3, :])*100]\n",
    "Percentage_Def = pd.DataFrame(Percentage_Def, index = ['Percentage Def'])\n",
    "Percentage_Insuff = pd.DataFrame(Percentage_Insuff, index = ['Percentage Insuff'])\n",
    "Percentage_Suff = pd.DataFrame(Percentage_Suff, index = ['Percentage Suff'])\n",
    "Percentage_R0 = (piv.iloc[:, 0]/piv['Total Pain'])*100\n",
    "Percentage_R1 = (piv.iloc[:, 1]/piv['Total Pain'])*100\n",
    "piv = piv.append(Percentage_Def)\n",
    "piv = piv.append(Percentage_Insuff)\n",
    "piv = piv.append(Percentage_Suff)\n",
    "piv['Percentage 0'] = Percentage_R0\n",
    "piv['Percentage 1'] = Percentage_R1\n",
    "piv"
   ]
  },
  {
   "cell_type": "markdown",
   "metadata": {},
   "source": [
    "### D vs RO Water Consumption"
   ]
  },
  {
   "cell_type": "code",
   "execution_count": 27,
   "metadata": {},
   "outputs": [
    {
     "data": {
      "text/html": [
       "<div>\n",
       "<style scoped>\n",
       "    .dataframe tbody tr th:only-of-type {\n",
       "        vertical-align: middle;\n",
       "    }\n",
       "\n",
       "    .dataframe tbody tr th {\n",
       "        vertical-align: top;\n",
       "    }\n",
       "\n",
       "    .dataframe thead th {\n",
       "        text-align: right;\n",
       "    }\n",
       "</style>\n",
       "<table border=\"1\" class=\"dataframe\">\n",
       "  <thead>\n",
       "    <tr style=\"text-align: right;\">\n",
       "      <th>Q34</th>\n",
       "      <th>0</th>\n",
       "      <th>1</th>\n",
       "    </tr>\n",
       "    <tr>\n",
       "      <th>R_D</th>\n",
       "      <th></th>\n",
       "      <th></th>\n",
       "    </tr>\n",
       "  </thead>\n",
       "  <tbody>\n",
       "    <tr>\n",
       "      <th>Deficient</th>\n",
       "      <td>1</td>\n",
       "      <td>6</td>\n",
       "    </tr>\n",
       "    <tr>\n",
       "      <th>Insufficient</th>\n",
       "      <td>16</td>\n",
       "      <td>23</td>\n",
       "    </tr>\n",
       "    <tr>\n",
       "      <th>Sufficient</th>\n",
       "      <td>2</td>\n",
       "      <td>5</td>\n",
       "    </tr>\n",
       "  </tbody>\n",
       "</table>\n",
       "</div>"
      ],
      "text/plain": [
       "Q34            0   1\n",
       "R_D                 \n",
       "Deficient      1   6\n",
       "Insufficient  16  23\n",
       "Sufficient     2   5"
      ]
     },
     "execution_count": 27,
     "metadata": {},
     "output_type": "execute_result"
    }
   ],
   "source": [
    "pivot5 = pd.pivot_table(D, values='Count', index=['R_D'], columns=['Q34'], aggfunc=np.sum)\n",
    "pivot5"
   ]
  },
  {
   "cell_type": "code",
   "execution_count": 28,
   "metadata": {},
   "outputs": [
    {
     "data": {
      "text/plain": [
       "(2.0309484117533647, 0.3622306172110369, 2, array([[ 2.50943396,  4.49056604],\n",
       "        [13.98113208, 25.01886792],\n",
       "        [ 2.50943396,  4.49056604]]))"
      ]
     },
     "execution_count": 28,
     "metadata": {},
     "output_type": "execute_result"
    }
   ],
   "source": [
    "stat5 = stats.chi2_contingency(pivot5)\n",
    "stat5"
   ]
  },
  {
   "cell_type": "code",
   "execution_count": 29,
   "metadata": {},
   "outputs": [
    {
     "data": {
      "text/plain": [
       "<matplotlib.axes._subplots.AxesSubplot at 0x1cd5fd80ac8>"
      ]
     },
     "execution_count": 29,
     "metadata": {},
     "output_type": "execute_result"
    },
    {
     "data": {
      "image/png": "[encoded data removed]",
      "text/plain": [
       "<Figure size 432x288 with 1 Axes>"
      ]
     },
     "metadata": {},
     "output_type": "display_data"
    }
   ],
   "source": [
    "pivot5.plot(kind='bar')"
   ]
  },
  {
   "cell_type": "code",
   "execution_count": 30,
   "metadata": {},
   "outputs": [
    {
     "data": {
      "text/html": [
       "<div>\n",
       "<style scoped>\n",
       "    .dataframe tbody tr th:only-of-type {\n",
       "        vertical-align: middle;\n",
       "    }\n",
       "\n",
       "    .dataframe tbody tr th {\n",
       "        vertical-align: top;\n",
       "    }\n",
       "\n",
       "    .dataframe thead th {\n",
       "        text-align: right;\n",
       "    }\n",
       "</style>\n",
       "<table border=\"1\" class=\"dataframe\">\n",
       "  <thead>\n",
       "    <tr style=\"text-align: right;\">\n",
       "      <th>Q34</th>\n",
       "      <th>0</th>\n",
       "      <th>1</th>\n",
       "      <th>Total RO</th>\n",
       "      <th>Percentage 0</th>\n",
       "      <th>Percentage 1</th>\n",
       "    </tr>\n",
       "  </thead>\n",
       "  <tbody>\n",
       "    <tr>\n",
       "      <th>Deficient</th>\n",
       "      <td>1.000000</td>\n",
       "      <td>6.000000</td>\n",
       "      <td>7.0</td>\n",
       "      <td>14.285714</td>\n",
       "      <td>85.714286</td>\n",
       "    </tr>\n",
       "    <tr>\n",
       "      <th>Insufficient</th>\n",
       "      <td>16.000000</td>\n",
       "      <td>23.000000</td>\n",
       "      <td>39.0</td>\n",
       "      <td>41.025641</td>\n",
       "      <td>58.974359</td>\n",
       "    </tr>\n",
       "    <tr>\n",
       "      <th>Sufficient</th>\n",
       "      <td>2.000000</td>\n",
       "      <td>5.000000</td>\n",
       "      <td>7.0</td>\n",
       "      <td>28.571429</td>\n",
       "      <td>71.428571</td>\n",
       "    </tr>\n",
       "    <tr>\n",
       "      <th>Total D</th>\n",
       "      <td>19.000000</td>\n",
       "      <td>34.000000</td>\n",
       "      <td>NaN</td>\n",
       "      <td>NaN</td>\n",
       "      <td>NaN</td>\n",
       "    </tr>\n",
       "    <tr>\n",
       "      <th>Percentage Def</th>\n",
       "      <td>5.263158</td>\n",
       "      <td>17.647059</td>\n",
       "      <td>NaN</td>\n",
       "      <td>NaN</td>\n",
       "      <td>NaN</td>\n",
       "    </tr>\n",
       "    <tr>\n",
       "      <th>Percentage Insuff</th>\n",
       "      <td>84.210526</td>\n",
       "      <td>67.647059</td>\n",
       "      <td>NaN</td>\n",
       "      <td>NaN</td>\n",
       "      <td>NaN</td>\n",
       "    </tr>\n",
       "    <tr>\n",
       "      <th>Percentage Suff</th>\n",
       "      <td>10.526316</td>\n",
       "      <td>14.705882</td>\n",
       "      <td>NaN</td>\n",
       "      <td>NaN</td>\n",
       "      <td>NaN</td>\n",
       "    </tr>\n",
       "  </tbody>\n",
       "</table>\n",
       "</div>"
      ],
      "text/plain": [
       "Q34                        0          1  Total RO  Percentage 0  Percentage 1\n",
       "Deficient           1.000000   6.000000       7.0     14.285714     85.714286\n",
       "Insufficient       16.000000  23.000000      39.0     41.025641     58.974359\n",
       "Sufficient          2.000000   5.000000       7.0     28.571429     71.428571\n",
       "Total D            19.000000  34.000000       NaN           NaN           NaN\n",
       "Percentage Def      5.263158  17.647059       NaN           NaN           NaN\n",
       "Percentage Insuff  84.210526  67.647059       NaN           NaN           NaN\n",
       "Percentage Suff    10.526316  14.705882       NaN           NaN           NaN"
      ]
     },
     "execution_count": 30,
     "metadata": {},
     "output_type": "execute_result"
    }
   ],
   "source": [
    "Total_D = [pivot5.iloc[0, :] + pivot5.iloc[1, :] + pivot5.iloc[2, :]]\n",
    "Total_D = pd.DataFrame(Total_D, index = ['Total D'])\n",
    "piv = pivot5.append(Total_D)\n",
    "Total_RO = pivot5.iloc[:, 0] + pivot5.iloc[:, 1]\n",
    "piv['Total RO'] = Total_RO\n",
    "Percentage_Def = [(piv.iloc[0, :]/piv.iloc[3, :])*100]\n",
    "Percentage_Insuff = [(piv.iloc[1, :]/piv.iloc[3, :])*100]\n",
    "Percentage_Suff = [(piv.iloc[2, :]/piv.iloc[3, :])*100]\n",
    "Percentage_Def = pd.DataFrame(Percentage_Def, index = ['Percentage Def'])\n",
    "Percentage_Insuff = pd.DataFrame(Percentage_Insuff, index = ['Percentage Insuff'])\n",
    "Percentage_Suff = pd.DataFrame(Percentage_Suff, index = ['Percentage Suff'])\n",
    "Percentage_R0 = (piv.iloc[:, 0]/piv['Total RO'])*100\n",
    "Percentage_R1 = (piv.iloc[:, 1]/piv['Total RO'])*100\n",
    "piv = piv.append(Percentage_Def)\n",
    "piv = piv.append(Percentage_Insuff)\n",
    "piv = piv.append(Percentage_Suff)\n",
    "piv['Percentage 0'] = Percentage_R0\n",
    "piv['Percentage 1'] = Percentage_R1\n",
    "piv"
   ]
  },
  {
   "cell_type": "markdown",
   "metadata": {},
   "source": [
    "### D vs BMD"
   ]
  },
  {
   "cell_type": "code",
   "execution_count": 31,
   "metadata": {},
   "outputs": [
    {
     "data": {
      "text/html": [
       "<div>\n",
       "<style scoped>\n",
       "    .dataframe tbody tr th:only-of-type {\n",
       "        vertical-align: middle;\n",
       "    }\n",
       "\n",
       "    .dataframe tbody tr th {\n",
       "        vertical-align: top;\n",
       "    }\n",
       "\n",
       "    .dataframe thead th {\n",
       "        text-align: right;\n",
       "    }\n",
       "</style>\n",
       "<table border=\"1\" class=\"dataframe\">\n",
       "  <thead>\n",
       "    <tr style=\"text-align: right;\">\n",
       "      <th>R_BMD</th>\n",
       "      <th>Normal</th>\n",
       "      <th>Osteopenia</th>\n",
       "      <th>Osteoporotic</th>\n",
       "    </tr>\n",
       "    <tr>\n",
       "      <th>R_D</th>\n",
       "      <th></th>\n",
       "      <th></th>\n",
       "      <th></th>\n",
       "    </tr>\n",
       "  </thead>\n",
       "  <tbody>\n",
       "    <tr>\n",
       "      <th>Deficient</th>\n",
       "      <td>0.0</td>\n",
       "      <td>1.0</td>\n",
       "      <td>0.0</td>\n",
       "    </tr>\n",
       "    <tr>\n",
       "      <th>Insufficient</th>\n",
       "      <td>9.0</td>\n",
       "      <td>5.0</td>\n",
       "      <td>1.0</td>\n",
       "    </tr>\n",
       "    <tr>\n",
       "      <th>Sufficient</th>\n",
       "      <td>5.0</td>\n",
       "      <td>2.0</td>\n",
       "      <td>0.0</td>\n",
       "    </tr>\n",
       "  </tbody>\n",
       "</table>\n",
       "</div>"
      ],
      "text/plain": [
       "R_BMD         Normal  Osteopenia  Osteoporotic\n",
       "R_D                                           \n",
       "Deficient        0.0         1.0           0.0\n",
       "Insufficient     9.0         5.0           1.0\n",
       "Sufficient       5.0         2.0           0.0"
      ]
     },
     "execution_count": 31,
     "metadata": {},
     "output_type": "execute_result"
    }
   ],
   "source": [
    "pivot6 = pd.pivot_table(D, values='Count', index=['R_D'], columns=['R_BMD'], aggfunc=np.sum)\n",
    "pivot6.fillna(0, inplace = True)\n",
    "pivot6"
   ]
  },
  {
   "cell_type": "code",
   "execution_count": 32,
   "metadata": {},
   "outputs": [
    {
     "data": {
      "text/plain": [
       "(2.581632653061224,\n",
       " 0.6300802429037637,\n",
       " 4,\n",
       " array([[0.60869565, 0.34782609, 0.04347826],\n",
       "        [9.13043478, 5.2173913 , 0.65217391],\n",
       "        [4.26086957, 2.43478261, 0.30434783]]))"
      ]
     },
     "execution_count": 32,
     "metadata": {},
     "output_type": "execute_result"
    }
   ],
   "source": [
    "stat6 = stats.chi2_contingency(pivot6)\n",
    "stat6"
   ]
  },
  {
   "cell_type": "code",
   "execution_count": 33,
   "metadata": {},
   "outputs": [
    {
     "data": {
      "text/plain": [
       "<matplotlib.axes._subplots.AxesSubplot at 0x1cd5fdf55c0>"
      ]
     },
     "execution_count": 33,
     "metadata": {},
     "output_type": "execute_result"
    },
    {
     "data": {
      "image/png": "[encoded data removed]",
      "text/plain": [
       "<Figure size 432x288 with 1 Axes>"
      ]
     },
     "metadata": {},
     "output_type": "display_data"
    }
   ],
   "source": [
    "pivot6.plot(kind='bar')"
   ]
  },
  {
   "cell_type": "code",
   "execution_count": 34,
   "metadata": {},
   "outputs": [
    {
     "data": {
      "text/html": [
       "<div>\n",
       "<style scoped>\n",
       "    .dataframe tbody tr th:only-of-type {\n",
       "        vertical-align: middle;\n",
       "    }\n",
       "\n",
       "    .dataframe tbody tr th {\n",
       "        vertical-align: top;\n",
       "    }\n",
       "\n",
       "    .dataframe thead th {\n",
       "        text-align: right;\n",
       "    }\n",
       "</style>\n",
       "<table border=\"1\" class=\"dataframe\">\n",
       "  <thead>\n",
       "    <tr style=\"text-align: right;\">\n",
       "      <th>R_BMD</th>\n",
       "      <th>Normal</th>\n",
       "      <th>Osteopenia</th>\n",
       "      <th>Osteoporotic</th>\n",
       "      <th>Total BMD</th>\n",
       "      <th>Percentage Normal</th>\n",
       "      <th>Percentage Osteopenia</th>\n",
       "      <th>Percentage Osteoporotic</th>\n",
       "    </tr>\n",
       "  </thead>\n",
       "  <tbody>\n",
       "    <tr>\n",
       "      <th>Deficient</th>\n",
       "      <td>0.000000</td>\n",
       "      <td>1.0</td>\n",
       "      <td>0.0</td>\n",
       "      <td>1.0</td>\n",
       "      <td>0.000000</td>\n",
       "      <td>100.000000</td>\n",
       "      <td>0.000000</td>\n",
       "    </tr>\n",
       "    <tr>\n",
       "      <th>Insufficient</th>\n",
       "      <td>9.000000</td>\n",
       "      <td>5.0</td>\n",
       "      <td>1.0</td>\n",
       "      <td>15.0</td>\n",
       "      <td>60.000000</td>\n",
       "      <td>33.333333</td>\n",
       "      <td>6.666667</td>\n",
       "    </tr>\n",
       "    <tr>\n",
       "      <th>Sufficient</th>\n",
       "      <td>5.000000</td>\n",
       "      <td>2.0</td>\n",
       "      <td>0.0</td>\n",
       "      <td>7.0</td>\n",
       "      <td>71.428571</td>\n",
       "      <td>28.571429</td>\n",
       "      <td>0.000000</td>\n",
       "    </tr>\n",
       "    <tr>\n",
       "      <th>Total D</th>\n",
       "      <td>14.000000</td>\n",
       "      <td>8.0</td>\n",
       "      <td>1.0</td>\n",
       "      <td>NaN</td>\n",
       "      <td>NaN</td>\n",
       "      <td>NaN</td>\n",
       "      <td>NaN</td>\n",
       "    </tr>\n",
       "    <tr>\n",
       "      <th>Percentage Def</th>\n",
       "      <td>0.000000</td>\n",
       "      <td>12.5</td>\n",
       "      <td>0.0</td>\n",
       "      <td>NaN</td>\n",
       "      <td>NaN</td>\n",
       "      <td>NaN</td>\n",
       "      <td>NaN</td>\n",
       "    </tr>\n",
       "    <tr>\n",
       "      <th>Percentage Insuff</th>\n",
       "      <td>64.285714</td>\n",
       "      <td>62.5</td>\n",
       "      <td>100.0</td>\n",
       "      <td>NaN</td>\n",
       "      <td>NaN</td>\n",
       "      <td>NaN</td>\n",
       "      <td>NaN</td>\n",
       "    </tr>\n",
       "    <tr>\n",
       "      <th>Percentage Suff</th>\n",
       "      <td>35.714286</td>\n",
       "      <td>25.0</td>\n",
       "      <td>0.0</td>\n",
       "      <td>NaN</td>\n",
       "      <td>NaN</td>\n",
       "      <td>NaN</td>\n",
       "      <td>NaN</td>\n",
       "    </tr>\n",
       "  </tbody>\n",
       "</table>\n",
       "</div>"
      ],
      "text/plain": [
       "R_BMD                 Normal  Osteopenia  Osteoporotic  Total BMD  \\\n",
       "Deficient           0.000000         1.0           0.0        1.0   \n",
       "Insufficient        9.000000         5.0           1.0       15.0   \n",
       "Sufficient          5.000000         2.0           0.0        7.0   \n",
       "Total D            14.000000         8.0           1.0        NaN   \n",
       "Percentage Def      0.000000        12.5           0.0        NaN   \n",
       "Percentage Insuff  64.285714        62.5         100.0        NaN   \n",
       "Percentage Suff    35.714286        25.0           0.0        NaN   \n",
       "\n",
       "R_BMD              Percentage Normal  Percentage Osteopenia  \\\n",
       "Deficient                   0.000000             100.000000   \n",
       "Insufficient               60.000000              33.333333   \n",
       "Sufficient                 71.428571              28.571429   \n",
       "Total D                          NaN                    NaN   \n",
       "Percentage Def                   NaN                    NaN   \n",
       "Percentage Insuff                NaN                    NaN   \n",
       "Percentage Suff                  NaN                    NaN   \n",
       "\n",
       "R_BMD              Percentage Osteoporotic  \n",
       "Deficient                         0.000000  \n",
       "Insufficient                      6.666667  \n",
       "Sufficient                        0.000000  \n",
       "Total D                                NaN  \n",
       "Percentage Def                         NaN  \n",
       "Percentage Insuff                      NaN  \n",
       "Percentage Suff                        NaN  "
      ]
     },
     "execution_count": 34,
     "metadata": {},
     "output_type": "execute_result"
    }
   ],
   "source": [
    "Total_D = [pivot6.iloc[0, :] + pivot6.iloc[1, :] + pivot6.iloc[2, :]]\n",
    "Total_D = pd.DataFrame(Total_D, index = ['Total D'])\n",
    "piv = pivot6.append(Total_D)\n",
    "Total_BMD = pivot6['Normal'] + pivot6['Osteopenia'] + pivot6['Osteoporotic']\n",
    "piv['Total BMD'] = Total_BMD\n",
    "Percentage_Def = [(piv.iloc[0, :]/piv.iloc[3, :])*100]\n",
    "Percentage_Insuff = [(piv.iloc[1, :]/piv.iloc[3, :])*100]\n",
    "Percentage_Suff = [(piv.iloc[2, :]/piv.iloc[3, :])*100]\n",
    "Percentage_Def = pd.DataFrame(Percentage_Def, index = ['Percentage Def'])\n",
    "Percentage_Insuff = pd.DataFrame(Percentage_Insuff, index = ['Percentage Insuff'])\n",
    "Percentage_Suff = pd.DataFrame(Percentage_Suff, index = ['Percentage Suff'])\n",
    "Percentage_R1 = (piv['Normal']/piv['Total BMD'])*100\n",
    "Percentage_R2 = (piv['Osteopenia']/piv['Total BMD'])*100\n",
    "Percentage_R3 = (piv['Osteoporotic']/piv['Total BMD'])*100\n",
    "piv = piv.append(Percentage_Def)\n",
    "piv = piv.append(Percentage_Insuff)\n",
    "piv = piv.append(Percentage_Suff)\n",
    "piv['Percentage Normal'] = Percentage_R1\n",
    "piv['Percentage Osteopenia'] = Percentage_R2\n",
    "piv['Percentage Osteoporotic'] = Percentage_R3\n",
    "piv"
   ]
  },
  {
   "cell_type": "code",
   "execution_count": null,
   "metadata": {},
   "outputs": [],
   "source": []
  }
 ],
 "metadata": {
  "kernelspec": {
   "display_name": "Python 3",
   "language": "python",
   "name": "python3"
  },
  "language_info": {
   "codemirror_mode": {
    "name": "ipython",
    "version": 3
   },
   "file_extension": ".py",
   "mimetype": "text/x-python",
   "name": "python",
   "nbconvert_exporter": "python",
   "pygments_lexer": "ipython3",
   "version": "3.6.5"
  }
 },
 "nbformat": 4,
 "nbformat_minor": 2
}
