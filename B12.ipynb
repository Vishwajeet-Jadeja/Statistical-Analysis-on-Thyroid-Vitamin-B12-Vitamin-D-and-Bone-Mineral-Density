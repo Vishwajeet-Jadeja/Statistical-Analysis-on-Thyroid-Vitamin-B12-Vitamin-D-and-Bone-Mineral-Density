{
 "cells": [
  {
   "cell_type": "markdown",
   "metadata": {},
   "source": [
    "# Vitamin B12 Analysis"
   ]
  },
  {
   "cell_type": "code",
   "execution_count": 1,
   "metadata": {},
   "outputs": [],
   "source": [
    "import MySQLdb\n",
    "import pandas as pd\n",
    "import numpy as np\n",
    "import matplotlib.pyplot as plt\n",
    "from scipy import stats"
   ]
  },
  {
   "cell_type": "code",
   "execution_count": 2,
   "metadata": {},
   "outputs": [],
   "source": [
    "conn = MySQLdb.connect(host = 'localhost', user = 'root', passwd = 'mysql')"
   ]
  },
  {
   "cell_type": "code",
   "execution_count": 3,
   "metadata": {},
   "outputs": [],
   "source": [
    "cursor = conn.cursor()"
   ]
  },
  {
   "cell_type": "code",
   "execution_count": 4,
   "metadata": {},
   "outputs": [
    {
     "data": {
      "text/plain": [
       "0"
      ]
     },
     "execution_count": 4,
     "metadata": {},
     "output_type": "execute_result"
    }
   ],
   "source": [
    "cursor.execute('use health_camp')"
   ]
  },
  {
   "cell_type": "code",
   "execution_count": 5,
   "metadata": {},
   "outputs": [
    {
     "data": {
      "text/html": [
       "<div>\n",
       "<style scoped>\n",
       "    .dataframe tbody tr th:only-of-type {\n",
       "        vertical-align: middle;\n",
       "    }\n",
       "\n",
       "    .dataframe tbody tr th {\n",
       "        vertical-align: top;\n",
       "    }\n",
       "\n",
       "    .dataframe thead th {\n",
       "        text-align: right;\n",
       "    }\n",
       "</style>\n",
       "<table border=\"1\" class=\"dataframe\">\n",
       "  <thead>\n",
       "    <tr style=\"text-align: right;\">\n",
       "      <th></th>\n",
       "      <th>Age</th>\n",
       "      <th>Eating Habits</th>\n",
       "      <th>Gender</th>\n",
       "      <th>Q29</th>\n",
       "      <th>Q30</th>\n",
       "      <th>Q31</th>\n",
       "      <th>Q32</th>\n",
       "      <th>Q33</th>\n",
       "      <th>Q34</th>\n",
       "      <th>Q35</th>\n",
       "      <th>Q36</th>\n",
       "      <th>Q37</th>\n",
       "      <th>Q38</th>\n",
       "      <th>R_TSH</th>\n",
       "      <th>R_B12</th>\n",
       "    </tr>\n",
       "  </thead>\n",
       "  <tbody>\n",
       "    <tr>\n",
       "      <th>0</th>\n",
       "      <td>38</td>\n",
       "      <td>Vegetarian</td>\n",
       "      <td>Female</td>\n",
       "      <td>1</td>\n",
       "      <td>0.0</td>\n",
       "      <td>1</td>\n",
       "      <td>0</td>\n",
       "      <td>Household</td>\n",
       "      <td>0</td>\n",
       "      <td>1.0</td>\n",
       "      <td>0.0</td>\n",
       "      <td>0.0</td>\n",
       "      <td>0</td>\n",
       "      <td>0</td>\n",
       "      <td>0</td>\n",
       "    </tr>\n",
       "    <tr>\n",
       "      <th>1</th>\n",
       "      <td>38</td>\n",
       "      <td>Vegetarian</td>\n",
       "      <td>Male</td>\n",
       "      <td>1</td>\n",
       "      <td>0.0</td>\n",
       "      <td>0</td>\n",
       "      <td>0</td>\n",
       "      <td>Office</td>\n",
       "      <td>0</td>\n",
       "      <td>0.0</td>\n",
       "      <td>0.0</td>\n",
       "      <td>1.0</td>\n",
       "      <td>0</td>\n",
       "      <td>0</td>\n",
       "      <td>1</td>\n",
       "    </tr>\n",
       "    <tr>\n",
       "      <th>2</th>\n",
       "      <td>20</td>\n",
       "      <td>Vegetarian</td>\n",
       "      <td>Female</td>\n",
       "      <td>1</td>\n",
       "      <td>NaN</td>\n",
       "      <td>0</td>\n",
       "      <td>0</td>\n",
       "      <td>Household</td>\n",
       "      <td>1</td>\n",
       "      <td>0.0</td>\n",
       "      <td>0.0</td>\n",
       "      <td>NaN</td>\n",
       "      <td>0</td>\n",
       "      <td>0</td>\n",
       "      <td>None</td>\n",
       "    </tr>\n",
       "    <tr>\n",
       "      <th>3</th>\n",
       "      <td>25</td>\n",
       "      <td>Non - Vegetarian</td>\n",
       "      <td>Female</td>\n",
       "      <td>1</td>\n",
       "      <td>0.0</td>\n",
       "      <td>1</td>\n",
       "      <td>0</td>\n",
       "      <td>Outdoor</td>\n",
       "      <td>1</td>\n",
       "      <td>0.0</td>\n",
       "      <td>0.0</td>\n",
       "      <td>0.0</td>\n",
       "      <td>0</td>\n",
       "      <td>0</td>\n",
       "      <td>None</td>\n",
       "    </tr>\n",
       "    <tr>\n",
       "      <th>4</th>\n",
       "      <td>51</td>\n",
       "      <td>Non - Vegetarian</td>\n",
       "      <td>Female</td>\n",
       "      <td>0</td>\n",
       "      <td>0.0</td>\n",
       "      <td>1</td>\n",
       "      <td>0</td>\n",
       "      <td>Office</td>\n",
       "      <td>1</td>\n",
       "      <td>0.0</td>\n",
       "      <td>0.0</td>\n",
       "      <td>0.0</td>\n",
       "      <td>0</td>\n",
       "      <td>0</td>\n",
       "      <td>0</td>\n",
       "    </tr>\n",
       "  </tbody>\n",
       "</table>\n",
       "</div>"
      ],
      "text/plain": [
       "   Age     Eating Habits  Gender  Q29  Q30  Q31  Q32        Q33  Q34  Q35  \\\n",
       "0   38        Vegetarian  Female    1  0.0    1    0  Household    0  1.0   \n",
       "1   38        Vegetarian    Male    1  0.0    0    0     Office    0  0.0   \n",
       "2   20        Vegetarian  Female    1  NaN    0    0  Household    1  0.0   \n",
       "3   25  Non - Vegetarian  Female    1  0.0    1    0    Outdoor    1  0.0   \n",
       "4   51  Non - Vegetarian  Female    0  0.0    1    0     Office    1  0.0   \n",
       "\n",
       "   Q36  Q37  Q38 R_TSH R_B12  \n",
       "0  0.0  0.0    0     0     0  \n",
       "1  0.0  1.0    0     0     1  \n",
       "2  0.0  NaN    0     0  None  \n",
       "3  0.0  0.0    0     0  None  \n",
       "4  0.0  0.0    0     0     0  "
      ]
     },
     "execution_count": 5,
     "metadata": {},
     "output_type": "execute_result"
    }
   ],
   "source": [
    "cursor.execute('select age, eating_habits, gender, Q29, Q30, Q31, Q32, Q33, Q34, Q35, Q36, Q37, Q38, R_TSH, R_B12 from profile, questions, reports where profile.P_Id = questions.P_Id and questions.R_Id = reports.R_Id and R_TSH != \"NULL\"')\n",
    "B12 = pd.DataFrame(list(cursor.fetchall()), columns = ['Age', 'Eating Habits', 'Gender', 'Q29', 'Q30', 'Q31', 'Q32', 'Q33', 'Q34', 'Q35', 'Q36', 'Q37', 'Q38', 'R_TSH', 'R_B12'])\n",
    "B12.head()"
   ]
  },
  {
   "cell_type": "code",
   "execution_count": 6,
   "metadata": {},
   "outputs": [
    {
     "data": {
      "text/html": [
       "<div>\n",
       "<style scoped>\n",
       "    .dataframe tbody tr th:only-of-type {\n",
       "        vertical-align: middle;\n",
       "    }\n",
       "\n",
       "    .dataframe tbody tr th {\n",
       "        vertical-align: top;\n",
       "    }\n",
       "\n",
       "    .dataframe thead th {\n",
       "        text-align: right;\n",
       "    }\n",
       "</style>\n",
       "<table border=\"1\" class=\"dataframe\">\n",
       "  <thead>\n",
       "    <tr style=\"text-align: right;\">\n",
       "      <th></th>\n",
       "      <th>Age</th>\n",
       "      <th>Q29</th>\n",
       "      <th>Q30</th>\n",
       "      <th>Q31</th>\n",
       "      <th>Q32</th>\n",
       "      <th>Q34</th>\n",
       "      <th>Q35</th>\n",
       "      <th>Q36</th>\n",
       "      <th>Q37</th>\n",
       "      <th>Q38</th>\n",
       "    </tr>\n",
       "  </thead>\n",
       "  <tbody>\n",
       "    <tr>\n",
       "      <th>count</th>\n",
       "      <td>63.000000</td>\n",
       "      <td>63.000000</td>\n",
       "      <td>62.000000</td>\n",
       "      <td>63.000000</td>\n",
       "      <td>63.000000</td>\n",
       "      <td>63.000000</td>\n",
       "      <td>62.000000</td>\n",
       "      <td>55.000000</td>\n",
       "      <td>62.000000</td>\n",
       "      <td>63.000000</td>\n",
       "    </tr>\n",
       "    <tr>\n",
       "      <th>mean</th>\n",
       "      <td>47.444444</td>\n",
       "      <td>0.285714</td>\n",
       "      <td>0.387097</td>\n",
       "      <td>0.444444</td>\n",
       "      <td>0.047619</td>\n",
       "      <td>0.650794</td>\n",
       "      <td>0.451613</td>\n",
       "      <td>0.109091</td>\n",
       "      <td>0.322581</td>\n",
       "      <td>0.206349</td>\n",
       "    </tr>\n",
       "    <tr>\n",
       "      <th>std</th>\n",
       "      <td>14.731771</td>\n",
       "      <td>0.455383</td>\n",
       "      <td>0.491062</td>\n",
       "      <td>0.500895</td>\n",
       "      <td>0.214669</td>\n",
       "      <td>0.480548</td>\n",
       "      <td>0.501716</td>\n",
       "      <td>0.314627</td>\n",
       "      <td>0.471280</td>\n",
       "      <td>0.407935</td>\n",
       "    </tr>\n",
       "    <tr>\n",
       "      <th>min</th>\n",
       "      <td>11.000000</td>\n",
       "      <td>0.000000</td>\n",
       "      <td>0.000000</td>\n",
       "      <td>0.000000</td>\n",
       "      <td>0.000000</td>\n",
       "      <td>0.000000</td>\n",
       "      <td>0.000000</td>\n",
       "      <td>0.000000</td>\n",
       "      <td>0.000000</td>\n",
       "      <td>0.000000</td>\n",
       "    </tr>\n",
       "    <tr>\n",
       "      <th>25%</th>\n",
       "      <td>39.000000</td>\n",
       "      <td>0.000000</td>\n",
       "      <td>0.000000</td>\n",
       "      <td>0.000000</td>\n",
       "      <td>0.000000</td>\n",
       "      <td>0.000000</td>\n",
       "      <td>0.000000</td>\n",
       "      <td>0.000000</td>\n",
       "      <td>0.000000</td>\n",
       "      <td>0.000000</td>\n",
       "    </tr>\n",
       "    <tr>\n",
       "      <th>50%</th>\n",
       "      <td>49.000000</td>\n",
       "      <td>0.000000</td>\n",
       "      <td>0.000000</td>\n",
       "      <td>0.000000</td>\n",
       "      <td>0.000000</td>\n",
       "      <td>1.000000</td>\n",
       "      <td>0.000000</td>\n",
       "      <td>0.000000</td>\n",
       "      <td>0.000000</td>\n",
       "      <td>0.000000</td>\n",
       "    </tr>\n",
       "    <tr>\n",
       "      <th>75%</th>\n",
       "      <td>58.000000</td>\n",
       "      <td>1.000000</td>\n",
       "      <td>1.000000</td>\n",
       "      <td>1.000000</td>\n",
       "      <td>0.000000</td>\n",
       "      <td>1.000000</td>\n",
       "      <td>1.000000</td>\n",
       "      <td>0.000000</td>\n",
       "      <td>1.000000</td>\n",
       "      <td>0.000000</td>\n",
       "    </tr>\n",
       "    <tr>\n",
       "      <th>max</th>\n",
       "      <td>73.000000</td>\n",
       "      <td>1.000000</td>\n",
       "      <td>1.000000</td>\n",
       "      <td>1.000000</td>\n",
       "      <td>1.000000</td>\n",
       "      <td>1.000000</td>\n",
       "      <td>1.000000</td>\n",
       "      <td>1.000000</td>\n",
       "      <td>1.000000</td>\n",
       "      <td>1.000000</td>\n",
       "    </tr>\n",
       "  </tbody>\n",
       "</table>\n",
       "</div>"
      ],
      "text/plain": [
       "             Age        Q29        Q30        Q31        Q32        Q34  \\\n",
       "count  63.000000  63.000000  62.000000  63.000000  63.000000  63.000000   \n",
       "mean   47.444444   0.285714   0.387097   0.444444   0.047619   0.650794   \n",
       "std    14.731771   0.455383   0.491062   0.500895   0.214669   0.480548   \n",
       "min    11.000000   0.000000   0.000000   0.000000   0.000000   0.000000   \n",
       "25%    39.000000   0.000000   0.000000   0.000000   0.000000   0.000000   \n",
       "50%    49.000000   0.000000   0.000000   0.000000   0.000000   1.000000   \n",
       "75%    58.000000   1.000000   1.000000   1.000000   0.000000   1.000000   \n",
       "max    73.000000   1.000000   1.000000   1.000000   1.000000   1.000000   \n",
       "\n",
       "             Q35        Q36        Q37        Q38  \n",
       "count  62.000000  55.000000  62.000000  63.000000  \n",
       "mean    0.451613   0.109091   0.322581   0.206349  \n",
       "std     0.501716   0.314627   0.471280   0.407935  \n",
       "min     0.000000   0.000000   0.000000   0.000000  \n",
       "25%     0.000000   0.000000   0.000000   0.000000  \n",
       "50%     0.000000   0.000000   0.000000   0.000000  \n",
       "75%     1.000000   0.000000   1.000000   0.000000  \n",
       "max     1.000000   1.000000   1.000000   1.000000  "
      ]
     },
     "execution_count": 6,
     "metadata": {},
     "output_type": "execute_result"
    }
   ],
   "source": [
    "B12.describe()"
   ]
  },
  {
   "cell_type": "markdown",
   "metadata": {},
   "source": [
    "### B12 vs Eating Habits"
   ]
  },
  {
   "cell_type": "code",
   "execution_count": 7,
   "metadata": {},
   "outputs": [
    {
     "data": {
      "text/html": [
       "<div>\n",
       "<style scoped>\n",
       "    .dataframe tbody tr th:only-of-type {\n",
       "        vertical-align: middle;\n",
       "    }\n",
       "\n",
       "    .dataframe tbody tr th {\n",
       "        vertical-align: top;\n",
       "    }\n",
       "\n",
       "    .dataframe thead th {\n",
       "        text-align: right;\n",
       "    }\n",
       "</style>\n",
       "<table border=\"1\" class=\"dataframe\">\n",
       "  <thead>\n",
       "    <tr style=\"text-align: right;\">\n",
       "      <th>Eating Habits</th>\n",
       "      <th>Eggetarian</th>\n",
       "      <th>Non - Vegetarian</th>\n",
       "      <th>Vegetarian</th>\n",
       "    </tr>\n",
       "    <tr>\n",
       "      <th>R_B12</th>\n",
       "      <th></th>\n",
       "      <th></th>\n",
       "      <th></th>\n",
       "    </tr>\n",
       "  </thead>\n",
       "  <tbody>\n",
       "    <tr>\n",
       "      <th>0</th>\n",
       "      <td>1</td>\n",
       "      <td>7</td>\n",
       "      <td>20</td>\n",
       "    </tr>\n",
       "    <tr>\n",
       "      <th>1</th>\n",
       "      <td>1</td>\n",
       "      <td>3</td>\n",
       "      <td>5</td>\n",
       "    </tr>\n",
       "  </tbody>\n",
       "</table>\n",
       "</div>"
      ],
      "text/plain": [
       "Eating Habits  Eggetarian  Non - Vegetarian  Vegetarian\n",
       "R_B12                                                  \n",
       "0                       1                 7          20\n",
       "1                       1                 3           5"
      ]
     },
     "execution_count": 7,
     "metadata": {},
     "output_type": "execute_result"
    }
   ],
   "source": [
    "B12['Count'] = np.repeat(1, 63)\n",
    "pivot = pd.pivot_table(B12, values='Count', index=['R_B12'], columns=['Eating Habits'], aggfunc=np.sum)\n",
    "pivot"
   ]
  },
  {
   "cell_type": "code",
   "execution_count": 8,
   "metadata": {},
   "outputs": [
    {
     "data": {
      "text/plain": [
       "(1.1452380952380952,\n",
       " 0.5640462385391659,\n",
       " 2,\n",
       " array([[ 1.51351351,  7.56756757, 18.91891892],\n",
       "        [ 0.48648649,  2.43243243,  6.08108108]]))"
      ]
     },
     "execution_count": 8,
     "metadata": {},
     "output_type": "execute_result"
    }
   ],
   "source": [
    "stat = stats.chi2_contingency(pivot)\n",
    "stat"
   ]
  },
  {
   "cell_type": "code",
   "execution_count": 9,
   "metadata": {},
   "outputs": [
    {
     "data": {
      "text/plain": [
       "<matplotlib.axes._subplots.AxesSubplot at 0x181c76b5be0>"
      ]
     },
     "execution_count": 9,
     "metadata": {},
     "output_type": "execute_result"
    },
    {
     "data": {
      "image/png": "[encoded data removed]",
      "text/plain": [
       "<Figure size 432x288 with 1 Axes>"
      ]
     },
     "metadata": {},
     "output_type": "display_data"
    }
   ],
   "source": [
    "pivot.plot(kind='bar')"
   ]
  },
  {
   "cell_type": "code",
   "execution_count": 10,
   "metadata": {},
   "outputs": [
    {
     "data": {
      "text/html": [
       "<div>\n",
       "<style scoped>\n",
       "    .dataframe tbody tr th:only-of-type {\n",
       "        vertical-align: middle;\n",
       "    }\n",
       "\n",
       "    .dataframe tbody tr th {\n",
       "        vertical-align: top;\n",
       "    }\n",
       "\n",
       "    .dataframe thead th {\n",
       "        text-align: right;\n",
       "    }\n",
       "</style>\n",
       "<table border=\"1\" class=\"dataframe\">\n",
       "  <thead>\n",
       "    <tr style=\"text-align: right;\">\n",
       "      <th>Eating Habits</th>\n",
       "      <th>Eggetarian</th>\n",
       "      <th>Non - Vegetarian</th>\n",
       "      <th>Vegetarian</th>\n",
       "      <th>Total Eating Habits</th>\n",
       "      <th>Percentage Eggetarian</th>\n",
       "      <th>Percentage Non - Vegetarian</th>\n",
       "      <th>Pecentage Vegetarian</th>\n",
       "    </tr>\n",
       "  </thead>\n",
       "  <tbody>\n",
       "    <tr>\n",
       "      <th>0</th>\n",
       "      <td>1.0</td>\n",
       "      <td>7.0</td>\n",
       "      <td>20.0</td>\n",
       "      <td>28.0</td>\n",
       "      <td>3.571429</td>\n",
       "      <td>25.000000</td>\n",
       "      <td>71.428571</td>\n",
       "    </tr>\n",
       "    <tr>\n",
       "      <th>1</th>\n",
       "      <td>1.0</td>\n",
       "      <td>3.0</td>\n",
       "      <td>5.0</td>\n",
       "      <td>9.0</td>\n",
       "      <td>11.111111</td>\n",
       "      <td>33.333333</td>\n",
       "      <td>55.555556</td>\n",
       "    </tr>\n",
       "    <tr>\n",
       "      <th>Total B12</th>\n",
       "      <td>2.0</td>\n",
       "      <td>10.0</td>\n",
       "      <td>25.0</td>\n",
       "      <td>NaN</td>\n",
       "      <td>NaN</td>\n",
       "      <td>NaN</td>\n",
       "      <td>NaN</td>\n",
       "    </tr>\n",
       "    <tr>\n",
       "      <th>Percentage 0</th>\n",
       "      <td>50.0</td>\n",
       "      <td>70.0</td>\n",
       "      <td>80.0</td>\n",
       "      <td>NaN</td>\n",
       "      <td>NaN</td>\n",
       "      <td>NaN</td>\n",
       "      <td>NaN</td>\n",
       "    </tr>\n",
       "    <tr>\n",
       "      <th>Percentage 1</th>\n",
       "      <td>50.0</td>\n",
       "      <td>30.0</td>\n",
       "      <td>20.0</td>\n",
       "      <td>NaN</td>\n",
       "      <td>NaN</td>\n",
       "      <td>NaN</td>\n",
       "      <td>NaN</td>\n",
       "    </tr>\n",
       "  </tbody>\n",
       "</table>\n",
       "</div>"
      ],
      "text/plain": [
       "Eating Habits  Eggetarian  Non - Vegetarian  Vegetarian  Total Eating Habits  \\\n",
       "0                     1.0               7.0        20.0                 28.0   \n",
       "1                     1.0               3.0         5.0                  9.0   \n",
       "Total B12             2.0              10.0        25.0                  NaN   \n",
       "Percentage 0         50.0              70.0        80.0                  NaN   \n",
       "Percentage 1         50.0              30.0        20.0                  NaN   \n",
       "\n",
       "Eating Habits  Percentage Eggetarian  Percentage Non - Vegetarian  \\\n",
       "0                           3.571429                    25.000000   \n",
       "1                          11.111111                    33.333333   \n",
       "Total B12                        NaN                          NaN   \n",
       "Percentage 0                     NaN                          NaN   \n",
       "Percentage 1                     NaN                          NaN   \n",
       "\n",
       "Eating Habits  Pecentage Vegetarian  \n",
       "0                         71.428571  \n",
       "1                         55.555556  \n",
       "Total B12                       NaN  \n",
       "Percentage 0                    NaN  \n",
       "Percentage 1                    NaN  "
      ]
     },
     "execution_count": 10,
     "metadata": {},
     "output_type": "execute_result"
    }
   ],
   "source": [
    "Total_B12 = [pivot.iloc[0, :] + pivot.iloc[1, :]]\n",
    "Total_B12 = pd.DataFrame(Total_B12, index = ['Total B12'])\n",
    "piv = pivot.append(Total_B12)\n",
    "Total_EH = pivot['Eggetarian'] + pivot['Non - Vegetarian'] + pivot['Vegetarian']\n",
    "piv['Total Eating Habits'] = Total_EH\n",
    "Percentage_0 = [(piv.iloc[0, :]/piv.iloc[2, :])*100]\n",
    "Percentage_1 = [(piv.iloc[1, :]/piv.iloc[2, :])*100]\n",
    "Percentage_0 = pd.DataFrame(Percentage_0, index = ['Percentage 0'])\n",
    "Percentage_1 = pd.DataFrame(Percentage_1, index = ['Percentage 1'])\n",
    "Percentage_RE = (piv['Eggetarian']/piv['Total Eating Habits'])*100\n",
    "Percentage_RNV = (piv['Non - Vegetarian']/piv['Total Eating Habits'])*100\n",
    "Percentage_RV = (piv['Vegetarian']/piv['Total Eating Habits'])*100\n",
    "piv = piv.append(Percentage_0)\n",
    "piv = piv.append(Percentage_1)\n",
    "piv['Percentage Eggetarian'] = Percentage_RE\n",
    "piv['Percentage Non - Vegetarian'] = Percentage_RNV\n",
    "piv['Pecentage Vegetarian'] = Percentage_RV\n",
    "piv"
   ]
  },
  {
   "cell_type": "markdown",
   "metadata": {},
   "source": [
    "### B12 vs Gender"
   ]
  },
  {
   "cell_type": "code",
   "execution_count": 11,
   "metadata": {},
   "outputs": [
    {
     "data": {
      "text/html": [
       "<div>\n",
       "<style scoped>\n",
       "    .dataframe tbody tr th:only-of-type {\n",
       "        vertical-align: middle;\n",
       "    }\n",
       "\n",
       "    .dataframe tbody tr th {\n",
       "        vertical-align: top;\n",
       "    }\n",
       "\n",
       "    .dataframe thead th {\n",
       "        text-align: right;\n",
       "    }\n",
       "</style>\n",
       "<table border=\"1\" class=\"dataframe\">\n",
       "  <thead>\n",
       "    <tr style=\"text-align: right;\">\n",
       "      <th>Gender</th>\n",
       "      <th>Female</th>\n",
       "      <th>Male</th>\n",
       "    </tr>\n",
       "    <tr>\n",
       "      <th>R_B12</th>\n",
       "      <th></th>\n",
       "      <th></th>\n",
       "    </tr>\n",
       "  </thead>\n",
       "  <tbody>\n",
       "    <tr>\n",
       "      <th>0</th>\n",
       "      <td>19</td>\n",
       "      <td>9</td>\n",
       "    </tr>\n",
       "    <tr>\n",
       "      <th>1</th>\n",
       "      <td>4</td>\n",
       "      <td>5</td>\n",
       "    </tr>\n",
       "  </tbody>\n",
       "</table>\n",
       "</div>"
      ],
      "text/plain": [
       "Gender  Female  Male\n",
       "R_B12               \n",
       "0           19     9\n",
       "1            4     5"
      ]
     },
     "execution_count": 11,
     "metadata": {},
     "output_type": "execute_result"
    }
   ],
   "source": [
    "pivot1 = pd.pivot_table(B12, values='Count', index=['R_B12'], columns=['Gender'], aggfunc=np.sum)\n",
    "pivot1"
   ]
  },
  {
   "cell_type": "code",
   "execution_count": 12,
   "metadata": {},
   "outputs": [
    {
     "data": {
      "text/plain": [
       "(0.747920363797693, 0.38713545568121366, 1, array([[17.40540541, 10.59459459],\n",
       "        [ 5.59459459,  3.40540541]]))"
      ]
     },
     "execution_count": 12,
     "metadata": {},
     "output_type": "execute_result"
    }
   ],
   "source": [
    "stat1 = stats.chi2_contingency(pivot1)\n",
    "stat1"
   ]
  },
  {
   "cell_type": "code",
   "execution_count": 13,
   "metadata": {},
   "outputs": [
    {
     "data": {
      "text/plain": [
       "<matplotlib.axes._subplots.AxesSubplot at 0x181c7a03d30>"
      ]
     },
     "execution_count": 13,
     "metadata": {},
     "output_type": "execute_result"
    },
    {
     "data": {
      "image/png": "[encoded data removed]",
      "text/plain": [
       "<Figure size 432x288 with 1 Axes>"
      ]
     },
     "metadata": {},
     "output_type": "display_data"
    }
   ],
   "source": [
    "pivot1.plot(kind='bar')"
   ]
  },
  {
   "cell_type": "code",
   "execution_count": 14,
   "metadata": {},
   "outputs": [
    {
     "data": {
      "text/html": [
       "<div>\n",
       "<style scoped>\n",
       "    .dataframe tbody tr th:only-of-type {\n",
       "        vertical-align: middle;\n",
       "    }\n",
       "\n",
       "    .dataframe tbody tr th {\n",
       "        vertical-align: top;\n",
       "    }\n",
       "\n",
       "    .dataframe thead th {\n",
       "        text-align: right;\n",
       "    }\n",
       "</style>\n",
       "<table border=\"1\" class=\"dataframe\">\n",
       "  <thead>\n",
       "    <tr style=\"text-align: right;\">\n",
       "      <th>Gender</th>\n",
       "      <th>Female</th>\n",
       "      <th>Male</th>\n",
       "      <th>Total Gender</th>\n",
       "      <th>Percentage Female</th>\n",
       "      <th>Percentage Male</th>\n",
       "    </tr>\n",
       "  </thead>\n",
       "  <tbody>\n",
       "    <tr>\n",
       "      <th>0</th>\n",
       "      <td>19.000000</td>\n",
       "      <td>9.000000</td>\n",
       "      <td>28.0</td>\n",
       "      <td>67.857143</td>\n",
       "      <td>32.142857</td>\n",
       "    </tr>\n",
       "    <tr>\n",
       "      <th>1</th>\n",
       "      <td>4.000000</td>\n",
       "      <td>5.000000</td>\n",
       "      <td>9.0</td>\n",
       "      <td>44.444444</td>\n",
       "      <td>55.555556</td>\n",
       "    </tr>\n",
       "    <tr>\n",
       "      <th>Total B12</th>\n",
       "      <td>23.000000</td>\n",
       "      <td>14.000000</td>\n",
       "      <td>NaN</td>\n",
       "      <td>NaN</td>\n",
       "      <td>NaN</td>\n",
       "    </tr>\n",
       "    <tr>\n",
       "      <th>Percentage 0</th>\n",
       "      <td>82.608696</td>\n",
       "      <td>64.285714</td>\n",
       "      <td>NaN</td>\n",
       "      <td>NaN</td>\n",
       "      <td>NaN</td>\n",
       "    </tr>\n",
       "    <tr>\n",
       "      <th>Percentage 1</th>\n",
       "      <td>17.391304</td>\n",
       "      <td>35.714286</td>\n",
       "      <td>NaN</td>\n",
       "      <td>NaN</td>\n",
       "      <td>NaN</td>\n",
       "    </tr>\n",
       "  </tbody>\n",
       "</table>\n",
       "</div>"
      ],
      "text/plain": [
       "Gender           Female       Male  Total Gender  Percentage Female  \\\n",
       "0             19.000000   9.000000          28.0          67.857143   \n",
       "1              4.000000   5.000000           9.0          44.444444   \n",
       "Total B12     23.000000  14.000000           NaN                NaN   \n",
       "Percentage 0  82.608696  64.285714           NaN                NaN   \n",
       "Percentage 1  17.391304  35.714286           NaN                NaN   \n",
       "\n",
       "Gender        Percentage Male  \n",
       "0                   32.142857  \n",
       "1                   55.555556  \n",
       "Total B12                 NaN  \n",
       "Percentage 0              NaN  \n",
       "Percentage 1              NaN  "
      ]
     },
     "execution_count": 14,
     "metadata": {},
     "output_type": "execute_result"
    }
   ],
   "source": [
    "Total_B12 = [pivot1.iloc[0, :] + pivot1.iloc[1, :]]\n",
    "Total_B12 = pd.DataFrame(Total_B12, index = ['Total B12'])\n",
    "piv = pivot1.append(Total_B12)\n",
    "Total_Gender = pivot1['Female'] + pivot1['Male']\n",
    "piv['Total Gender'] = Total_Gender\n",
    "Percentage_0 = [(piv.iloc[0, :]/piv.iloc[2, :])*100]\n",
    "Percentage_1 = [(piv.iloc[1, :]/piv.iloc[2, :])*100]\n",
    "Percentage_0 = pd.DataFrame(Percentage_0, index = ['Percentage 0'])\n",
    "Percentage_1 = pd.DataFrame(Percentage_1, index = ['Percentage 1'])\n",
    "Percentage_R0 = (piv['Female']/piv['Total Gender'])*100\n",
    "Percentage_R1 = (piv['Male']/piv['Total Gender'])*100\n",
    "piv = piv.append(Percentage_0)\n",
    "piv = piv.append(Percentage_1)\n",
    "piv['Percentage Female'] = Percentage_R0\n",
    "piv['Percentage Male'] = Percentage_R1\n",
    "piv"
   ]
  },
  {
   "cell_type": "code",
   "execution_count": 15,
   "metadata": {},
   "outputs": [
    {
     "name": "stdout",
     "output_type": "stream",
     "text": [
      "Yule's Coefficient of Association:  -0.45038167938931295\n",
      "Odd's Ratio:  0.37894736842105264\n"
     ]
    }
   ],
   "source": [
    "Q = ((piv.iloc[1, 0] * piv.iloc[0, 1]) - (piv.iloc[1, 1] * piv.iloc[0, 0]))/((piv.iloc[1, 0] * piv.iloc[0, 1]) + (piv.iloc[1, 1] * piv.iloc[0, 0]))\n",
    "print(\"Yule's Coefficient of Association: \", Q)\n",
    "O = (piv.iloc[1, 0]*piv.iloc[0, 1])/(piv.iloc[0, 0]*piv.iloc[1, 1])\n",
    "print(\"Odd's Ratio: \", O)"
   ]
  },
  {
   "cell_type": "markdown",
   "metadata": {},
   "source": [
    "### B12 vs Junk Food Consumption"
   ]
  },
  {
   "cell_type": "code",
   "execution_count": 16,
   "metadata": {},
   "outputs": [
    {
     "data": {
      "text/html": [
       "<div>\n",
       "<style scoped>\n",
       "    .dataframe tbody tr th:only-of-type {\n",
       "        vertical-align: middle;\n",
       "    }\n",
       "\n",
       "    .dataframe tbody tr th {\n",
       "        vertical-align: top;\n",
       "    }\n",
       "\n",
       "    .dataframe thead th {\n",
       "        text-align: right;\n",
       "    }\n",
       "</style>\n",
       "<table border=\"1\" class=\"dataframe\">\n",
       "  <thead>\n",
       "    <tr style=\"text-align: right;\">\n",
       "      <th>Q29</th>\n",
       "      <th>0</th>\n",
       "      <th>1</th>\n",
       "    </tr>\n",
       "    <tr>\n",
       "      <th>R_B12</th>\n",
       "      <th></th>\n",
       "      <th></th>\n",
       "    </tr>\n",
       "  </thead>\n",
       "  <tbody>\n",
       "    <tr>\n",
       "      <th>0</th>\n",
       "      <td>21</td>\n",
       "      <td>7</td>\n",
       "    </tr>\n",
       "    <tr>\n",
       "      <th>1</th>\n",
       "      <td>7</td>\n",
       "      <td>2</td>\n",
       "    </tr>\n",
       "  </tbody>\n",
       "</table>\n",
       "</div>"
      ],
      "text/plain": [
       "Q29     0  1\n",
       "R_B12       \n",
       "0      21  7\n",
       "1       7  2"
      ]
     },
     "execution_count": 16,
     "metadata": {},
     "output_type": "execute_result"
    }
   ],
   "source": [
    "pivot2 = pd.pivot_table(B12, values='Count', index=['R_B12'], columns=['Q29'], aggfunc=np.sum)\n",
    "pivot2"
   ]
  },
  {
   "cell_type": "code",
   "execution_count": 17,
   "metadata": {},
   "outputs": [
    {
     "data": {
      "text/plain": [
       "(0.07705420131015368, 0.7813298845128778, 1, array([[21.18918919,  6.81081081],\n",
       "        [ 6.81081081,  2.18918919]]))"
      ]
     },
     "execution_count": 17,
     "metadata": {},
     "output_type": "execute_result"
    }
   ],
   "source": [
    "stat2 = stats.chi2_contingency(pivot2)\n",
    "stat2"
   ]
  },
  {
   "cell_type": "code",
   "execution_count": 18,
   "metadata": {},
   "outputs": [
    {
     "data": {
      "text/plain": [
       "<matplotlib.axes._subplots.AxesSubplot at 0x181c7adcf28>"
      ]
     },
     "execution_count": 18,
     "metadata": {},
     "output_type": "execute_result"
    },
    {
     "data": {
      "image/png": "[encoded data removed]",
      "text/plain": [
       "<Figure size 432x288 with 1 Axes>"
      ]
     },
     "metadata": {},
     "output_type": "display_data"
    }
   ],
   "source": [
    "pivot2.plot(kind='bar')"
   ]
  },
  {
   "cell_type": "code",
   "execution_count": 19,
   "metadata": {},
   "outputs": [
    {
     "data": {
      "text/html": [
       "<div>\n",
       "<style scoped>\n",
       "    .dataframe tbody tr th:only-of-type {\n",
       "        vertical-align: middle;\n",
       "    }\n",
       "\n",
       "    .dataframe tbody tr th {\n",
       "        vertical-align: top;\n",
       "    }\n",
       "\n",
       "    .dataframe thead th {\n",
       "        text-align: right;\n",
       "    }\n",
       "</style>\n",
       "<table border=\"1\" class=\"dataframe\">\n",
       "  <thead>\n",
       "    <tr style=\"text-align: right;\">\n",
       "      <th>Q29</th>\n",
       "      <th>0</th>\n",
       "      <th>1</th>\n",
       "      <th>Total JFC</th>\n",
       "      <th>Percentage 0</th>\n",
       "      <th>Percentage 1</th>\n",
       "    </tr>\n",
       "  </thead>\n",
       "  <tbody>\n",
       "    <tr>\n",
       "      <th>0</th>\n",
       "      <td>21.0</td>\n",
       "      <td>7.000000</td>\n",
       "      <td>28.0</td>\n",
       "      <td>75.000000</td>\n",
       "      <td>25.000000</td>\n",
       "    </tr>\n",
       "    <tr>\n",
       "      <th>1</th>\n",
       "      <td>7.0</td>\n",
       "      <td>2.000000</td>\n",
       "      <td>9.0</td>\n",
       "      <td>77.777778</td>\n",
       "      <td>22.222222</td>\n",
       "    </tr>\n",
       "    <tr>\n",
       "      <th>Total B12</th>\n",
       "      <td>28.0</td>\n",
       "      <td>9.000000</td>\n",
       "      <td>NaN</td>\n",
       "      <td>NaN</td>\n",
       "      <td>NaN</td>\n",
       "    </tr>\n",
       "    <tr>\n",
       "      <th>Percentage 0</th>\n",
       "      <td>75.0</td>\n",
       "      <td>77.777778</td>\n",
       "      <td>NaN</td>\n",
       "      <td>NaN</td>\n",
       "      <td>NaN</td>\n",
       "    </tr>\n",
       "    <tr>\n",
       "      <th>Percentage 1</th>\n",
       "      <td>25.0</td>\n",
       "      <td>22.222222</td>\n",
       "      <td>NaN</td>\n",
       "      <td>NaN</td>\n",
       "      <td>NaN</td>\n",
       "    </tr>\n",
       "  </tbody>\n",
       "</table>\n",
       "</div>"
      ],
      "text/plain": [
       "Q29              0          1  Total JFC  Percentage 0  Percentage 1\n",
       "0             21.0   7.000000       28.0     75.000000     25.000000\n",
       "1              7.0   2.000000        9.0     77.777778     22.222222\n",
       "Total B12     28.0   9.000000        NaN           NaN           NaN\n",
       "Percentage 0  75.0  77.777778        NaN           NaN           NaN\n",
       "Percentage 1  25.0  22.222222        NaN           NaN           NaN"
      ]
     },
     "execution_count": 19,
     "metadata": {},
     "output_type": "execute_result"
    }
   ],
   "source": [
    "Total_B12 = [pivot2.iloc[0, :] + pivot2.iloc[1, :]]\n",
    "Total_B12 = pd.DataFrame(Total_B12, index = ['Total B12'])\n",
    "piv = pivot2.append(Total_B12)\n",
    "Total_JFC = pivot2.iloc[:, 0] + pivot2.iloc[:, 1]\n",
    "piv['Total JFC'] = Total_JFC\n",
    "Percentage_0 = [(piv.iloc[0, :]/piv.iloc[2, :])*100]\n",
    "Percentage_1 = [(piv.iloc[1, :]/piv.iloc[2, :])*100]\n",
    "Percentage_0 = pd.DataFrame(Percentage_0, index = ['Percentage 0'])\n",
    "Percentage_1 = pd.DataFrame(Percentage_1, index = ['Percentage 1'])\n",
    "Percentage_R0 = (piv.iloc[:, 0]/piv['Total JFC'])*100\n",
    "Percentage_R1 = (piv.iloc[:, 1]/piv['Total JFC'])*100\n",
    "piv = piv.append(Percentage_0)\n",
    "piv = piv.append(Percentage_1)\n",
    "piv['Percentage 0'] = Percentage_R0\n",
    "piv['Percentage 1'] = Percentage_R1\n",
    "piv"
   ]
  },
  {
   "cell_type": "code",
   "execution_count": 20,
   "metadata": {},
   "outputs": [
    {
     "name": "stdout",
     "output_type": "stream",
     "text": [
      "Yule's Coefficient of Association:  -0.07692307692307693\n",
      "Odd's Ratio:  1.1666666666666667\n"
     ]
    }
   ],
   "source": [
    "Q = ((piv.iloc[1, 1] * piv.iloc[0, 0]) - (piv.iloc[1, 0] * piv.iloc[0, 1]))/((piv.iloc[1, 1] * piv.iloc[0, 0]) + (piv.iloc[1, 0] * piv.iloc[0, 1]))\n",
    "print(\"Yule's Coefficient of Association: \", Q)\n",
    "O = (piv.iloc[1, 0]*piv.iloc[0, 1])/(piv.iloc[0, 0]*piv.iloc[1, 1])\n",
    "print(\"Odd's Ratio: \", O)"
   ]
  },
  {
   "cell_type": "markdown",
   "metadata": {},
   "source": [
    "### B12 vs Supplement Consumptions"
   ]
  },
  {
   "cell_type": "code",
   "execution_count": 21,
   "metadata": {},
   "outputs": [
    {
     "data": {
      "text/html": [
       "<div>\n",
       "<style scoped>\n",
       "    .dataframe tbody tr th:only-of-type {\n",
       "        vertical-align: middle;\n",
       "    }\n",
       "\n",
       "    .dataframe tbody tr th {\n",
       "        vertical-align: top;\n",
       "    }\n",
       "\n",
       "    .dataframe thead th {\n",
       "        text-align: right;\n",
       "    }\n",
       "</style>\n",
       "<table border=\"1\" class=\"dataframe\">\n",
       "  <thead>\n",
       "    <tr style=\"text-align: right;\">\n",
       "      <th>Q30</th>\n",
       "      <th>0.0</th>\n",
       "      <th>1.0</th>\n",
       "    </tr>\n",
       "    <tr>\n",
       "      <th>R_B12</th>\n",
       "      <th></th>\n",
       "      <th></th>\n",
       "    </tr>\n",
       "  </thead>\n",
       "  <tbody>\n",
       "    <tr>\n",
       "      <th>0</th>\n",
       "      <td>17</td>\n",
       "      <td>11</td>\n",
       "    </tr>\n",
       "    <tr>\n",
       "      <th>1</th>\n",
       "      <td>6</td>\n",
       "      <td>3</td>\n",
       "    </tr>\n",
       "  </tbody>\n",
       "</table>\n",
       "</div>"
      ],
      "text/plain": [
       "Q30    0.0  1.0\n",
       "R_B12          \n",
       "0       17   11\n",
       "1        6    3"
      ]
     },
     "execution_count": 21,
     "metadata": {},
     "output_type": "execute_result"
    }
   ],
   "source": [
    "pivot3 = pd.pivot_table(B12, values='Count', index=['R_B12'], columns=['Q30'], aggfunc=np.sum)\n",
    "pivot3"
   ]
  },
  {
   "cell_type": "code",
   "execution_count": 22,
   "metadata": {},
   "outputs": [
    {
     "data": {
      "text/plain": [
       "(0.005585748792270529,\n",
       " 0.9404232782503615,\n",
       " 1,\n",
       " array([[17.40540541, 10.59459459],\n",
       "        [ 5.59459459,  3.40540541]]))"
      ]
     },
     "execution_count": 22,
     "metadata": {},
     "output_type": "execute_result"
    }
   ],
   "source": [
    "stat3 = stats.chi2_contingency(pivot3)\n",
    "stat3"
   ]
  },
  {
   "cell_type": "code",
   "execution_count": 23,
   "metadata": {},
   "outputs": [
    {
     "data": {
      "text/plain": [
       "<matplotlib.axes._subplots.AxesSubplot at 0x181c7ab1780>"
      ]
     },
     "execution_count": 23,
     "metadata": {},
     "output_type": "execute_result"
    },
    {
     "data": {
      "image/png": "[encoded data removed]",
      "text/plain": [
       "<Figure size 432x288 with 1 Axes>"
      ]
     },
     "metadata": {},
     "output_type": "display_data"
    }
   ],
   "source": [
    "pivot3.plot(kind='bar')"
   ]
  },
  {
   "cell_type": "code",
   "execution_count": 24,
   "metadata": {},
   "outputs": [
    {
     "data": {
      "text/html": [
       "<div>\n",
       "<style scoped>\n",
       "    .dataframe tbody tr th:only-of-type {\n",
       "        vertical-align: middle;\n",
       "    }\n",
       "\n",
       "    .dataframe tbody tr th {\n",
       "        vertical-align: top;\n",
       "    }\n",
       "\n",
       "    .dataframe thead th {\n",
       "        text-align: right;\n",
       "    }\n",
       "</style>\n",
       "<table border=\"1\" class=\"dataframe\">\n",
       "  <thead>\n",
       "    <tr style=\"text-align: right;\">\n",
       "      <th>Q30</th>\n",
       "      <th>0.0</th>\n",
       "      <th>1.0</th>\n",
       "      <th>Total SC</th>\n",
       "      <th>Percentage 0</th>\n",
       "      <th>Percentage 1</th>\n",
       "    </tr>\n",
       "  </thead>\n",
       "  <tbody>\n",
       "    <tr>\n",
       "      <th>0</th>\n",
       "      <td>17.000000</td>\n",
       "      <td>11.000000</td>\n",
       "      <td>28.0</td>\n",
       "      <td>60.714286</td>\n",
       "      <td>39.285714</td>\n",
       "    </tr>\n",
       "    <tr>\n",
       "      <th>1</th>\n",
       "      <td>6.000000</td>\n",
       "      <td>3.000000</td>\n",
       "      <td>9.0</td>\n",
       "      <td>66.666667</td>\n",
       "      <td>33.333333</td>\n",
       "    </tr>\n",
       "    <tr>\n",
       "      <th>Total B12</th>\n",
       "      <td>23.000000</td>\n",
       "      <td>14.000000</td>\n",
       "      <td>NaN</td>\n",
       "      <td>NaN</td>\n",
       "      <td>NaN</td>\n",
       "    </tr>\n",
       "    <tr>\n",
       "      <th>Percentage 0</th>\n",
       "      <td>73.913043</td>\n",
       "      <td>78.571429</td>\n",
       "      <td>NaN</td>\n",
       "      <td>NaN</td>\n",
       "      <td>NaN</td>\n",
       "    </tr>\n",
       "    <tr>\n",
       "      <th>Percentage 1</th>\n",
       "      <td>26.086957</td>\n",
       "      <td>21.428571</td>\n",
       "      <td>NaN</td>\n",
       "      <td>NaN</td>\n",
       "      <td>NaN</td>\n",
       "    </tr>\n",
       "  </tbody>\n",
       "</table>\n",
       "</div>"
      ],
      "text/plain": [
       "Q30                 0.0        1.0  Total SC  Percentage 0  Percentage 1\n",
       "0             17.000000  11.000000      28.0     60.714286     39.285714\n",
       "1              6.000000   3.000000       9.0     66.666667     33.333333\n",
       "Total B12     23.000000  14.000000       NaN           NaN           NaN\n",
       "Percentage 0  73.913043  78.571429       NaN           NaN           NaN\n",
       "Percentage 1  26.086957  21.428571       NaN           NaN           NaN"
      ]
     },
     "execution_count": 24,
     "metadata": {},
     "output_type": "execute_result"
    }
   ],
   "source": [
    "Total_B12 = [pivot3.iloc[0, :] + pivot3.iloc[1, :]]\n",
    "Total_B12 = pd.DataFrame(Total_B12, index = ['Total B12'])\n",
    "piv = pivot3.append(Total_B12)\n",
    "Total_SC = pivot3.iloc[:, 0] + pivot3.iloc[:, 1]\n",
    "piv['Total SC'] = Total_SC\n",
    "Percentage_0 = [(piv.iloc[0, :]/piv.iloc[2, :])*100]\n",
    "Percentage_1 = [(piv.iloc[1, :]/piv.iloc[2, :])*100]\n",
    "Percentage_0 = pd.DataFrame(Percentage_0, index = ['Percentage 0'])\n",
    "Percentage_1 = pd.DataFrame(Percentage_1, index = ['Percentage 1'])\n",
    "Percentage_R0 = (piv.iloc[:, 0]/piv['Total SC'])*100\n",
    "Percentage_R1 = (piv.iloc[:, 1]/piv['Total SC'])*100\n",
    "piv = piv.append(Percentage_0)\n",
    "piv = piv.append(Percentage_1)\n",
    "piv['Percentage 0'] = Percentage_R0\n",
    "piv['Percentage 1'] = Percentage_R1\n",
    "piv"
   ]
  },
  {
   "cell_type": "code",
   "execution_count": 25,
   "metadata": {},
   "outputs": [
    {
     "name": "stdout",
     "output_type": "stream",
     "text": [
      "Yule's Coefficient of Association:  -0.1282051282051282\n",
      "Odd's Ratio:  1.2941176470588236\n"
     ]
    }
   ],
   "source": [
    "Q = ((piv.iloc[1, 1] * piv.iloc[0, 0]) - (piv.iloc[1, 0] * piv.iloc[0, 1]))/((piv.iloc[1, 1] * piv.iloc[0, 0]) + (piv.iloc[1, 0] * piv.iloc[0, 1]))\n",
    "print(\"Yule's Coefficient of Association: \", Q)\n",
    "O = (piv.iloc[1, 0]*piv.iloc[0, 1])/(piv.iloc[0, 0]*piv.iloc[1, 1])\n",
    "print(\"Odd's Ratio: \", O)"
   ]
  },
  {
   "cell_type": "markdown",
   "metadata": {},
   "source": [
    "### B12 vs Pain"
   ]
  },
  {
   "cell_type": "code",
   "execution_count": 26,
   "metadata": {},
   "outputs": [
    {
     "data": {
      "text/html": [
       "<div>\n",
       "<style scoped>\n",
       "    .dataframe tbody tr th:only-of-type {\n",
       "        vertical-align: middle;\n",
       "    }\n",
       "\n",
       "    .dataframe tbody tr th {\n",
       "        vertical-align: top;\n",
       "    }\n",
       "\n",
       "    .dataframe thead th {\n",
       "        text-align: right;\n",
       "    }\n",
       "</style>\n",
       "<table border=\"1\" class=\"dataframe\">\n",
       "  <thead>\n",
       "    <tr style=\"text-align: right;\">\n",
       "      <th>Q31</th>\n",
       "      <th>0</th>\n",
       "      <th>1</th>\n",
       "    </tr>\n",
       "    <tr>\n",
       "      <th>R_B12</th>\n",
       "      <th></th>\n",
       "      <th></th>\n",
       "    </tr>\n",
       "  </thead>\n",
       "  <tbody>\n",
       "    <tr>\n",
       "      <th>0</th>\n",
       "      <td>13</td>\n",
       "      <td>15</td>\n",
       "    </tr>\n",
       "    <tr>\n",
       "      <th>1</th>\n",
       "      <td>7</td>\n",
       "      <td>2</td>\n",
       "    </tr>\n",
       "  </tbody>\n",
       "</table>\n",
       "</div>"
      ],
      "text/plain": [
       "Q31     0   1\n",
       "R_B12        \n",
       "0      13  15\n",
       "1       7   2"
      ]
     },
     "execution_count": 26,
     "metadata": {},
     "output_type": "execute_result"
    }
   ],
   "source": [
    "pivot4 = pd.pivot_table(B12, values='Count', index=['R_B12'], columns=['Q31'], aggfunc=np.sum)\n",
    "pivot4"
   ]
  },
  {
   "cell_type": "code",
   "execution_count": 27,
   "metadata": {},
   "outputs": [
    {
     "data": {
      "text/plain": [
       "(1.580640172735761, 0.2086685058822976, 1, array([[15.13513514, 12.86486486],\n",
       "        [ 4.86486486,  4.13513514]]))"
      ]
     },
     "execution_count": 27,
     "metadata": {},
     "output_type": "execute_result"
    }
   ],
   "source": [
    "stat4 = stats.chi2_contingency(pivot4)\n",
    "stat4"
   ]
  },
  {
   "cell_type": "code",
   "execution_count": 28,
   "metadata": {},
   "outputs": [
    {
     "data": {
      "text/plain": [
       "<matplotlib.axes._subplots.AxesSubplot at 0x181c8b91be0>"
      ]
     },
     "execution_count": 28,
     "metadata": {},
     "output_type": "execute_result"
    },
    {
     "data": {
      "image/png": "[encoded data removed]",
      "text/plain": [
       "<Figure size 432x288 with 1 Axes>"
      ]
     },
     "metadata": {},
     "output_type": "display_data"
    }
   ],
   "source": [
    "pivot4.plot(kind='bar')"
   ]
  },
  {
   "cell_type": "code",
   "execution_count": 29,
   "metadata": {},
   "outputs": [
    {
     "data": {
      "text/html": [
       "<div>\n",
       "<style scoped>\n",
       "    .dataframe tbody tr th:only-of-type {\n",
       "        vertical-align: middle;\n",
       "    }\n",
       "\n",
       "    .dataframe tbody tr th {\n",
       "        vertical-align: top;\n",
       "    }\n",
       "\n",
       "    .dataframe thead th {\n",
       "        text-align: right;\n",
       "    }\n",
       "</style>\n",
       "<table border=\"1\" class=\"dataframe\">\n",
       "  <thead>\n",
       "    <tr style=\"text-align: right;\">\n",
       "      <th>Q31</th>\n",
       "      <th>0</th>\n",
       "      <th>1</th>\n",
       "      <th>Total Pain</th>\n",
       "      <th>Percentage 0</th>\n",
       "      <th>Percentage 1</th>\n",
       "    </tr>\n",
       "  </thead>\n",
       "  <tbody>\n",
       "    <tr>\n",
       "      <th>0</th>\n",
       "      <td>13.0</td>\n",
       "      <td>15.000000</td>\n",
       "      <td>28.0</td>\n",
       "      <td>46.428571</td>\n",
       "      <td>53.571429</td>\n",
       "    </tr>\n",
       "    <tr>\n",
       "      <th>1</th>\n",
       "      <td>7.0</td>\n",
       "      <td>2.000000</td>\n",
       "      <td>9.0</td>\n",
       "      <td>77.777778</td>\n",
       "      <td>22.222222</td>\n",
       "    </tr>\n",
       "    <tr>\n",
       "      <th>Total B12</th>\n",
       "      <td>20.0</td>\n",
       "      <td>17.000000</td>\n",
       "      <td>NaN</td>\n",
       "      <td>NaN</td>\n",
       "      <td>NaN</td>\n",
       "    </tr>\n",
       "    <tr>\n",
       "      <th>Percentage 0</th>\n",
       "      <td>65.0</td>\n",
       "      <td>88.235294</td>\n",
       "      <td>NaN</td>\n",
       "      <td>NaN</td>\n",
       "      <td>NaN</td>\n",
       "    </tr>\n",
       "    <tr>\n",
       "      <th>Percentage 1</th>\n",
       "      <td>35.0</td>\n",
       "      <td>11.764706</td>\n",
       "      <td>NaN</td>\n",
       "      <td>NaN</td>\n",
       "      <td>NaN</td>\n",
       "    </tr>\n",
       "  </tbody>\n",
       "</table>\n",
       "</div>"
      ],
      "text/plain": [
       "Q31              0          1  Total Pain  Percentage 0  Percentage 1\n",
       "0             13.0  15.000000        28.0     46.428571     53.571429\n",
       "1              7.0   2.000000         9.0     77.777778     22.222222\n",
       "Total B12     20.0  17.000000         NaN           NaN           NaN\n",
       "Percentage 0  65.0  88.235294         NaN           NaN           NaN\n",
       "Percentage 1  35.0  11.764706         NaN           NaN           NaN"
      ]
     },
     "execution_count": 29,
     "metadata": {},
     "output_type": "execute_result"
    }
   ],
   "source": [
    "Total_B12 = [pivot4.iloc[0, :] + pivot4.iloc[1, :]]\n",
    "Total_B12 = pd.DataFrame(Total_B12, index = ['Total B12'])\n",
    "piv = pivot4.append(Total_B12)\n",
    "Total_Pain = pivot4.iloc[:, 0] + pivot4.iloc[:, 1]\n",
    "piv['Total Pain'] = Total_Pain\n",
    "Percentage_0 = [(piv.iloc[0, :]/piv.iloc[2, :])*100]\n",
    "Percentage_1 = [(piv.iloc[1, :]/piv.iloc[2, :])*100]\n",
    "Percentage_0 = pd.DataFrame(Percentage_0, index = ['Percentage 0'])\n",
    "Percentage_1 = pd.DataFrame(Percentage_1, index = ['Percentage 1'])\n",
    "Percentage_R0 = (piv.iloc[:, 0]/piv['Total Pain'])*100\n",
    "Percentage_R1 = (piv.iloc[:, 1]/piv['Total Pain'])*100\n",
    "piv = piv.append(Percentage_0)\n",
    "piv = piv.append(Percentage_1)\n",
    "piv['Percentage 0'] = Percentage_R0\n",
    "piv['Percentage 1'] = Percentage_R1\n",
    "piv"
   ]
  },
  {
   "cell_type": "code",
   "execution_count": 30,
   "metadata": {},
   "outputs": [
    {
     "name": "stdout",
     "output_type": "stream",
     "text": [
      "Yule's Coefficient of Association:  -0.6030534351145038\n",
      "Odd's Ratio:  4.038461538461538\n"
     ]
    }
   ],
   "source": [
    "Q = ((piv.iloc[1, 1] * piv.iloc[0, 0]) - (piv.iloc[1, 0] * piv.iloc[0, 1]))/((piv.iloc[1, 1] * piv.iloc[0, 0]) + (piv.iloc[1, 0] * piv.iloc[0, 1]))\n",
    "print(\"Yule's Coefficient of Association: \", Q)\n",
    "O = (piv.iloc[1, 0]*piv.iloc[0, 1])/(piv.iloc[0, 0]*piv.iloc[1, 1])\n",
    "print(\"Odd's Ratio: \", O)"
   ]
  },
  {
   "cell_type": "markdown",
   "metadata": {},
   "source": [
    "### B12 vs RO Water Consumption"
   ]
  },
  {
   "cell_type": "code",
   "execution_count": 31,
   "metadata": {},
   "outputs": [
    {
     "data": {
      "text/html": [
       "<div>\n",
       "<style scoped>\n",
       "    .dataframe tbody tr th:only-of-type {\n",
       "        vertical-align: middle;\n",
       "    }\n",
       "\n",
       "    .dataframe tbody tr th {\n",
       "        vertical-align: top;\n",
       "    }\n",
       "\n",
       "    .dataframe thead th {\n",
       "        text-align: right;\n",
       "    }\n",
       "</style>\n",
       "<table border=\"1\" class=\"dataframe\">\n",
       "  <thead>\n",
       "    <tr style=\"text-align: right;\">\n",
       "      <th>Q34</th>\n",
       "      <th>0</th>\n",
       "      <th>1</th>\n",
       "    </tr>\n",
       "    <tr>\n",
       "      <th>R_B12</th>\n",
       "      <th></th>\n",
       "      <th></th>\n",
       "    </tr>\n",
       "  </thead>\n",
       "  <tbody>\n",
       "    <tr>\n",
       "      <th>0</th>\n",
       "      <td>9</td>\n",
       "      <td>19</td>\n",
       "    </tr>\n",
       "    <tr>\n",
       "      <th>1</th>\n",
       "      <td>3</td>\n",
       "      <td>6</td>\n",
       "    </tr>\n",
       "  </tbody>\n",
       "</table>\n",
       "</div>"
      ],
      "text/plain": [
       "Q34    0   1\n",
       "R_B12       \n",
       "0      9  19\n",
       "1      3   6"
      ]
     },
     "execution_count": 31,
     "metadata": {},
     "output_type": "execute_result"
    }
   ],
   "source": [
    "pivot5 = pd.pivot_table(B12, values='Count', index=['R_B12'], columns=['Q34'], aggfunc=np.sum)\n",
    "pivot5"
   ]
  },
  {
   "cell_type": "code",
   "execution_count": 32,
   "metadata": {},
   "outputs": [
    {
     "data": {
      "text/plain": [
       "(0.11758267195767205, 0.7316712103894272, 1, array([[ 9.08108108, 18.91891892],\n",
       "        [ 2.91891892,  6.08108108]]))"
      ]
     },
     "execution_count": 32,
     "metadata": {},
     "output_type": "execute_result"
    }
   ],
   "source": [
    "stat5 = stats.chi2_contingency(pivot5)\n",
    "stat5"
   ]
  },
  {
   "cell_type": "code",
   "execution_count": 33,
   "metadata": {},
   "outputs": [
    {
     "data": {
      "text/plain": [
       "<matplotlib.axes._subplots.AxesSubplot at 0x181c8c0b9b0>"
      ]
     },
     "execution_count": 33,
     "metadata": {},
     "output_type": "execute_result"
    },
    {
     "data": {
      "image/png": "[encoded data removed]",
      "text/plain": [
       "<Figure size 432x288 with 1 Axes>"
      ]
     },
     "metadata": {},
     "output_type": "display_data"
    }
   ],
   "source": [
    "pivot5.plot(kind='bar')"
   ]
  },
  {
   "cell_type": "code",
   "execution_count": 34,
   "metadata": {},
   "outputs": [
    {
     "data": {
      "text/html": [
       "<div>\n",
       "<style scoped>\n",
       "    .dataframe tbody tr th:only-of-type {\n",
       "        vertical-align: middle;\n",
       "    }\n",
       "\n",
       "    .dataframe tbody tr th {\n",
       "        vertical-align: top;\n",
       "    }\n",
       "\n",
       "    .dataframe thead th {\n",
       "        text-align: right;\n",
       "    }\n",
       "</style>\n",
       "<table border=\"1\" class=\"dataframe\">\n",
       "  <thead>\n",
       "    <tr style=\"text-align: right;\">\n",
       "      <th>Q34</th>\n",
       "      <th>0</th>\n",
       "      <th>1</th>\n",
       "      <th>Total RO</th>\n",
       "      <th>Percentage 0</th>\n",
       "      <th>Percentage 1</th>\n",
       "    </tr>\n",
       "  </thead>\n",
       "  <tbody>\n",
       "    <tr>\n",
       "      <th>0</th>\n",
       "      <td>9.0</td>\n",
       "      <td>19.0</td>\n",
       "      <td>28.0</td>\n",
       "      <td>32.142857</td>\n",
       "      <td>67.857143</td>\n",
       "    </tr>\n",
       "    <tr>\n",
       "      <th>1</th>\n",
       "      <td>3.0</td>\n",
       "      <td>6.0</td>\n",
       "      <td>9.0</td>\n",
       "      <td>33.333333</td>\n",
       "      <td>66.666667</td>\n",
       "    </tr>\n",
       "    <tr>\n",
       "      <th>Total B12</th>\n",
       "      <td>12.0</td>\n",
       "      <td>25.0</td>\n",
       "      <td>NaN</td>\n",
       "      <td>NaN</td>\n",
       "      <td>NaN</td>\n",
       "    </tr>\n",
       "    <tr>\n",
       "      <th>Percentage 0</th>\n",
       "      <td>75.0</td>\n",
       "      <td>76.0</td>\n",
       "      <td>NaN</td>\n",
       "      <td>NaN</td>\n",
       "      <td>NaN</td>\n",
       "    </tr>\n",
       "    <tr>\n",
       "      <th>Percentage 1</th>\n",
       "      <td>25.0</td>\n",
       "      <td>24.0</td>\n",
       "      <td>NaN</td>\n",
       "      <td>NaN</td>\n",
       "      <td>NaN</td>\n",
       "    </tr>\n",
       "  </tbody>\n",
       "</table>\n",
       "</div>"
      ],
      "text/plain": [
       "Q34              0     1  Total RO  Percentage 0  Percentage 1\n",
       "0              9.0  19.0      28.0     32.142857     67.857143\n",
       "1              3.0   6.0       9.0     33.333333     66.666667\n",
       "Total B12     12.0  25.0       NaN           NaN           NaN\n",
       "Percentage 0  75.0  76.0       NaN           NaN           NaN\n",
       "Percentage 1  25.0  24.0       NaN           NaN           NaN"
      ]
     },
     "execution_count": 34,
     "metadata": {},
     "output_type": "execute_result"
    }
   ],
   "source": [
    "Total_B12 = [pivot5.iloc[0, :] + pivot5.iloc[1, :]]\n",
    "Total_B12 = pd.DataFrame(Total_B12, index = ['Total B12'])\n",
    "piv = pivot5.append(Total_B12)\n",
    "Total_RO = pivot5.iloc[:, 0] + pivot5.iloc[:, 1]\n",
    "piv['Total RO'] = Total_RO\n",
    "Percentage_0 = [(piv.iloc[0, :]/piv.iloc[2, :])*100]\n",
    "Percentage_1 = [(piv.iloc[1, :]/piv.iloc[2, :])*100]\n",
    "Percentage_0 = pd.DataFrame(Percentage_0, index = ['Percentage 0'])\n",
    "Percentage_1 = pd.DataFrame(Percentage_1, index = ['Percentage 1'])\n",
    "Percentage_R0 = (piv.iloc[:, 0]/piv['Total RO'])*100\n",
    "Percentage_R1 = (piv.iloc[:, 1]/piv['Total RO'])*100\n",
    "piv = piv.append(Percentage_0)\n",
    "piv = piv.append(Percentage_1)\n",
    "piv['Percentage 0'] = Percentage_R0\n",
    "piv['Percentage 1'] = Percentage_R1\n",
    "piv"
   ]
  },
  {
   "cell_type": "code",
   "execution_count": 35,
   "metadata": {},
   "outputs": [
    {
     "name": "stdout",
     "output_type": "stream",
     "text": [
      "Yule's Coefficient of Association:  -0.02702702702702703\n",
      "Odd's Ratio:  1.0555555555555556\n"
     ]
    }
   ],
   "source": [
    "Q = ((piv.iloc[1, 1] * piv.iloc[0, 0]) - (piv.iloc[1, 0] * piv.iloc[0, 1]))/((piv.iloc[1, 1] * piv.iloc[0, 0]) + (piv.iloc[1, 0] * piv.iloc[0, 1]))\n",
    "print(\"Yule's Coefficient of Association: \", Q)\n",
    "O = (piv.iloc[1, 0]*piv.iloc[0, 1])/(piv.iloc[0, 0]*piv.iloc[1, 1])\n",
    "print(\"Odd's Ratio: \", O)"
   ]
  },
  {
   "cell_type": "markdown",
   "metadata": {},
   "source": [
    "### B12 vs Excessive Blood Loss during Menstruation"
   ]
  },
  {
   "cell_type": "code",
   "execution_count": 41,
   "metadata": {},
   "outputs": [
    {
     "data": {
      "text/html": [
       "<div>\n",
       "<style scoped>\n",
       "    .dataframe tbody tr th:only-of-type {\n",
       "        vertical-align: middle;\n",
       "    }\n",
       "\n",
       "    .dataframe tbody tr th {\n",
       "        vertical-align: top;\n",
       "    }\n",
       "\n",
       "    .dataframe thead th {\n",
       "        text-align: right;\n",
       "    }\n",
       "</style>\n",
       "<table border=\"1\" class=\"dataframe\">\n",
       "  <thead>\n",
       "    <tr style=\"text-align: right;\">\n",
       "      <th>Q36</th>\n",
       "      <th>0.0</th>\n",
       "      <th>1.0</th>\n",
       "    </tr>\n",
       "    <tr>\n",
       "      <th>R_B12</th>\n",
       "      <th></th>\n",
       "      <th></th>\n",
       "    </tr>\n",
       "  </thead>\n",
       "  <tbody>\n",
       "    <tr>\n",
       "      <th>0</th>\n",
       "      <td>16</td>\n",
       "      <td>2</td>\n",
       "    </tr>\n",
       "    <tr>\n",
       "      <th>1</th>\n",
       "      <td>3</td>\n",
       "      <td>1</td>\n",
       "    </tr>\n",
       "  </tbody>\n",
       "</table>\n",
       "</div>"
      ],
      "text/plain": [
       "Q36    0.0  1.0\n",
       "R_B12          \n",
       "0       16    2\n",
       "1        3    1"
      ]
     },
     "execution_count": 41,
     "metadata": {},
     "output_type": "execute_result"
    }
   ],
   "source": [
    "pivot6 = pd.pivot_table(B12[B12['Gender'] == 'Female'], values='Count', index=['R_B12'], columns=['Q36'], aggfunc=np.sum)\n",
    "pivot6"
   ]
  },
  {
   "cell_type": "code",
   "execution_count": 42,
   "metadata": {},
   "outputs": [
    {
     "data": {
      "text/plain": [
       "(0.005360623781676401,\n",
       " 0.9416340109133828,\n",
       " 1,\n",
       " array([[15.54545455,  2.45454545],\n",
       "        [ 3.45454545,  0.54545455]]))"
      ]
     },
     "execution_count": 42,
     "metadata": {},
     "output_type": "execute_result"
    }
   ],
   "source": [
    "stat6 = stats.chi2_contingency(pivot6)\n",
    "stat6"
   ]
  },
  {
   "cell_type": "code",
   "execution_count": 43,
   "metadata": {},
   "outputs": [
    {
     "data": {
      "text/plain": [
       "<matplotlib.axes._subplots.AxesSubplot at 0x181c8cf0278>"
      ]
     },
     "execution_count": 43,
     "metadata": {},
     "output_type": "execute_result"
    },
    {
     "data": {
      "image/png": "[encoded data removed]",
      "text/plain": [
       "<Figure size 432x288 with 1 Axes>"
      ]
     },
     "metadata": {},
     "output_type": "display_data"
    }
   ],
   "source": [
    "pivot6.plot(kind='bar')"
   ]
  },
  {
   "cell_type": "code",
   "execution_count": 44,
   "metadata": {},
   "outputs": [
    {
     "data": {
      "text/html": [
       "<div>\n",
       "<style scoped>\n",
       "    .dataframe tbody tr th:only-of-type {\n",
       "        vertical-align: middle;\n",
       "    }\n",
       "\n",
       "    .dataframe tbody tr th {\n",
       "        vertical-align: top;\n",
       "    }\n",
       "\n",
       "    .dataframe thead th {\n",
       "        text-align: right;\n",
       "    }\n",
       "</style>\n",
       "<table border=\"1\" class=\"dataframe\">\n",
       "  <thead>\n",
       "    <tr style=\"text-align: right;\">\n",
       "      <th>Q36</th>\n",
       "      <th>0.0</th>\n",
       "      <th>1.0</th>\n",
       "      <th>Total BL</th>\n",
       "      <th>Percentage 0</th>\n",
       "      <th>Percentage 1</th>\n",
       "    </tr>\n",
       "  </thead>\n",
       "  <tbody>\n",
       "    <tr>\n",
       "      <th>0</th>\n",
       "      <td>16.000000</td>\n",
       "      <td>2.000000</td>\n",
       "      <td>18.0</td>\n",
       "      <td>88.888889</td>\n",
       "      <td>11.111111</td>\n",
       "    </tr>\n",
       "    <tr>\n",
       "      <th>1</th>\n",
       "      <td>3.000000</td>\n",
       "      <td>1.000000</td>\n",
       "      <td>4.0</td>\n",
       "      <td>75.000000</td>\n",
       "      <td>25.000000</td>\n",
       "    </tr>\n",
       "    <tr>\n",
       "      <th>Total B12</th>\n",
       "      <td>19.000000</td>\n",
       "      <td>3.000000</td>\n",
       "      <td>NaN</td>\n",
       "      <td>NaN</td>\n",
       "      <td>NaN</td>\n",
       "    </tr>\n",
       "    <tr>\n",
       "      <th>Percentage 0</th>\n",
       "      <td>84.210526</td>\n",
       "      <td>66.666667</td>\n",
       "      <td>NaN</td>\n",
       "      <td>NaN</td>\n",
       "      <td>NaN</td>\n",
       "    </tr>\n",
       "    <tr>\n",
       "      <th>Percentage 1</th>\n",
       "      <td>15.789474</td>\n",
       "      <td>33.333333</td>\n",
       "      <td>NaN</td>\n",
       "      <td>NaN</td>\n",
       "      <td>NaN</td>\n",
       "    </tr>\n",
       "  </tbody>\n",
       "</table>\n",
       "</div>"
      ],
      "text/plain": [
       "Q36                 0.0        1.0  Total BL  Percentage 0  Percentage 1\n",
       "0             16.000000   2.000000      18.0     88.888889     11.111111\n",
       "1              3.000000   1.000000       4.0     75.000000     25.000000\n",
       "Total B12     19.000000   3.000000       NaN           NaN           NaN\n",
       "Percentage 0  84.210526  66.666667       NaN           NaN           NaN\n",
       "Percentage 1  15.789474  33.333333       NaN           NaN           NaN"
      ]
     },
     "execution_count": 44,
     "metadata": {},
     "output_type": "execute_result"
    }
   ],
   "source": [
    "Total_B12 = [pivot6.iloc[0, :] + pivot6.iloc[1, :]]\n",
    "Total_B12 = pd.DataFrame(Total_B12, index = ['Total B12'])\n",
    "piv = pivot6.append(Total_B12)\n",
    "Total_BL = pivot6.iloc[:, 0] + pivot6.iloc[:, 1]\n",
    "piv['Total BL'] = Total_BL\n",
    "Percentage_0 = [(piv.iloc[0, :]/piv.iloc[2, :])*100]\n",
    "Percentage_1 = [(piv.iloc[1, :]/piv.iloc[2, :])*100]\n",
    "Percentage_0 = pd.DataFrame(Percentage_0, index = ['Percentage 0'])\n",
    "Percentage_1 = pd.DataFrame(Percentage_1, index = ['Percentage 1'])\n",
    "Percentage_R0 = (piv.iloc[:, 0]/piv['Total BL'])*100\n",
    "Percentage_R1 = (piv.iloc[:, 1]/piv['Total BL'])*100\n",
    "piv = piv.append(Percentage_0)\n",
    "piv = piv.append(Percentage_1)\n",
    "piv['Percentage 0'] = Percentage_R0\n",
    "piv['Percentage 1'] = Percentage_R1\n",
    "piv"
   ]
  },
  {
   "cell_type": "code",
   "execution_count": 45,
   "metadata": {},
   "outputs": [
    {
     "name": "stdout",
     "output_type": "stream",
     "text": [
      "Yule's Coefficient of Association:  0.45454545454545453\n",
      "Odd's Ratio:  0.375\n"
     ]
    }
   ],
   "source": [
    "Q = ((piv.iloc[1, 1] * piv.iloc[0, 0]) - (piv.iloc[1, 0] * piv.iloc[0, 1]))/((piv.iloc[1, 1] * piv.iloc[0, 0]) + (piv.iloc[1, 0] * piv.iloc[0, 1]))\n",
    "print(\"Yule's Coefficient of Association: \", Q)\n",
    "O = (piv.iloc[1, 0]*piv.iloc[0, 1])/(piv.iloc[0, 0]*piv.iloc[1, 1])\n",
    "print(\"Odd's Ratio: \", O)"
   ]
  },
  {
   "cell_type": "code",
   "execution_count": null,
   "metadata": {},
   "outputs": [],
   "source": []
  }
 ],
 "metadata": {
  "kernelspec": {
   "display_name": "Python 3",
   "language": "python",
   "name": "python3"
  },
  "language_info": {
   "codemirror_mode": {
    "name": "ipython",
    "version": 3
   },
   "file_extension": ".py",
   "mimetype": "text/x-python",
   "name": "python",
   "nbconvert_exporter": "python",
   "pygments_lexer": "ipython3",
   "version": "3.6.5"
  }
 },
 "nbformat": 4,
 "nbformat_minor": 2
}
